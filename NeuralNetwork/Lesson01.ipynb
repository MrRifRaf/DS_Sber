{
 "cells": [
  {
   "cell_type": "code",
   "execution_count": 1,
   "id": "c3999f30",
   "metadata": {
    "ExecuteTime": {
     "end_time": "2022-11-06T10:51:17.942728Z",
     "start_time": "2022-11-06T10:51:16.935569Z"
    }
   },
   "outputs": [],
   "source": [
    "import torch"
   ]
  },
  {
   "cell_type": "code",
   "execution_count": 2,
   "id": "0e77cefd",
   "metadata": {
    "ExecuteTime": {
     "end_time": "2022-11-06T10:51:17.958729Z",
     "start_time": "2022-11-06T10:51:17.945728Z"
    }
   },
   "outputs": [],
   "source": [
    "import numpy as np"
   ]
  },
  {
   "cell_type": "code",
   "execution_count": 3,
   "id": "2e09d97c",
   "metadata": {
    "ExecuteTime": {
     "end_time": "2022-11-06T10:51:17.973738Z",
     "start_time": "2022-11-06T10:51:17.961730Z"
    }
   },
   "outputs": [],
   "source": [
    "zeros_np  = np.zeros((4, 4))\n",
    "ones_np   = np.ones((4, 4))\n",
    "random_np = np.random.random((4, 4))"
   ]
  },
  {
   "cell_type": "code",
   "execution_count": 4,
   "id": "4ed0b684",
   "metadata": {
    "ExecuteTime": {
     "end_time": "2022-11-06T10:51:17.989727Z",
     "start_time": "2022-11-06T10:51:17.976729Z"
    }
   },
   "outputs": [],
   "source": [
    "zeros_t  = torch.zeros(4, 4)\n",
    "ones_t   = torch.ones(4, 4)\n",
    "random_t = torch.rand(4, 4)"
   ]
  },
  {
   "cell_type": "code",
   "execution_count": 5,
   "id": "403010d2",
   "metadata": {
    "ExecuteTime": {
     "end_time": "2022-11-06T10:51:18.005738Z",
     "start_time": "2022-11-06T10:51:17.993730Z"
    }
   },
   "outputs": [],
   "source": [
    "# Numpy -> PyTorch\n",
    "tensor = torch.from_numpy(random_np)\n",
    "\n",
    "# PyTorch -> Numpy\n",
    "random_np = tensor.numpy()\n",
    "#отсоединение графа градиентов\n",
    "random_np = tensor.detach().numpy()"
   ]
  },
  {
   "cell_type": "code",
   "execution_count": 6,
   "id": "7178a24f",
   "metadata": {
    "ExecuteTime": {
     "end_time": "2022-11-06T10:51:18.021749Z",
     "start_time": "2022-11-06T10:51:18.009730Z"
    }
   },
   "outputs": [
    {
     "name": "stdout",
     "output_type": "stream",
     "text": [
      "0.10820612389628614\n",
      "[0.10820612 0.92083275 0.85145939 0.42212981]\n"
     ]
    }
   ],
   "source": [
    "# Index item\n",
    "print(random_np[0, 0]) # returns a float\n",
    "\n",
    "# Index row\n",
    "print(random_np[0, :]) # returns an array"
   ]
  },
  {
   "cell_type": "code",
   "execution_count": 7,
   "id": "8e882cb9",
   "metadata": {
    "ExecuteTime": {
     "end_time": "2022-11-06T10:51:18.052737Z",
     "start_time": "2022-11-06T10:51:18.026732Z"
    }
   },
   "outputs": [
    {
     "name": "stdout",
     "output_type": "stream",
     "text": [
      "tensor(0.2658)\n",
      "tensor([0.2658, 0.6196, 0.7579, 0.5497])\n"
     ]
    }
   ],
   "source": [
    "# Index item\n",
    "print(random_t[0, 0]) # returns a float\n",
    "\n",
    "# Index row\n",
    "print(random_t[0, :]) # returns an array"
   ]
  },
  {
   "cell_type": "code",
   "execution_count": 8,
   "id": "1c982027",
   "metadata": {
    "ExecuteTime": {
     "end_time": "2022-11-06T10:51:18.068729Z",
     "start_time": "2022-11-06T10:51:18.056731Z"
    }
   },
   "outputs": [
    {
     "name": "stdout",
     "output_type": "stream",
     "text": [
      "[[-0.89179388 -0.07916725 -0.14854061 -0.57787019]\n",
      " [-0.86447017 -0.86798703 -0.28741884 -0.53677545]\n",
      " [-0.59485214 -0.6906119  -0.20254921 -0.99700485]\n",
      " [-0.42558716 -0.44669514 -0.27393629 -0.07463302]]\n",
      "[[1.10820612 1.92083275 1.85145939 1.42212981]\n",
      " [1.13552983 1.13201297 1.71258116 1.46322455]\n",
      " [1.40514786 1.3093881  1.79745079 1.00299515]\n",
      " [1.57441284 1.55330486 1.72606371 1.92536698]]\n"
     ]
    }
   ],
   "source": [
    "print(random_np - ones_np)\n",
    "print(random_np + ones_np)"
   ]
  },
  {
   "cell_type": "code",
   "execution_count": 9,
   "id": "3d8a11c6",
   "metadata": {
    "ExecuteTime": {
     "end_time": "2022-11-06T10:51:18.084729Z",
     "start_time": "2022-11-06T10:51:18.071730Z"
    }
   },
   "outputs": [
    {
     "name": "stdout",
     "output_type": "stream",
     "text": [
      "tensor([[-0.7342, -0.3804, -0.2421, -0.4503],\n",
      "        [-0.4484, -0.1205, -0.6717, -0.0604],\n",
      "        [-0.9896, -0.1934, -0.6762, -0.5071],\n",
      "        [-0.6581, -0.5755, -0.3359, -0.5229]])\n",
      "tensor([[1.2658, 1.6196, 1.7579, 1.5497],\n",
      "        [1.5516, 1.8795, 1.3283, 1.9396],\n",
      "        [1.0104, 1.8066, 1.3238, 1.4929],\n",
      "        [1.3419, 1.4245, 1.6641, 1.4771]])\n"
     ]
    }
   ],
   "source": [
    "print(random_t - ones_t)\n",
    "print(random_t + ones_t)"
   ]
  },
  {
   "cell_type": "code",
   "execution_count": 10,
   "id": "f9939880",
   "metadata": {
    "ExecuteTime": {
     "end_time": "2022-11-06T10:51:18.100739Z",
     "start_time": "2022-11-06T10:51:18.086728Z"
    }
   },
   "outputs": [
    {
     "name": "stdout",
     "output_type": "stream",
     "text": [
      "[[0.10820612 0.92083275 0.85145939 0.42212981]\n",
      " [0.13552983 0.13201297 0.71258116 0.46322455]\n",
      " [0.40514786 0.3093881  0.79745079 0.00299515]\n",
      " [0.57441284 0.55330486 0.72606371 0.92536698]]\n"
     ]
    }
   ],
   "source": [
    "print(random_np * ones_np) ##Elementwise"
   ]
  },
  {
   "cell_type": "code",
   "execution_count": 11,
   "id": "568527f0",
   "metadata": {
    "ExecuteTime": {
     "end_time": "2022-11-06T10:51:18.116729Z",
     "start_time": "2022-11-06T10:51:18.105731Z"
    }
   },
   "outputs": [
    {
     "name": "stdout",
     "output_type": "stream",
     "text": [
      "[[2.30262807 2.30262807 2.30262807 2.30262807]\n",
      " [1.44334851 1.44334851 1.44334851 1.44334851]\n",
      " [1.5149819  1.5149819  1.5149819  1.5149819 ]\n",
      " [2.77914838 2.77914838 2.77914838 2.77914838]]\n"
     ]
    }
   ],
   "source": [
    "print(random_np @ ones_np) ## Matrix"
   ]
  },
  {
   "cell_type": "code",
   "execution_count": 12,
   "id": "85c05ca5",
   "metadata": {
    "ExecuteTime": {
     "end_time": "2022-11-06T10:51:45.767243Z",
     "start_time": "2022-11-06T10:51:45.751590Z"
    }
   },
   "outputs": [
    {
     "name": "stdout",
     "output_type": "stream",
     "text": [
      "(4, 4)\n",
      "2\n"
     ]
    }
   ],
   "source": [
    "print(random_np.shape)\n",
    "print(random_np.ndim)"
   ]
  },
  {
   "cell_type": "code",
   "execution_count": 13,
   "id": "b650921e",
   "metadata": {
    "ExecuteTime": {
     "end_time": "2022-11-06T10:52:09.712355Z",
     "start_time": "2022-11-06T10:52:09.689367Z"
    }
   },
   "outputs": [
    {
     "name": "stdout",
     "output_type": "stream",
     "text": [
      "torch.Size([4, 4])\n",
      "torch.Size([4, 4])\n",
      "<built-in method dim of Tensor object at 0x0000027C1012E540>\n"
     ]
    }
   ],
   "source": [
    "print(random_t.shape)\n",
    "print(random_t.size()) \n",
    "assert random_t.shape==random_t.size()\n",
    "print(random_t.dim)"
   ]
  },
  {
   "cell_type": "code",
   "execution_count": 38,
   "id": "9a487fbb",
   "metadata": {
    "ExecuteTime": {
     "end_time": "2022-11-06T12:26:25.275483Z",
     "start_time": "2022-11-06T12:26:25.262544Z"
    }
   },
   "outputs": [
    {
     "name": "stdout",
     "output_type": "stream",
     "text": [
      "4\n"
     ]
    }
   ],
   "source": [
    "print(random_t.size()[1])"
   ]
  },
  {
   "cell_type": "code",
   "execution_count": 14,
   "id": "2f2d8fdb",
   "metadata": {
    "ExecuteTime": {
     "end_time": "2022-11-06T10:52:55.186203Z",
     "start_time": "2022-11-06T10:52:55.178166Z"
    }
   },
   "outputs": [
    {
     "name": "stdout",
     "output_type": "stream",
     "text": [
      "(4, 4) (8, 2)\n"
     ]
    }
   ],
   "source": [
    "print(random_np.shape, (random_np.reshape((8,2)).shape))"
   ]
  },
  {
   "cell_type": "code",
   "execution_count": 15,
   "id": "c7a3d353",
   "metadata": {
    "ExecuteTime": {
     "end_time": "2022-11-06T10:53:15.190194Z",
     "start_time": "2022-11-06T10:53:15.170086Z"
    }
   },
   "outputs": [
    {
     "name": "stdout",
     "output_type": "stream",
     "text": [
      "torch.Size([4, 4]) torch.Size([8, 2])\n"
     ]
    }
   ],
   "source": [
    "print(random_t.shape, (random_t.view(8, 2).shape))"
   ]
  },
  {
   "cell_type": "code",
   "execution_count": 16,
   "id": "66f97a99",
   "metadata": {
    "ExecuteTime": {
     "end_time": "2022-11-06T10:53:32.248363Z",
     "start_time": "2022-11-06T10:53:32.226122Z"
    }
   },
   "outputs": [
    {
     "data": {
      "text/plain": [
       "0.0"
      ]
     },
     "execution_count": 16,
     "metadata": {},
     "output_type": "execute_result"
    }
   ],
   "source": [
    "np.linalg.det(ones_np)"
   ]
  },
  {
   "cell_type": "code",
   "execution_count": 17,
   "id": "f7ec2871",
   "metadata": {
    "ExecuteTime": {
     "end_time": "2022-11-06T10:53:58.844803Z",
     "start_time": "2022-11-06T10:53:58.832805Z"
    }
   },
   "outputs": [],
   "source": [
    "# pytorch doesn't have determinant function"
   ]
  },
  {
   "cell_type": "code",
   "execution_count": 18,
   "id": "91614dcc",
   "metadata": {
    "ExecuteTime": {
     "end_time": "2022-11-06T10:54:14.898717Z",
     "start_time": "2022-11-06T10:54:14.871445Z"
    }
   },
   "outputs": [
    {
     "name": "stdout",
     "output_type": "stream",
     "text": [
      "16.0 1.0 0.0\n",
      "tensor(16.) tensor(1.) tensor(0.)\n"
     ]
    }
   ],
   "source": [
    "print(ones_np.sum(), ones_np.mean(), ones_np.std())\n",
    "print(ones_t.sum(), ones_t.mean(), ones_t.std())"
   ]
  },
  {
   "cell_type": "code",
   "execution_count": 19,
   "id": "3f0e1c70",
   "metadata": {
    "ExecuteTime": {
     "end_time": "2022-11-06T10:54:30.200139Z",
     "start_time": "2022-11-06T10:54:30.193193Z"
    }
   },
   "outputs": [
    {
     "name": "stdout",
     "output_type": "stream",
     "text": [
      "[[0.10820612 0.92083275 0.85145939 0.42212981]\n",
      " [0.13552983 0.13201297 0.71258116 0.46322455]\n",
      " [0.40514786 0.3093881  0.79745079 0.00299515]\n",
      " [0.57441284 0.55330486 0.72606371 0.92536698]]\n",
      "[[0.10820612 0.13552983 0.40514786 0.57441284]\n",
      " [0.92083275 0.13201297 0.3093881  0.55330486]\n",
      " [0.85145939 0.71258116 0.79745079 0.72606371]\n",
      " [0.42212981 0.46322455 0.00299515 0.92536698]]\n"
     ]
    }
   ],
   "source": [
    "print(random_np)\n",
    "print(random_np.T)"
   ]
  },
  {
   "cell_type": "code",
   "execution_count": 20,
   "id": "b9e3610b",
   "metadata": {
    "ExecuteTime": {
     "end_time": "2022-11-06T10:54:43.070932Z",
     "start_time": "2022-11-06T10:54:43.041762Z"
    }
   },
   "outputs": [
    {
     "name": "stdout",
     "output_type": "stream",
     "text": [
      "tensor([[0.2658, 0.6196, 0.7579, 0.5497],\n",
      "        [0.5516, 0.8795, 0.3283, 0.9396],\n",
      "        [0.0104, 0.8066, 0.3238, 0.4929],\n",
      "        [0.3419, 0.4245, 0.6641, 0.4771]])\n",
      "tensor([[0.2658, 0.5516, 0.0104, 0.3419],\n",
      "        [0.6196, 0.8795, 0.8066, 0.4245],\n",
      "        [0.7579, 0.3283, 0.3238, 0.6641],\n",
      "        [0.5497, 0.9396, 0.4929, 0.4771]])\n"
     ]
    }
   ],
   "source": [
    "print(random_t)\n",
    "print(random_t.t())"
   ]
  },
  {
   "cell_type": "code",
   "execution_count": 27,
   "id": "8f1064cc",
   "metadata": {
    "ExecuteTime": {
     "end_time": "2022-11-06T12:08:31.703300Z",
     "start_time": "2022-11-06T12:08:31.683302Z"
    }
   },
   "outputs": [
    {
     "name": "stdout",
     "output_type": "stream",
     "text": [
      "tensor([[0.0000, 0.1196, 0.2579, 0.0497],\n",
      "        [0.0516, 0.3795, 0.0000, 0.4396],\n",
      "        [0.0000, 0.3066, 0.0000, 0.0000],\n",
      "        [0.0000, 0.0000, 0.1641, 0.0000]])\n"
     ]
    }
   ],
   "source": [
    "print(torch.maximum(torch.zeros_like(random_t), random_t - 0.5))"
   ]
  },
  {
   "cell_type": "code",
   "execution_count": 34,
   "id": "15d6a405",
   "metadata": {
    "ExecuteTime": {
     "end_time": "2022-11-06T12:09:58.226435Z",
     "start_time": "2022-11-06T12:09:58.210447Z"
    }
   },
   "outputs": [],
   "source": [
    "new_t = random_t - 0.5"
   ]
  },
  {
   "cell_type": "code",
   "execution_count": 35,
   "id": "be78d574",
   "metadata": {
    "ExecuteTime": {
     "end_time": "2022-11-06T12:10:03.611701Z",
     "start_time": "2022-11-06T12:10:03.602235Z"
    }
   },
   "outputs": [
    {
     "data": {
      "text/plain": [
       "tensor([[-0.2342,  0.1196,  0.2579,  0.0497],\n",
       "        [ 0.0516,  0.3795, -0.1717,  0.4396],\n",
       "        [-0.4896,  0.3066, -0.1762, -0.0071],\n",
       "        [-0.1581, -0.0755,  0.1641, -0.0229]])"
      ]
     },
     "execution_count": 35,
     "metadata": {},
     "output_type": "execute_result"
    }
   ],
   "source": [
    "new_t"
   ]
  },
  {
   "cell_type": "code",
   "execution_count": 32,
   "id": "8e9655d7",
   "metadata": {
    "ExecuteTime": {
     "end_time": "2022-11-06T12:09:42.347267Z",
     "start_time": "2022-11-06T12:09:42.282395Z"
    }
   },
   "outputs": [],
   "source": [
    "new_t[new_t <= 0] = 0"
   ]
  },
  {
   "cell_type": "code",
   "execution_count": 33,
   "id": "163f19cb",
   "metadata": {
    "ExecuteTime": {
     "end_time": "2022-11-06T12:09:46.029048Z",
     "start_time": "2022-11-06T12:09:46.015409Z"
    }
   },
   "outputs": [
    {
     "data": {
      "text/plain": [
       "tensor([[0.0000, 0.1196, 0.2579, 0.0497],\n",
       "        [0.0516, 0.3795, 0.0000, 0.4396],\n",
       "        [0.0000, 0.3066, 0.0000, 0.0000],\n",
       "        [0.0000, 0.0000, 0.1641, 0.0000]])"
      ]
     },
     "execution_count": 33,
     "metadata": {},
     "output_type": "execute_result"
    }
   ],
   "source": [
    "new_t"
   ]
  },
  {
   "cell_type": "code",
   "execution_count": 36,
   "id": "6d01c918",
   "metadata": {
    "ExecuteTime": {
     "end_time": "2022-11-06T12:13:32.166832Z",
     "start_time": "2022-11-06T12:13:32.151205Z"
    }
   },
   "outputs": [
    {
     "data": {
      "text/plain": [
       "tensor([[-0.4684,  0.2391,  0.5158,  0.0994],\n",
       "        [ 0.1032,  0.7590, -0.3435,  0.8792],\n",
       "        [-0.9792,  0.6132, -0.3523, -0.0143],\n",
       "        [-0.3161, -0.1510,  0.3281, -0.0459]])"
      ]
     },
     "execution_count": 36,
     "metadata": {},
     "output_type": "execute_result"
    }
   ],
   "source": [
    "2 * (random_t - 0.5)"
   ]
  },
  {
   "cell_type": "code",
   "execution_count": 48,
   "id": "8c17b0c9",
   "metadata": {
    "ExecuteTime": {
     "end_time": "2022-11-06T12:33:59.390437Z",
     "start_time": "2022-11-06T12:33:59.368448Z"
    }
   },
   "outputs": [
    {
     "name": "stdout",
     "output_type": "stream",
     "text": [
      "tensor([[0.2658, 0.6196, 0.7579, 0.5497],\n",
      "        [0.5516, 0.8795, 0.3283, 0.9396],\n",
      "        [0.0104, 0.8066, 0.3238, 0.4929],\n",
      "        [0.3419, 0.4245, 0.6641, 0.4771]])\n"
     ]
    },
    {
     "data": {
      "text/plain": [
       "tensor([[2.1929],\n",
       "        [2.6990],\n",
       "        [1.6337],\n",
       "        [1.9075]])"
      ]
     },
     "execution_count": 48,
     "metadata": {},
     "output_type": "execute_result"
    }
   ],
   "source": [
    "print(random_t)\n",
    "torch.sum(random_t, 1, keepdims=True)"
   ]
  },
  {
   "cell_type": "code",
   "execution_count": 47,
   "id": "0cc406e6",
   "metadata": {
    "ExecuteTime": {
     "end_time": "2022-11-06T12:33:44.813289Z",
     "start_time": "2022-11-06T12:33:44.795295Z"
    }
   },
   "outputs": [
    {
     "data": {
      "text/plain": [
       "array([[2.30262807],\n",
       "       [1.44334851],\n",
       "       [1.5149819 ],\n",
       "       [2.77914838]])"
      ]
     },
     "execution_count": 47,
     "metadata": {},
     "output_type": "execute_result"
    }
   ],
   "source": [
    "np.sum(random_np, axis=1, keepdims=True)"
   ]
  }
 ],
 "metadata": {
  "kernelspec": {
   "display_name": "Python 3 (ipykernel)",
   "language": "python",
   "name": "python3"
  },
  "language_info": {
   "codemirror_mode": {
    "name": "ipython",
    "version": 3
   },
   "file_extension": ".py",
   "mimetype": "text/x-python",
   "name": "python",
   "nbconvert_exporter": "python",
   "pygments_lexer": "ipython3",
   "version": "3.9.4"
  }
 },
 "nbformat": 4,
 "nbformat_minor": 5
}
