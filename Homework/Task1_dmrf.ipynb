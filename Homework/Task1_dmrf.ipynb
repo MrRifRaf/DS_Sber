{
 "cells": [
  {
   "cell_type": "markdown",
   "metadata": {
    "pycharm": {
     "name": "#%% md\n"
    }
   },
   "source": [
    "[![Open In Colab](https://colab.research.google.com/assets/colab-badge.svg)](https://colab.research.google.com/github/ds-reboot/python-first-part/blob/main/notebooks/hometasks/Task1_dmrf.ipynb)"
   ]
  },
  {
   "cell_type": "markdown",
   "metadata": {
    "pycharm": {
     "name": "#%% md\n"
    }
   },
   "source": [
    "# Задание\n",
    "* Собрать информацию о всех строящихся объектах на сайте \"наш.дом.рф\"\n",
    "* Cохранить ее в pandas dataframe\n",
    "* Cохранить pandas dataframe в excel\n",
    "* Cохранить pandas dataframe в pickle\n",
    "* Cохранить pandas dataframe в БД\n",
    "\n",
    "# Задание *\n",
    "* Написать скрипт, который скачивает фотографии всех строящихся объектов с сайта \"наш.дом.рф\"\n"
   ]
  },
  {
   "cell_type": "code",
   "execution_count": 1,
   "metadata": {
    "pycharm": {
     "name": "#%%\n"
    }
   },
   "outputs": [],
   "source": [
    "import requests"
   ]
  },
  {
   "cell_type": "markdown",
   "metadata": {
    "pycharm": {
     "name": "#%% md\n"
    }
   },
   "source": [
    "## Список объектов"
   ]
  },
  {
   "cell_type": "code",
   "execution_count": 2,
   "metadata": {
    "pycharm": {
     "name": "#%%\n"
    }
   },
   "outputs": [
    {
     "data": {
      "text/plain": [
       "{'objId': 13383,\n",
       " 'developer': {'devId': 306,\n",
       "  'shortName': '2МЕН ГРУПП',\n",
       "  'fullName': '2МЕН ГРУПП',\n",
       "  'groupName': '2МЕН ГРУПП ДЕВЕЛОПМЕНТ',\n",
       "  'orgForm': {'id': 1, 'fullForm': 'Акционерное общество', 'shortForm': 'АО'},\n",
       "  'companyGroup': 5776,\n",
       "  'devInn': '7701651356'},\n",
       " 'rpdRegionCd': 72,\n",
       " 'objAddr': 'г Тюмень',\n",
       " 'objFloorMin': 4,\n",
       " 'objFloorMax': 20,\n",
       " 'objElemLivingCnt': 68,\n",
       " 'objReady100PercDt': '2022-12-31',\n",
       " 'objSquareLiving': 6293.78,\n",
       " 'objCompensFundFlg': 1,\n",
       " 'objProblemFlg': 0,\n",
       " 'latitude': 57.1519,\n",
       " 'longitude': 65.5536,\n",
       " 'problemFlag': 'NONE',\n",
       " 'siteStatus': 'Строящиеся',\n",
       " 'objGuarantyEscrowFlg': 0,\n",
       " 'residentialBuildings': 1,\n",
       " 'rpdNum': '72-000095',\n",
       " 'pdId': 28105,\n",
       " 'buildType': 'Жилое',\n",
       " 'objStatus': 0}"
      ]
     },
     "execution_count": 2,
     "metadata": {},
     "output_type": "execute_result"
    }
   ],
   "source": [
    "# Для скачивания данных по\n",
    "\n",
    "offset_ = 1\n",
    "limit_ = 100\n",
    "url = f'https://xn--80az8a.xn--d1aqf.xn--p1ai/%D1%81%D0%B5%D1%80%D0%B2%D0%B8%D1%81%D1%8B/api/kn/object?offset={offset_}&limit={limit_}&sortField=devId.devShortCleanNm&sortType=asc&objStatus=0'\n",
    "res = requests.get(url)\n",
    "objects_data = res.json()\n",
    "objects_data.get('data').get('list')[0]"
   ]
  },
  {
   "cell_type": "code",
   "execution_count": 3,
   "metadata": {
    "pycharm": {
     "name": "#%%\n"
    }
   },
   "outputs": [
    {
     "data": {
      "text/plain": [
       "[13383, 13397, 13399, 13398, 13391, 36912, 44076, 23494, 27476, 10891]"
      ]
     },
     "execution_count": 3,
     "metadata": {},
     "output_type": "execute_result"
    }
   ],
   "source": [
    "objects_list = objects_data.get('data').get('list')\n",
    "objids = [x.get('objId') for x in objects_list]\n",
    "objids[:10]"
   ]
  },
  {
   "cell_type": "markdown",
   "metadata": {
    "pycharm": {
     "name": "#%% md\n"
    }
   },
   "source": [
    "# Данные по определенному объекту"
   ]
  },
  {
   "cell_type": "code",
   "execution_count": 4,
   "metadata": {
    "pycharm": {
     "name": "#%%\n"
    }
   },
   "outputs": [],
   "source": [
    "# Для скачивания данных по определенному объекту, нужно добавить его id в конец строки запроса\n",
    "url = f'https://xn--80az8a.xn--d1aqf.xn--p1ai/%D1%81%D0%B5%D1%80%D0%B2%D0%B8%D1%81%D1%8B/api/object/29679'"
   ]
  },
  {
   "cell_type": "code",
   "execution_count": 5,
   "metadata": {
    "pycharm": {
     "name": "#%%\n"
    }
   },
   "outputs": [
    {
     "data": {
      "text/plain": [
       "{'data': {'id': 29679,\n",
       "  'pdId': 124647,\n",
       "  'developer': {'devId': 7424,\n",
       "   'devShortCleanNm': '212-2',\n",
       "   'devShortNm': '212-2',\n",
       "   'devFullCleanNm': '212-2',\n",
       "   'problObjCnt': 0,\n",
       "   'buildObjCnt': 1,\n",
       "   'comissObjCnt': 0,\n",
       "   'regRegionDesc': 'Ростовская область',\n",
       "   'devPhoneNum': '+7(961)285-90-10',\n",
       "   'devSite': 'taganrogjsk.wixsite.com',\n",
       "   'devEmail': 'kirpol76@gmail.com',\n",
       "   'devInn': '6154572922',\n",
       "   'devOgrn': '1116154005923',\n",
       "   'devKpp': '615401001',\n",
       "   'devLegalAddr': 'Ростовская область, город Таганрог, улица Свободы/Трудовых резервов дом 25/9',\n",
       "   'devFactAddr': 'обл Ростовская город Таганрог улица Сергея Шило д. 212-2',\n",
       "   'lastRpdId': 126093,\n",
       "   'fundGuarantyFlg': 0,\n",
       "   'devOrgRegRegionCd': 61,\n",
       "   'devEmplMainFullNm': 'Снимщикова Ольга Викторовна',\n",
       "   'orgForm': {'id': 20,\n",
       "    'fullForm': 'Жилищный или жилищно-строительный кооператив',\n",
       "    'shortForm': 'ЖСК'},\n",
       "   'objGuarantyEscrowFlg': 0,\n",
       "   'govFundFlg': 0},\n",
       "  'region': 61,\n",
       "  'address': 'г Таганрог',\n",
       "  'objElemLivingCnt': 18,\n",
       "  'objReady100PercDt': '2020-03-31',\n",
       "  'wallMaterialShortDesc': 'Другое',\n",
       "  'objLkFinishTypeDesc': 'Под ключ',\n",
       "  'objLkFreePlanDesc': 'Есть',\n",
       "  'objElemParkingCnt': 0,\n",
       "  'objSquareLiving': 1519.0,\n",
       "  'rpdNum': '61-000818',\n",
       "  'rpdPdfLink': 'https://xn--80az8a.xn--d1aqf.xn--p1ai/api/ext/file/092af1ad-2b49-4150-8a92-293031e2f79a',\n",
       "  'rpdIssueDttm': '20-03-2019 18:41',\n",
       "  'objLkLatitude': '47.2238',\n",
       "  'objLkLongitude': '38.8513',\n",
       "  'objCompensFundFlg': 0,\n",
       "  'objProblemFlg': 0,\n",
       "  'objLkClassDesc': 'Комфорт',\n",
       "  'loadDttm': '08-09-2022 01:27',\n",
       "  'photoRenderDTO': [],\n",
       "  'objGuarantyEscrowFlg': 0,\n",
       "  'objectType': 'normal',\n",
       "  'residentialBuildings': 1,\n",
       "  'newBuildingId': 40800,\n",
       "  'objFlatCnt': 18,\n",
       "  'objFlatSq': '1519.0',\n",
       "  'objNonlivElemCnt': 0,\n",
       "  'objStatus': 0,\n",
       "  'isAvailableWantLiveHere': True,\n",
       "  'objInfrstrBicycleLaneFlg': 0,\n",
       "  'objInfrstrRampFlg': 0,\n",
       "  'objInfrstrCurbLoweringFlg': 0,\n",
       "  'objectTransportInfo': [],\n",
       "  'conclusion': False,\n",
       "  'objGreenHouseFlg': 0,\n",
       "  'objEnergyEffShortDesc': 'Не нормируется',\n",
       "  'infrastructureIndexValue': 7},\n",
       " 'errcode': '0'}"
      ]
     },
     "execution_count": 5,
     "metadata": {},
     "output_type": "execute_result"
    }
   ],
   "source": [
    "res = requests.get(url)\n",
    "res.json()"
   ]
  },
  {
   "cell_type": "code",
   "execution_count": 6,
   "metadata": {
    "pycharm": {
     "name": "#%%\n"
    }
   },
   "outputs": [],
   "source": [
    "import pandas as pd"
   ]
  },
  {
   "cell_type": "code",
   "execution_count": null,
   "metadata": {
    "pycharm": {
     "name": "#%%\n"
    }
   },
   "outputs": [],
   "source": []
  }
 ],
 "metadata": {
  "kernelspec": {
   "display_name": "Python 3",
   "language": "python",
   "name": "python3"
  },
  "language_info": {
   "codemirror_mode": {
    "name": "ipython",
    "version": 3
   },
   "file_extension": ".py",
   "mimetype": "text/x-python",
   "name": "python",
   "nbconvert_exporter": "python",
   "pygments_lexer": "ipython3",
   "version": "3.9.4"
  }
 },
 "nbformat": 4,
 "nbformat_minor": 1
}
