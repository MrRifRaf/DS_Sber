{
 "cells": [
  {
   "cell_type": "markdown",
   "metadata": {
    "pycharm": {
     "name": "#%% md\n"
    }
   },
   "source": [
    "[![Open In Colab](https://colab.research.google.com/assets/colab-badge.svg)](https://colab.research.google.com/github/ds-reboot/python-first-part/blob/main/notebooks/hometasks/Task1_dmrf.ipynb)"
   ]
  },
  {
   "cell_type": "markdown",
   "metadata": {
    "pycharm": {
     "name": "#%% md\n"
    }
   },
   "source": [
    "# Задание\n",
    "* Собрать информацию о всех строящихся объектах на сайте \"наш.дом.рф\"\n",
    "* Cохранить ее в pandas dataframe\n",
    "* Cохранить pandas dataframe в excel\n",
    "* Cохранить pandas dataframe в pickle\n",
    "* Cохранить pandas dataframe в БД\n",
    "\n",
    "# Задание *\n",
    "* Написать скрипт, который скачивает фотографии всех строящихся объектов с сайта \"наш.дом.рф\"\n"
   ]
  },
  {
   "cell_type": "code",
   "execution_count": 138,
   "metadata": {
    "pycharm": {
     "name": "#%%\n"
    }
   },
   "outputs": [],
   "source": [
    "import requests\n",
    "from pprint import pprint\n",
    "from time import sleep\n",
    "from random import random\n",
    "import pandas as pd\n",
    "from tqdm import tqdm\n",
    "import sqlite3\n",
    "from pathlib import Path"
   ]
  },
  {
   "cell_type": "markdown",
   "metadata": {
    "pycharm": {
     "name": "#%% md\n"
    }
   },
   "source": [
    "## Список объектов"
   ]
  },
  {
   "cell_type": "code",
   "execution_count": 13,
   "metadata": {
    "pycharm": {
     "name": "#%%\n"
    }
   },
   "outputs": [],
   "source": [
    "# Defining parameters for url requests\n",
    "params = {\n",
    "    'offset': 0,\n",
    "    'limit': 500,\n",
    "    'sortField': 'devId.devShortCleanNm',\n",
    "    'sortType': 'asc',\n",
    "    'objStatus': 0\n",
    "}\n",
    "url = 'https://xn--80az8a.xn--d1aqf.xn--p1ai/%D1%81%D0%B5%D1%80%D0%B2%D0%B8%D1%81%D1%8B/api/kn/object'"
   ]
  },
  {
   "cell_type": "code",
   "execution_count": 6,
   "metadata": {
    "pycharm": {
     "name": "#%%\n"
    }
   },
   "outputs": [
    {
     "name": "stdout",
     "output_type": "stream",
     "text": [
      "0\n",
      "500\n",
      "1000\n",
      "1500\n",
      "2000\n",
      "2500\n",
      "3000\n",
      "3500\n",
      "4000\n",
      "4500\n",
      "5000\n",
      "5500\n",
      "6000\n",
      "6500\n",
      "7000\n",
      "7500\n",
      "8000\n",
      "8500\n",
      "9000\n",
      "9500\n",
      "10000\n",
      "10500\n",
      "11000\n"
     ]
    }
   ],
   "source": [
    "objids = []\n",
    "while True:\n",
    "    with requests.get(url, params) as res:\n",
    "        print(params['offset'])\n",
    "        if res.status_code != 200:\n",
    "            break\n",
    "        houses = res.json()['data']['list']\n",
    "        if len(houses) == 0:\n",
    "            break\n",
    "        objids.extend([x['objId'] for x in houses])\n",
    "        params['offset'] += params['limit']\n",
    "        sleep(random())"
   ]
  },
  {
   "cell_type": "markdown",
   "metadata": {
    "pycharm": {
     "name": "#%% md\n"
    }
   },
   "source": [
    "# Данные по определенному объекту"
   ]
  },
  {
   "cell_type": "code",
   "execution_count": 8,
   "metadata": {
    "pycharm": {
     "name": "#%%\n"
    }
   },
   "outputs": [
    {
     "data": {
      "text/plain": [
       "10581"
      ]
     },
     "execution_count": 8,
     "metadata": {},
     "output_type": "execute_result"
    }
   ],
   "source": [
    "len(objids)"
   ]
  },
  {
   "cell_type": "code",
   "execution_count": 10,
   "metadata": {},
   "outputs": [
    {
     "data": {
      "text/plain": [
       "[29679, 13383, 13397, 13399, 13398, 13391, 36912, 44076, 23494, 27476]"
      ]
     },
     "execution_count": 10,
     "metadata": {},
     "output_type": "execute_result"
    }
   ],
   "source": [
    "objids[:10]"
   ]
  },
  {
   "cell_type": "code",
   "execution_count": 19,
   "metadata": {},
   "outputs": [
    {
     "name": "stderr",
     "output_type": "stream",
     "text": [
      "100%|████████████████████████████████████████████████████████████████████████████| 10581/10581 [24:58<00:00,  7.06it/s]\n"
     ]
    }
   ],
   "source": [
    "house_data = []\n",
    "for obj in tqdm(objids):\n",
    "    with requests.get(url.replace('kn/', '') + '/' + str(obj)) as res:\n",
    "        if res.status_code != 200:\n",
    "            print(res.status_code)\n",
    "            break\n",
    "        house_data.append(res.json()['data'])"
   ]
  },
  {
   "cell_type": "code",
   "execution_count": 20,
   "metadata": {},
   "outputs": [],
   "source": [
    "df = pd.json_normalize(house_data)"
   ]
  },
  {
   "cell_type": "code",
   "execution_count": 23,
   "metadata": {},
   "outputs": [
    {
     "data": {
      "text/plain": [
       "(10581, 108)"
      ]
     },
     "execution_count": 23,
     "metadata": {},
     "output_type": "execute_result"
    }
   ],
   "source": [
    "df.shape"
   ]
  },
  {
   "cell_type": "code",
   "execution_count": 51,
   "metadata": {},
   "outputs": [
    {
     "data": {
      "text/plain": [
       "Index(['id', 'pdId', 'region', 'address', 'objElemLivingCnt',\n",
       "       'objReady100PercDt', 'wallMaterialShortDesc', 'objLkFinishTypeDesc',\n",
       "       'objLkFreePlanDesc', 'objElemParkingCnt',\n",
       "       ...\n",
       "       'developer.bankruptStage.bankruptStageDesc',\n",
       "       'developer.bankruptStage.bankruptLawUrl',\n",
       "       'developer.orgBankruptMsgDttm', 'metro.id', 'metro.name', 'metro.line',\n",
       "       'metro.color', 'metro.time', 'metro.isWalk', 'metro.colors'],\n",
       "      dtype='object', length=108)"
      ]
     },
     "execution_count": 51,
     "metadata": {},
     "output_type": "execute_result"
    }
   ],
   "source": [
    "df.columns"
   ]
  },
  {
   "cell_type": "code",
   "execution_count": 31,
   "metadata": {},
   "outputs": [],
   "source": [
    "df.to_excel('house_data.xlsx', index=False)"
   ]
  },
  {
   "cell_type": "code",
   "execution_count": 32,
   "metadata": {},
   "outputs": [],
   "source": [
    "df.to_pickle('house_data.pkl')"
   ]
  },
  {
   "cell_type": "code",
   "execution_count": 29,
   "metadata": {},
   "outputs": [],
   "source": [
    "df.to_csv('house_data.csv', index=False)"
   ]
  },
  {
   "cell_type": "code",
   "execution_count": 112,
   "metadata": {},
   "outputs": [],
   "source": [
    "with sqlite3.connect('house_data.db') as conn:\n",
    "    columns = df.columns[:20].append(df.columns[21:33]).append(df.columns[34:107]).append(df.columns[108:])\n",
    "    df[columns].to_sql(name='houses', con=conn, index=False, if_exists='replace')"
   ]
  },
  {
   "cell_type": "code",
   "execution_count": 154,
   "metadata": {},
   "outputs": [
    {
     "name": "stdout",
     "output_type": "stream",
     "text": [
      "photoRenderDTO\n"
     ]
    },
    {
     "name": "stderr",
     "output_type": "stream",
     "text": [
      "100%|██████████████████████████████████████████████████████████████████████████| 10581/10581 [00:01<00:00, 8336.62it/s]\n"
     ]
    }
   ],
   "source": [
    "# 50 GBs of happiness)))\n",
    "print(df.columns[20])\n",
    "with requests.Session() as s:\n",
    "    for value in tqdm(df.iloc[:, 20]):\n",
    "        if len(value) > 0:\n",
    "            for i, pict in enumerate(value):\n",
    "                path = 'imgs/' + str(pict['objId']) + '_' + str(i) + '.jpg'\n",
    "                if not Path(path).is_file():\n",
    "                    if 'objRenderPhotoUrl' in pict:\n",
    "                        img_data = s.get(pict['objRenderPhotoUrl']).content\n",
    "                        with open(path, 'wb') as handler:\n",
    "                            handler.write(img_data)"
   ]
  },
  {
   "cell_type": "code",
   "execution_count": 126,
   "metadata": {},
   "outputs": [
    {
     "name": "stdout",
     "output_type": "stream",
     "text": [
      "objectTransportInfo\n",
      "[{'metroStationNm': 'Золотая нива', 'isMetroStationDistWalking': False, 'metroStationDistTime': 38.25, 'metroStationDistLength': 2.166, 'metroLineColorHexCode': '0A6F20', 'metroLineColorsHexCode': ['#0A6F20']}]\n"
     ]
    }
   ],
   "source": [
    "print(df.columns[33])\n",
    "for value in df.iloc[:, 33]:\n",
    "    if len(value) > 0:\n",
    "        print(value)"
   ]
  },
  {
   "cell_type": "code",
   "execution_count": 123,
   "metadata": {},
   "outputs": [
    {
     "name": "stdout",
     "output_type": "stream",
     "text": [
      "metro.colors\n",
      "['#0A6F20']\n"
     ]
    }
   ],
   "source": [
    "print(df.columns[107])\n",
    "for value in df.iloc[:, 107]:\n",
    "    if isinstance(value, list):\n",
    "        print(value)"
   ]
  }
 ],
 "metadata": {
  "kernelspec": {
   "display_name": "Python 3",
   "language": "python",
   "name": "python3"
  },
  "language_info": {
   "codemirror_mode": {
    "name": "ipython",
    "version": 3
   },
   "file_extension": ".py",
   "mimetype": "text/x-python",
   "name": "python",
   "nbconvert_exporter": "python",
   "pygments_lexer": "ipython3",
   "version": "3.9.4"
  }
 },
 "nbformat": 4,
 "nbformat_minor": 1
}
