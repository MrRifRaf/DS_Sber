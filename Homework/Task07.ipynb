{
 "cells": [
  {
   "cell_type": "code",
   "execution_count": 1,
   "metadata": {
    "ExecuteTime": {
     "end_time": "2022-10-13T20:05:17.742543Z",
     "start_time": "2022-10-13T20:05:16.655087Z"
    }
   },
   "outputs": [],
   "source": [
    "import sqlite3\n",
    "import pandas as pd"
   ]
  },
  {
   "cell_type": "code",
   "execution_count": 2,
   "metadata": {
    "ExecuteTime": {
     "end_time": "2022-10-13T20:05:20.596024Z",
     "start_time": "2022-10-13T20:05:20.570642Z"
    }
   },
   "outputs": [],
   "source": [
    "con = sqlite3.connect(\":memory:\")\n",
    "cur = con.cursor()"
   ]
  },
  {
   "cell_type": "markdown",
   "metadata": {},
   "source": [
    "https://www.cs.toronto.edu/~delve/data/boston/bostonDetail.html"
   ]
  },
  {
   "cell_type": "code",
   "execution_count": 3,
   "metadata": {
    "ExecuteTime": {
     "end_time": "2022-10-13T20:05:23.810597Z",
     "start_time": "2022-10-13T20:05:23.798810Z"
    }
   },
   "outputs": [],
   "source": [
    "data = pd.read_csv('boston.csv')"
   ]
  },
  {
   "cell_type": "code",
   "execution_count": 4,
   "metadata": {
    "ExecuteTime": {
     "end_time": "2022-10-13T20:05:26.075040Z",
     "start_time": "2022-10-13T20:05:25.808773Z"
    }
   },
   "outputs": [],
   "source": [
    "data.to_sql(\"boston\", con, index=False, if_exists=\"replace\")"
   ]
  },
  {
   "cell_type": "code",
   "execution_count": 5,
   "metadata": {
    "ExecuteTime": {
     "end_time": "2022-10-13T20:05:34.899502Z",
     "start_time": "2022-10-13T20:05:34.804573Z"
    },
    "code_folding": []
   },
   "outputs": [
    {
     "data": {
      "text/html": [
       "<div>\n",
       "<style scoped>\n",
       "    .dataframe tbody tr th:only-of-type {\n",
       "        vertical-align: middle;\n",
       "    }\n",
       "\n",
       "    .dataframe tbody tr th {\n",
       "        vertical-align: top;\n",
       "    }\n",
       "\n",
       "    .dataframe thead th {\n",
       "        text-align: right;\n",
       "    }\n",
       "</style>\n",
       "<table border=\"1\" class=\"dataframe\">\n",
       "  <thead>\n",
       "    <tr style=\"text-align: right;\">\n",
       "      <th></th>\n",
       "      <th>CRIM</th>\n",
       "      <th>ZN</th>\n",
       "      <th>INDUS</th>\n",
       "      <th>CHAS</th>\n",
       "      <th>NOX</th>\n",
       "      <th>RM</th>\n",
       "      <th>AGE</th>\n",
       "      <th>DIS</th>\n",
       "      <th>RAD</th>\n",
       "      <th>TAX</th>\n",
       "      <th>PTRATIO</th>\n",
       "      <th>B</th>\n",
       "      <th>LSTAT</th>\n",
       "      <th>MEDV</th>\n",
       "    </tr>\n",
       "  </thead>\n",
       "  <tbody>\n",
       "    <tr>\n",
       "      <th>0</th>\n",
       "      <td>0.22489</td>\n",
       "      <td>12.5</td>\n",
       "      <td>7.87</td>\n",
       "      <td>0.0</td>\n",
       "      <td>0.524</td>\n",
       "      <td>6.377</td>\n",
       "      <td>94.3</td>\n",
       "      <td>6.3467</td>\n",
       "      <td>5.0</td>\n",
       "      <td>311.0</td>\n",
       "      <td>15.2</td>\n",
       "      <td>392.52</td>\n",
       "      <td>20.45</td>\n",
       "      <td>15.0</td>\n",
       "    </tr>\n",
       "    <tr>\n",
       "      <th>1</th>\n",
       "      <td>0.11747</td>\n",
       "      <td>12.5</td>\n",
       "      <td>7.87</td>\n",
       "      <td>0.0</td>\n",
       "      <td>0.524</td>\n",
       "      <td>6.009</td>\n",
       "      <td>82.9</td>\n",
       "      <td>6.2267</td>\n",
       "      <td>5.0</td>\n",
       "      <td>311.0</td>\n",
       "      <td>15.2</td>\n",
       "      <td>396.90</td>\n",
       "      <td>13.27</td>\n",
       "      <td>18.9</td>\n",
       "    </tr>\n",
       "    <tr>\n",
       "      <th>2</th>\n",
       "      <td>0.09378</td>\n",
       "      <td>12.5</td>\n",
       "      <td>7.87</td>\n",
       "      <td>0.0</td>\n",
       "      <td>0.524</td>\n",
       "      <td>5.889</td>\n",
       "      <td>39.0</td>\n",
       "      <td>5.4509</td>\n",
       "      <td>5.0</td>\n",
       "      <td>311.0</td>\n",
       "      <td>15.2</td>\n",
       "      <td>390.50</td>\n",
       "      <td>15.71</td>\n",
       "      <td>21.7</td>\n",
       "    </tr>\n",
       "    <tr>\n",
       "      <th>3</th>\n",
       "      <td>0.62976</td>\n",
       "      <td>0.0</td>\n",
       "      <td>8.14</td>\n",
       "      <td>0.0</td>\n",
       "      <td>0.538</td>\n",
       "      <td>5.949</td>\n",
       "      <td>61.8</td>\n",
       "      <td>4.7075</td>\n",
       "      <td>4.0</td>\n",
       "      <td>307.0</td>\n",
       "      <td>21.0</td>\n",
       "      <td>396.90</td>\n",
       "      <td>8.26</td>\n",
       "      <td>20.4</td>\n",
       "    </tr>\n",
       "    <tr>\n",
       "      <th>4</th>\n",
       "      <td>0.63796</td>\n",
       "      <td>0.0</td>\n",
       "      <td>8.14</td>\n",
       "      <td>0.0</td>\n",
       "      <td>0.538</td>\n",
       "      <td>6.096</td>\n",
       "      <td>84.5</td>\n",
       "      <td>4.4619</td>\n",
       "      <td>4.0</td>\n",
       "      <td>307.0</td>\n",
       "      <td>21.0</td>\n",
       "      <td>380.02</td>\n",
       "      <td>10.26</td>\n",
       "      <td>18.2</td>\n",
       "    </tr>\n",
       "  </tbody>\n",
       "</table>\n",
       "</div>"
      ],
      "text/plain": [
       "      CRIM    ZN  INDUS  CHAS    NOX     RM   AGE     DIS  RAD    TAX  \\\n",
       "0  0.22489  12.5   7.87   0.0  0.524  6.377  94.3  6.3467  5.0  311.0   \n",
       "1  0.11747  12.5   7.87   0.0  0.524  6.009  82.9  6.2267  5.0  311.0   \n",
       "2  0.09378  12.5   7.87   0.0  0.524  5.889  39.0  5.4509  5.0  311.0   \n",
       "3  0.62976   0.0   8.14   0.0  0.538  5.949  61.8  4.7075  4.0  307.0   \n",
       "4  0.63796   0.0   8.14   0.0  0.538  6.096  84.5  4.4619  4.0  307.0   \n",
       "\n",
       "   PTRATIO       B  LSTAT  MEDV  \n",
       "0     15.2  392.52  20.45  15.0  \n",
       "1     15.2  396.90  13.27  18.9  \n",
       "2     15.2  390.50  15.71  21.7  \n",
       "3     21.0  396.90   8.26  20.4  \n",
       "4     21.0  380.02  10.26  18.2  "
      ]
     },
     "execution_count": 5,
     "metadata": {},
     "output_type": "execute_result"
    }
   ],
   "source": [
    "pd.read_sql(\n",
    "    \"\"\"\n",
    "    SELECT * FROM boston\n",
    "    limit 5 OFFSET 10\n",
    "    \"\"\",\n",
    "    con,\n",
    ")"
   ]
  },
  {
   "cell_type": "markdown",
   "metadata": {},
   "source": [
    "### Все задания нужно выполнить только с помощью sql"
   ]
  },
  {
   "cell_type": "markdown",
   "metadata": {},
   "source": [
    "1. Выведите количество пустых значений по колонкам CRIM, ZN, INDUS, CHAS, NOX (название колонки, кол-во пустых значений)"
   ]
  },
  {
   "cell_type": "code",
   "execution_count": 6,
   "metadata": {
    "ExecuteTime": {
     "end_time": "2022-10-13T20:05:46.893353Z",
     "start_time": "2022-10-13T20:05:46.880377Z"
    },
    "scrolled": true
   },
   "outputs": [
    {
     "data": {
      "text/html": [
       "<div>\n",
       "<style scoped>\n",
       "    .dataframe tbody tr th:only-of-type {\n",
       "        vertical-align: middle;\n",
       "    }\n",
       "\n",
       "    .dataframe tbody tr th {\n",
       "        vertical-align: top;\n",
       "    }\n",
       "\n",
       "    .dataframe thead th {\n",
       "        text-align: right;\n",
       "    }\n",
       "</style>\n",
       "<table border=\"1\" class=\"dataframe\">\n",
       "  <thead>\n",
       "    <tr style=\"text-align: right;\">\n",
       "      <th></th>\n",
       "      <th>variable</th>\n",
       "      <th>nulls_count</th>\n",
       "    </tr>\n",
       "  </thead>\n",
       "  <tbody>\n",
       "    <tr>\n",
       "      <th>0</th>\n",
       "      <td>CRIM</td>\n",
       "      <td>0</td>\n",
       "    </tr>\n",
       "    <tr>\n",
       "      <th>1</th>\n",
       "      <td>ZN</td>\n",
       "      <td>0</td>\n",
       "    </tr>\n",
       "    <tr>\n",
       "      <th>2</th>\n",
       "      <td>INDUS</td>\n",
       "      <td>0</td>\n",
       "    </tr>\n",
       "    <tr>\n",
       "      <th>3</th>\n",
       "      <td>CHAS</td>\n",
       "      <td>0</td>\n",
       "    </tr>\n",
       "    <tr>\n",
       "      <th>4</th>\n",
       "      <td>NOX</td>\n",
       "      <td>0</td>\n",
       "    </tr>\n",
       "  </tbody>\n",
       "</table>\n",
       "</div>"
      ],
      "text/plain": [
       "  variable  nulls_count\n",
       "0     CRIM            0\n",
       "1       ZN            0\n",
       "2    INDUS            0\n",
       "3     CHAS            0\n",
       "4      NOX            0"
      ]
     },
     "execution_count": 6,
     "metadata": {},
     "output_type": "execute_result"
    }
   ],
   "source": [
    "pd.read_sql(\n",
    "    \"\"\"\n",
    "    SELECT 'CRIM' AS 'variable', SUM(CASE WHEN CRIM IS NULL THEN 1 ELSE 0 END) AS nulls_count\n",
    "      FROM boston\n",
    "     UNION ALL\n",
    "    SELECT 'ZN', SUM(CASE WHEN ZN IS NULL THEN 1 ELSE 0 END) AS nulls_count\n",
    "      FROM boston\n",
    "     UNION ALL\n",
    "    SELECT 'INDUS', SUM(CASE WHEN INDUS IS NULL THEN 1 ELSE 0 END) AS nulls_count\n",
    "      FROM boston\n",
    "     UNION ALL\n",
    "    SELECT 'CHAS', SUM(CASE WHEN CHAS IS NULL THEN 1 ELSE 0 END) AS nulls_count\n",
    "      FROM boston\n",
    "     UNION ALL\n",
    "    SELECT 'NOX', SUM(CASE WHEN NOX IS NULL THEN 1 ELSE 0 END) AS nulls_count\n",
    "      FROM boston;\n",
    "    \"\"\",\n",
    "    con,\n",
    ")"
   ]
  },
  {
   "cell_type": "markdown",
   "metadata": {},
   "source": [
    "### Вывод:\n",
    "В данных нет пропущенных значений"
   ]
  },
  {
   "cell_type": "markdown",
   "metadata": {},
   "source": [
    "2. Выведите количество уникальных значений по колонокам CRIM, ZN, INDUS, CHAS, NOX (название колонки, кол-во уникальных значений)"
   ]
  },
  {
   "cell_type": "code",
   "execution_count": 7,
   "metadata": {
    "ExecuteTime": {
     "end_time": "2022-10-13T20:05:53.016059Z",
     "start_time": "2022-10-13T20:05:53.000432Z"
    }
   },
   "outputs": [
    {
     "data": {
      "text/html": [
       "<div>\n",
       "<style scoped>\n",
       "    .dataframe tbody tr th:only-of-type {\n",
       "        vertical-align: middle;\n",
       "    }\n",
       "\n",
       "    .dataframe tbody tr th {\n",
       "        vertical-align: top;\n",
       "    }\n",
       "\n",
       "    .dataframe thead th {\n",
       "        text-align: right;\n",
       "    }\n",
       "</style>\n",
       "<table border=\"1\" class=\"dataframe\">\n",
       "  <thead>\n",
       "    <tr style=\"text-align: right;\">\n",
       "      <th></th>\n",
       "      <th>variable</th>\n",
       "      <th>unique_count</th>\n",
       "    </tr>\n",
       "  </thead>\n",
       "  <tbody>\n",
       "    <tr>\n",
       "      <th>0</th>\n",
       "      <td>CRIM</td>\n",
       "      <td>504</td>\n",
       "    </tr>\n",
       "    <tr>\n",
       "      <th>1</th>\n",
       "      <td>ZN</td>\n",
       "      <td>26</td>\n",
       "    </tr>\n",
       "    <tr>\n",
       "      <th>2</th>\n",
       "      <td>INDUS</td>\n",
       "      <td>76</td>\n",
       "    </tr>\n",
       "    <tr>\n",
       "      <th>3</th>\n",
       "      <td>CHAS</td>\n",
       "      <td>2</td>\n",
       "    </tr>\n",
       "    <tr>\n",
       "      <th>4</th>\n",
       "      <td>NOX</td>\n",
       "      <td>81</td>\n",
       "    </tr>\n",
       "  </tbody>\n",
       "</table>\n",
       "</div>"
      ],
      "text/plain": [
       "  variable  unique_count\n",
       "0     CRIM           504\n",
       "1       ZN            26\n",
       "2    INDUS            76\n",
       "3     CHAS             2\n",
       "4      NOX            81"
      ]
     },
     "execution_count": 7,
     "metadata": {},
     "output_type": "execute_result"
    }
   ],
   "source": [
    "pd.read_sql(\n",
    "    \"\"\"\n",
    "    SELECT 'CRIM' AS 'variable', COUNT(CRIM) AS unique_count\n",
    "      FROM (SELECT DISTINCT CRIM FROM boston)\n",
    "     UNION ALL\n",
    "    SELECT 'ZN', COUNT(ZN) as unique_count\n",
    "      FROM (SELECT DISTINCT ZN FROM boston)\n",
    "     UNION ALL\n",
    "    SELECT 'INDUS', COUNT(INDUS) AS unique_count\n",
    "      FROM (SELECT DISTINCT INDUS FROM boston)\n",
    "     UNION ALL\n",
    "    SELECT 'CHAS', COUNT(CHAS) AS unique_count\n",
    "      FROM (SELECT DISTINCT CHAS FROM boston)\n",
    "     UNION ALL\n",
    "    SELECT 'NOX', COUNT(NOX) AS unique_count\n",
    "      FROM (SELECT DISTINCT NOX FROM boston);\n",
    "    \"\"\",\n",
    "    con,\n",
    ")"
   ]
  },
  {
   "cell_type": "markdown",
   "metadata": {},
   "source": [
    "### Вывод:\n",
    "В данных есть бинарная переменная CHAS. Самые разнообразные данные по криминальной составляющей CRIM."
   ]
  },
  {
   "cell_type": "markdown",
   "metadata": {},
   "source": [
    "3. Выведите колонки, у которых медиана равна минимальному значению (название колонки) выбирая из CRIM, ZN, INDUS, CHAS, NOX.\n",
    "Напишите какой вывод можно сделать по данным в этих колонках"
   ]
  },
  {
   "cell_type": "code",
   "execution_count": 8,
   "metadata": {
    "ExecuteTime": {
     "end_time": "2022-10-13T20:06:03.513259Z",
     "start_time": "2022-10-13T20:06:03.481767Z"
    },
    "code_folding": []
   },
   "outputs": [
    {
     "data": {
      "text/html": [
       "<div>\n",
       "<style scoped>\n",
       "    .dataframe tbody tr th:only-of-type {\n",
       "        vertical-align: middle;\n",
       "    }\n",
       "\n",
       "    .dataframe tbody tr th {\n",
       "        vertical-align: top;\n",
       "    }\n",
       "\n",
       "    .dataframe thead th {\n",
       "        text-align: right;\n",
       "    }\n",
       "</style>\n",
       "<table border=\"1\" class=\"dataframe\">\n",
       "  <thead>\n",
       "    <tr style=\"text-align: right;\">\n",
       "      <th></th>\n",
       "      <th>median_eq_min</th>\n",
       "    </tr>\n",
       "  </thead>\n",
       "  <tbody>\n",
       "    <tr>\n",
       "      <th>0</th>\n",
       "      <td>ZN</td>\n",
       "    </tr>\n",
       "    <tr>\n",
       "      <th>1</th>\n",
       "      <td>CHAS</td>\n",
       "    </tr>\n",
       "  </tbody>\n",
       "</table>\n",
       "</div>"
      ],
      "text/plain": [
       "  median_eq_min\n",
       "0            ZN\n",
       "1          CHAS"
      ]
     },
     "execution_count": 8,
     "metadata": {},
     "output_type": "execute_result"
    }
   ],
   "source": [
    "pd.read_sql(\n",
    "    \"\"\"\n",
    "    SELECT parameter AS median_eq_min FROM (\n",
    "    SELECT 'CRIM' AS parameter,\n",
    "           AVG(CRIM) AS median,\n",
    "           (SELECT MIN(CRIM) FROM boston) AS min_val\n",
    "      FROM (SELECT CRIM\n",
    "              FROM boston\n",
    "          ORDER BY CRIM\n",
    "             LIMIT 2 - (SELECT COUNT(CRIM) FROM boston) % 2\n",
    "            OFFSET (SELECT COUNT(CRIM) FROM boston) / 2)\n",
    "    UNION ALL\n",
    "    SELECT 'ZN' AS parameter,\n",
    "           AVG(ZN) AS median,\n",
    "           (SELECT MIN(ZN) FROM boston) AS min_val\n",
    "      FROM (SELECT ZN\n",
    "              FROM boston\n",
    "          ORDER BY ZN\n",
    "             LIMIT 2 - (SELECT COUNT(ZN) FROM boston) % 2\n",
    "            OFFSET (SELECT COUNT(ZN) FROM boston) / 2)\n",
    "    UNION ALL\n",
    "    SELECT 'INDUS' AS parameter,\n",
    "           AVG(INDUS) AS median,\n",
    "           (SELECT MIN(INDUS) FROM boston) AS min_val\n",
    "      FROM (SELECT INDUS\n",
    "              FROM boston\n",
    "          ORDER BY INDUS\n",
    "             LIMIT 2 - (SELECT COUNT(INDUS) FROM boston) % 2\n",
    "            OFFSET (SELECT COUNT(INDUS) FROM boston) / 2)\n",
    "    UNION ALL\n",
    "    SELECT 'CHAS' AS parameter,\n",
    "           AVG(CHAS) AS median,\n",
    "           (SELECT MIN(CHAS) FROM boston) AS min_val\n",
    "      FROM (SELECT CHAS\n",
    "              FROM boston\n",
    "          ORDER BY CHAS\n",
    "             LIMIT 2 - (SELECT COUNT(CHAS) FROM boston) % 2\n",
    "            OFFSET (SELECT COUNT(CHAS) FROM boston) / 2)\n",
    "    UNION ALL\n",
    "    SELECT 'NOX' AS parameter,\n",
    "           AVG(NOX) AS median,\n",
    "           (SELECT MIN(NOX) FROM boston) AS min_val\n",
    "      FROM (SELECT NOX\n",
    "              FROM boston\n",
    "          ORDER BY NOX\n",
    "             LIMIT 2 - (SELECT COUNT(NOX) FROM boston) % 2\n",
    "            OFFSET (SELECT COUNT(NOX) FROM boston) / 2)\n",
    "        )\n",
    "    WHERE median = min_val;\n",
    "    \"\"\",\n",
    "    con,\n",
    ")"
   ]
  },
  {
   "cell_type": "markdown",
   "metadata": {},
   "source": [
    "### Вывод:\n",
    "Больше половины значений переменных ZN и CHAS равны минимальному значению. CHAS - это бинарная переменная и логично, что бОльшая часть домов не находится рядом с рекой. ZN - видимо бОльшая часть домов не находятся на участке зонированом под застройку."
   ]
  },
  {
   "cell_type": "markdown",
   "metadata": {},
   "source": [
    "4. Выведите разницу между среднем количеством комнат(RM) в домах с самой дорогой стоимостью(MEDV) и 25 самыми дешевыми домами. \n",
    "Аналогично по 50, 100, 200, 300 самыми дешевыми домами. (кол-во домов(25,50,100,200,300), среднее кол-во комнат в них, среднее кол-во комнат в самых дорогих, разница).\n",
    "Напишите влияет ли кол-во комнат на стоимость и как сильно."
   ]
  },
  {
   "cell_type": "code",
   "execution_count": 9,
   "metadata": {
    "ExecuteTime": {
     "end_time": "2022-10-13T20:10:53.248543Z",
     "start_time": "2022-10-13T20:10:53.221196Z"
    }
   },
   "outputs": [
    {
     "data": {
      "text/html": [
       "<div>\n",
       "<style scoped>\n",
       "    .dataframe tbody tr th:only-of-type {\n",
       "        vertical-align: middle;\n",
       "    }\n",
       "\n",
       "    .dataframe tbody tr th {\n",
       "        vertical-align: top;\n",
       "    }\n",
       "\n",
       "    .dataframe thead th {\n",
       "        text-align: right;\n",
       "    }\n",
       "</style>\n",
       "<table border=\"1\" class=\"dataframe\">\n",
       "  <thead>\n",
       "    <tr style=\"text-align: right;\">\n",
       "      <th></th>\n",
       "      <th>cheap_range</th>\n",
       "      <th>rm_exp</th>\n",
       "      <th>rm_cheap</th>\n",
       "      <th>diff</th>\n",
       "    </tr>\n",
       "  </thead>\n",
       "  <tbody>\n",
       "    <tr>\n",
       "      <th>0</th>\n",
       "      <td>lowest 25</td>\n",
       "      <td>7.484</td>\n",
       "      <td>5.747840</td>\n",
       "      <td>1.736160</td>\n",
       "    </tr>\n",
       "    <tr>\n",
       "      <th>1</th>\n",
       "      <td>lowest 50</td>\n",
       "      <td>7.484</td>\n",
       "      <td>5.753240</td>\n",
       "      <td>1.730760</td>\n",
       "    </tr>\n",
       "    <tr>\n",
       "      <th>2</th>\n",
       "      <td>lowest 100</td>\n",
       "      <td>7.484</td>\n",
       "      <td>5.887120</td>\n",
       "      <td>1.596880</td>\n",
       "    </tr>\n",
       "    <tr>\n",
       "      <th>3</th>\n",
       "      <td>lowest 200</td>\n",
       "      <td>7.484</td>\n",
       "      <td>5.911705</td>\n",
       "      <td>1.572295</td>\n",
       "    </tr>\n",
       "    <tr>\n",
       "      <th>4</th>\n",
       "      <td>lowest 300</td>\n",
       "      <td>7.484</td>\n",
       "      <td>5.972227</td>\n",
       "      <td>1.511773</td>\n",
       "    </tr>\n",
       "  </tbody>\n",
       "</table>\n",
       "</div>"
      ],
      "text/plain": [
       "  cheap_range  rm_exp  rm_cheap      diff\n",
       "0   lowest 25   7.484  5.747840  1.736160\n",
       "1   lowest 50   7.484  5.753240  1.730760\n",
       "2  lowest 100   7.484  5.887120  1.596880\n",
       "3  lowest 200   7.484  5.911705  1.572295\n",
       "4  lowest 300   7.484  5.972227  1.511773"
      ]
     },
     "execution_count": 9,
     "metadata": {},
     "output_type": "execute_result"
    }
   ],
   "source": [
    "pd.read_sql(\n",
    "    \"\"\"\n",
    "    SELECT 'lowest 25' AS cheap_range, *, rm_exp - rm_cheap diff\n",
    "      FROM (SELECT AVG(RM) AS rm_exp,\n",
    "                   (SELECT AVG(RM)\n",
    "                      FROM (SELECT MEDV, RM\n",
    "                              FROM boston\n",
    "                          ORDER BY MEDV ASC\n",
    "                             LIMIT 25)\n",
    "                   ) AS rm_cheap\n",
    "              FROM boston\n",
    "          GROUP BY MEDV\n",
    "          ORDER BY MEDV DESC\n",
    "             LIMIT 1)\n",
    "    UNION ALL\n",
    "    SELECT 'lowest 50' AS cheap_range, *, rm_exp - rm_cheap diff\n",
    "      FROM (SELECT AVG(RM) AS rm_exp,\n",
    "                   (SELECT AVG(RM)\n",
    "                      FROM (SELECT MEDV, RM\n",
    "                              FROM boston\n",
    "                          ORDER BY MEDV ASC\n",
    "                             LIMIT 50)\n",
    "                   ) AS rm_cheap\n",
    "              FROM boston\n",
    "          GROUP BY MEDV\n",
    "          ORDER BY MEDV DESC\n",
    "             LIMIT 1)\n",
    "    UNION ALL\n",
    "    SELECT 'lowest 100' AS cheap_range, *, rm_exp - rm_cheap diff\n",
    "      FROM (SELECT AVG(RM) AS rm_exp,\n",
    "                   (SELECT AVG(RM)\n",
    "                      FROM (SELECT MEDV, RM\n",
    "                              FROM boston\n",
    "                          ORDER BY MEDV ASC\n",
    "                             LIMIT 100)\n",
    "                   ) AS rm_cheap\n",
    "              FROM boston\n",
    "          GROUP BY MEDV\n",
    "          ORDER BY MEDV DESC\n",
    "             LIMIT 1)\n",
    "    UNION ALL\n",
    "    SELECT 'lowest 200' AS cheap_range, *, rm_exp - rm_cheap diff\n",
    "      FROM (SELECT AVG(RM) AS rm_exp,\n",
    "                   (SELECT AVG(RM)\n",
    "                      FROM (SELECT MEDV, RM\n",
    "                              FROM boston\n",
    "                          ORDER BY MEDV ASC\n",
    "                             LIMIT 200)\n",
    "                   ) AS rm_cheap\n",
    "              FROM boston\n",
    "          GROUP BY MEDV\n",
    "          ORDER BY MEDV DESC\n",
    "             LIMIT 1)\n",
    "    UNION ALL\n",
    "    SELECT 'lowest 300' AS cheap_range, *, rm_exp - rm_cheap diff\n",
    "      FROM (SELECT AVG(RM) AS rm_exp,\n",
    "                   (SELECT AVG(RM)\n",
    "                      FROM (SELECT MEDV, RM\n",
    "                              FROM boston\n",
    "                          ORDER BY MEDV ASC\n",
    "                             LIMIT 300)\n",
    "                   ) AS rm_cheap\n",
    "              FROM boston\n",
    "          GROUP BY MEDV\n",
    "          ORDER BY MEDV DESC\n",
    "             LIMIT 1);\n",
    "    \"\"\",\n",
    "    con,\n",
    ")"
   ]
  },
  {
   "cell_type": "markdown",
   "metadata": {},
   "source": [
    "### Вывод:\n",
    "Стоимость дома незначительно зависит от количества комнат в нем, но связь несильная, т.к. во всех домах от 5 до 8 комнат."
   ]
  },
  {
   "cell_type": "markdown",
   "metadata": {},
   "source": [
    "5. Выведите ранги значений колонки LSTAT(процент населения с более низким статусом) в домах с самой дорогой стоимостью (значение LSTAT, стоимость, ранг) среди всех знаечений LSTAT. Напишите какой вывод можно сделать по этим данным."
   ]
  },
  {
   "cell_type": "code",
   "execution_count": 10,
   "metadata": {
    "ExecuteTime": {
     "end_time": "2022-10-13T20:12:55.766309Z",
     "start_time": "2022-10-13T20:12:55.742082Z"
    }
   },
   "outputs": [
    {
     "data": {
      "text/html": [
       "<div>\n",
       "<style scoped>\n",
       "    .dataframe tbody tr th:only-of-type {\n",
       "        vertical-align: middle;\n",
       "    }\n",
       "\n",
       "    .dataframe tbody tr th {\n",
       "        vertical-align: top;\n",
       "    }\n",
       "\n",
       "    .dataframe thead th {\n",
       "        text-align: right;\n",
       "    }\n",
       "</style>\n",
       "<table border=\"1\" class=\"dataframe\">\n",
       "  <thead>\n",
       "    <tr style=\"text-align: right;\">\n",
       "      <th></th>\n",
       "      <th>LSTAT</th>\n",
       "      <th>MEDV</th>\n",
       "      <th>rank_by_LSTAT</th>\n",
       "    </tr>\n",
       "  </thead>\n",
       "  <tbody>\n",
       "    <tr>\n",
       "      <th>0</th>\n",
       "      <td>9.53</td>\n",
       "      <td>50.0</td>\n",
       "      <td>304</td>\n",
       "    </tr>\n",
       "    <tr>\n",
       "      <th>1</th>\n",
       "      <td>8.88</td>\n",
       "      <td>50.0</td>\n",
       "      <td>326</td>\n",
       "    </tr>\n",
       "    <tr>\n",
       "      <th>2</th>\n",
       "      <td>7.44</td>\n",
       "      <td>50.0</td>\n",
       "      <td>365</td>\n",
       "    </tr>\n",
       "    <tr>\n",
       "      <th>3</th>\n",
       "      <td>5.12</td>\n",
       "      <td>50.0</td>\n",
       "      <td>440</td>\n",
       "    </tr>\n",
       "    <tr>\n",
       "      <th>4</th>\n",
       "      <td>4.63</td>\n",
       "      <td>50.0</td>\n",
       "      <td>457</td>\n",
       "    </tr>\n",
       "    <tr>\n",
       "      <th>5</th>\n",
       "      <td>4.45</td>\n",
       "      <td>50.0</td>\n",
       "      <td>465</td>\n",
       "    </tr>\n",
       "    <tr>\n",
       "      <th>6</th>\n",
       "      <td>3.73</td>\n",
       "      <td>50.0</td>\n",
       "      <td>480</td>\n",
       "    </tr>\n",
       "    <tr>\n",
       "      <th>7</th>\n",
       "      <td>3.70</td>\n",
       "      <td>50.0</td>\n",
       "      <td>481</td>\n",
       "    </tr>\n",
       "    <tr>\n",
       "      <th>8</th>\n",
       "      <td>3.32</td>\n",
       "      <td>50.0</td>\n",
       "      <td>489</td>\n",
       "    </tr>\n",
       "    <tr>\n",
       "      <th>9</th>\n",
       "      <td>3.26</td>\n",
       "      <td>50.0</td>\n",
       "      <td>490</td>\n",
       "    </tr>\n",
       "    <tr>\n",
       "      <th>10</th>\n",
       "      <td>3.16</td>\n",
       "      <td>50.0</td>\n",
       "      <td>491</td>\n",
       "    </tr>\n",
       "    <tr>\n",
       "      <th>11</th>\n",
       "      <td>2.97</td>\n",
       "      <td>50.0</td>\n",
       "      <td>498</td>\n",
       "    </tr>\n",
       "    <tr>\n",
       "      <th>12</th>\n",
       "      <td>2.96</td>\n",
       "      <td>50.0</td>\n",
       "      <td>499</td>\n",
       "    </tr>\n",
       "    <tr>\n",
       "      <th>13</th>\n",
       "      <td>2.88</td>\n",
       "      <td>50.0</td>\n",
       "      <td>501</td>\n",
       "    </tr>\n",
       "    <tr>\n",
       "      <th>14</th>\n",
       "      <td>1.92</td>\n",
       "      <td>50.0</td>\n",
       "      <td>505</td>\n",
       "    </tr>\n",
       "    <tr>\n",
       "      <th>15</th>\n",
       "      <td>1.73</td>\n",
       "      <td>50.0</td>\n",
       "      <td>506</td>\n",
       "    </tr>\n",
       "  </tbody>\n",
       "</table>\n",
       "</div>"
      ],
      "text/plain": [
       "    LSTAT  MEDV  rank_by_LSTAT\n",
       "0    9.53  50.0            304\n",
       "1    8.88  50.0            326\n",
       "2    7.44  50.0            365\n",
       "3    5.12  50.0            440\n",
       "4    4.63  50.0            457\n",
       "5    4.45  50.0            465\n",
       "6    3.73  50.0            480\n",
       "7    3.70  50.0            481\n",
       "8    3.32  50.0            489\n",
       "9    3.26  50.0            490\n",
       "10   3.16  50.0            491\n",
       "11   2.97  50.0            498\n",
       "12   2.96  50.0            499\n",
       "13   2.88  50.0            501\n",
       "14   1.92  50.0            505\n",
       "15   1.73  50.0            506"
      ]
     },
     "execution_count": 10,
     "metadata": {},
     "output_type": "execute_result"
    }
   ],
   "source": [
    "pd.read_sql(\n",
    "    \"\"\"\n",
    "    SELECT *\n",
    "      FROM (SELECT LSTAT, MEDV, rank() OVER (ORDER BY LSTAT DESC) AS rank_by_LSTAT\n",
    "              FROM boston)\n",
    "     WHERE MEDV = (SELECT MAX(MEDV) FROM boston);\n",
    "    \"\"\",\n",
    "    con,\n",
    ")"
   ]
  },
  {
   "cell_type": "markdown",
   "metadata": {},
   "source": [
    "### Вывод:\n",
    "В дорогих домах живут люди из благополучных семей."
   ]
  },
  {
   "cell_type": "markdown",
   "metadata": {},
   "source": [
    "6. Выведите среднюю стоимость домов граничащих с рекой(CHAS) и нет (граничит/не граничит, стоимость)"
   ]
  },
  {
   "cell_type": "code",
   "execution_count": 12,
   "metadata": {
    "ExecuteTime": {
     "end_time": "2022-10-13T20:14:29.228197Z",
     "start_time": "2022-10-13T20:14:29.209677Z"
    }
   },
   "outputs": [
    {
     "data": {
      "text/html": [
       "<div>\n",
       "<style scoped>\n",
       "    .dataframe tbody tr th:only-of-type {\n",
       "        vertical-align: middle;\n",
       "    }\n",
       "\n",
       "    .dataframe tbody tr th {\n",
       "        vertical-align: top;\n",
       "    }\n",
       "\n",
       "    .dataframe thead th {\n",
       "        text-align: right;\n",
       "    }\n",
       "</style>\n",
       "<table border=\"1\" class=\"dataframe\">\n",
       "  <thead>\n",
       "    <tr style=\"text-align: right;\">\n",
       "      <th></th>\n",
       "      <th>near_river</th>\n",
       "      <th>avg_price_kUSD</th>\n",
       "    </tr>\n",
       "  </thead>\n",
       "  <tbody>\n",
       "    <tr>\n",
       "      <th>0</th>\n",
       "      <td>No</td>\n",
       "      <td>22.093843</td>\n",
       "    </tr>\n",
       "    <tr>\n",
       "      <th>1</th>\n",
       "      <td>Yes</td>\n",
       "      <td>28.440000</td>\n",
       "    </tr>\n",
       "  </tbody>\n",
       "</table>\n",
       "</div>"
      ],
      "text/plain": [
       "  near_river  avg_price_kUSD\n",
       "0         No       22.093843\n",
       "1        Yes       28.440000"
      ]
     },
     "execution_count": 12,
     "metadata": {},
     "output_type": "execute_result"
    }
   ],
   "source": [
    "pd.read_sql(\n",
    "    \"\"\"\n",
    "      SELECT CASE\n",
    "                WHEN CHAS = 1 THEN 'Yes'\n",
    "                ELSE 'No'\n",
    "             END AS near_river,\n",
    "             AVG(MEDV) AS avg_price_kUSD\n",
    "        FROM boston\n",
    "    GROUP BY CHAS;\n",
    "    \"\"\",\n",
    "    con,\n",
    ")"
   ]
  },
  {
   "cell_type": "markdown",
   "metadata": {},
   "source": [
    "### Вывод:\n",
    "Около реки дома в среднем дороже"
   ]
  },
  {
   "cell_type": "markdown",
   "metadata": {},
   "source": [
    "7. Выведите все колонки, у которых среднее значение выше, когда дом граничит с рекой (название колонки) выбирая из CRIM, ZN, INDUS, CHAS, NOX. Напишите какой вывод можно сделать по этим данным."
   ]
  },
  {
   "cell_type": "code",
   "execution_count": 11,
   "metadata": {
    "ExecuteTime": {
     "end_time": "2022-10-13T20:14:25.398237Z",
     "start_time": "2022-10-13T20:14:25.371230Z"
    }
   },
   "outputs": [
    {
     "data": {
      "text/html": [
       "<div>\n",
       "<style scoped>\n",
       "    .dataframe tbody tr th:only-of-type {\n",
       "        vertical-align: middle;\n",
       "    }\n",
       "\n",
       "    .dataframe tbody tr th {\n",
       "        vertical-align: top;\n",
       "    }\n",
       "\n",
       "    .dataframe thead th {\n",
       "        text-align: right;\n",
       "    }\n",
       "</style>\n",
       "<table border=\"1\" class=\"dataframe\">\n",
       "  <thead>\n",
       "    <tr style=\"text-align: right;\">\n",
       "      <th></th>\n",
       "      <th>parameter</th>\n",
       "    </tr>\n",
       "  </thead>\n",
       "  <tbody>\n",
       "    <tr>\n",
       "      <th>0</th>\n",
       "      <td>INDUS</td>\n",
       "    </tr>\n",
       "    <tr>\n",
       "      <th>1</th>\n",
       "      <td>NOX</td>\n",
       "    </tr>\n",
       "  </tbody>\n",
       "</table>\n",
       "</div>"
      ],
      "text/plain": [
       "  parameter\n",
       "0     INDUS\n",
       "1       NOX"
      ]
     },
     "execution_count": 11,
     "metadata": {},
     "output_type": "execute_result"
    }
   ],
   "source": [
    "pd.read_sql(\n",
    "    \"\"\"\n",
    "    SELECT parameter\n",
    "      FROM (SELECT 'CRIM' AS parameter,\n",
    "                   (SELECT AVG(CRIM)\n",
    "                      FROM boston\n",
    "                     WHERE CHAS = 1\n",
    "                  GROUP BY CHAS) AS near,\n",
    "                   (SELECT AVG(CRIM)\n",
    "                      FROM boston\n",
    "                     WHERE CHAS = 0\n",
    "                  GROUP BY CHAS) AS far\n",
    "            UNION ALL\n",
    "            SELECT 'ZN' AS parameter,\n",
    "                   (SELECT AVG(ZN)\n",
    "                      FROM boston\n",
    "                     WHERE CHAS = 1\n",
    "                  GROUP BY CHAS) AS near,\n",
    "                   (SELECT AVG(ZN)\n",
    "                      FROM boston\n",
    "                     WHERE CHAS = 0\n",
    "                  GROUP BY CHAS) AS far\n",
    "            UNION ALL\n",
    "            SELECT 'INDUS' AS parameter,\n",
    "                   (SELECT AVG(INDUS)\n",
    "                      FROM boston\n",
    "                     WHERE CHAS = 1\n",
    "                  GROUP BY CHAS) AS near,\n",
    "                   (SELECT AVG(INDUS)\n",
    "                      FROM boston\n",
    "                     WHERE CHAS = 0\n",
    "                  GROUP BY CHAS) AS far\n",
    "            UNION ALL\n",
    "            SELECT 'NOX' AS parameter,\n",
    "                   (SELECT AVG(NOX)\n",
    "                      FROM boston\n",
    "                     WHERE CHAS = 1\n",
    "                  GROUP BY CHAS) AS near,\n",
    "                   (SELECT AVG(NOX)\n",
    "                      FROM boston\n",
    "                     WHERE CHAS = 0\n",
    "                  GROUP BY CHAS) AS far)\n",
    "    WHERE near > far;\n",
    "    \"\"\",\n",
    "    con,\n",
    ")"
   ]
  },
  {
   "cell_type": "markdown",
   "metadata": {},
   "source": [
    "### Вывод:\n",
    "Как видим рядом с рекой больше промышленных предприятий и следовательно большее содержание диоксида азота в воздухе."
   ]
  },
  {
   "cell_type": "markdown",
   "metadata": {},
   "source": [
    "8. Выведите значения долей промышленной застройки(INDUS), концентрации оксидов азота(NOX) и по их перцентилям - 10, 20 ... 100 ( перцетиль(10,20...100),значение INDUS, значение NOX). Напишите прослеживается между ними взаимосвязь"
   ]
  },
  {
   "cell_type": "code",
   "execution_count": 13,
   "metadata": {
    "ExecuteTime": {
     "end_time": "2022-10-13T20:15:43.014914Z",
     "start_time": "2022-10-13T20:15:42.984369Z"
    }
   },
   "outputs": [
    {
     "data": {
      "text/html": [
       "<div>\n",
       "<style scoped>\n",
       "    .dataframe tbody tr th:only-of-type {\n",
       "        vertical-align: middle;\n",
       "    }\n",
       "\n",
       "    .dataframe tbody tr th {\n",
       "        vertical-align: top;\n",
       "    }\n",
       "\n",
       "    .dataframe thead th {\n",
       "        text-align: right;\n",
       "    }\n",
       "</style>\n",
       "<table border=\"1\" class=\"dataframe\">\n",
       "  <thead>\n",
       "    <tr style=\"text-align: right;\">\n",
       "      <th></th>\n",
       "      <th>perc_name</th>\n",
       "      <th>indus_val</th>\n",
       "      <th>nox_val</th>\n",
       "    </tr>\n",
       "  </thead>\n",
       "  <tbody>\n",
       "    <tr>\n",
       "      <th>0</th>\n",
       "      <td>10</td>\n",
       "      <td>2.89</td>\n",
       "      <td>0.426</td>\n",
       "    </tr>\n",
       "    <tr>\n",
       "      <th>1</th>\n",
       "      <td>20</td>\n",
       "      <td>4.39</td>\n",
       "      <td>0.442</td>\n",
       "    </tr>\n",
       "    <tr>\n",
       "      <th>2</th>\n",
       "      <td>30</td>\n",
       "      <td>5.96</td>\n",
       "      <td>0.472</td>\n",
       "    </tr>\n",
       "    <tr>\n",
       "      <th>3</th>\n",
       "      <td>40</td>\n",
       "      <td>7.38</td>\n",
       "      <td>0.507</td>\n",
       "    </tr>\n",
       "    <tr>\n",
       "      <th>4</th>\n",
       "      <td>50</td>\n",
       "      <td>9.69</td>\n",
       "      <td>0.538</td>\n",
       "    </tr>\n",
       "    <tr>\n",
       "      <th>5</th>\n",
       "      <td>60</td>\n",
       "      <td>13.89</td>\n",
       "      <td>0.580</td>\n",
       "    </tr>\n",
       "    <tr>\n",
       "      <th>6</th>\n",
       "      <td>70</td>\n",
       "      <td>18.10</td>\n",
       "      <td>0.609</td>\n",
       "    </tr>\n",
       "    <tr>\n",
       "      <th>7</th>\n",
       "      <td>90</td>\n",
       "      <td>19.58</td>\n",
       "      <td>0.713</td>\n",
       "    </tr>\n",
       "    <tr>\n",
       "      <th>8</th>\n",
       "      <td>100</td>\n",
       "      <td>27.74</td>\n",
       "      <td>0.871</td>\n",
       "    </tr>\n",
       "  </tbody>\n",
       "</table>\n",
       "</div>"
      ],
      "text/plain": [
       "   perc_name  indus_val  nox_val\n",
       "0         10       2.89    0.426\n",
       "1         20       4.39    0.442\n",
       "2         30       5.96    0.472\n",
       "3         40       7.38    0.507\n",
       "4         50       9.69    0.538\n",
       "5         60      13.89    0.580\n",
       "6         70      18.10    0.609\n",
       "7         90      19.58    0.713\n",
       "8        100      27.74    0.871"
      ]
     },
     "execution_count": 13,
     "metadata": {},
     "output_type": "execute_result"
    }
   ],
   "source": [
    "pd.read_sql(\n",
    "    \"\"\"\n",
    "    SELECT n.perc_name, indus_val, nox_val\n",
    "      FROM (SELECT perc_name * 10 AS perc_name, indus_val\n",
    "              FROM (SELECT perc_name,\n",
    "                           LAST_VALUE(INDUS) OVER(PARTITION BY perc_name) AS indus_val\n",
    "                      FROM (SELECT INDUS,\n",
    "                                   NTILE(10) OVER(ORDER BY INDUS) AS perc_name\n",
    "                              FROM boston))\n",
    "          GROUP BY indus_val) AS n\n",
    "      JOIN (SELECT perc_name * 10 AS perc_name, nox_val\n",
    "              FROM (SELECT perc_name,\n",
    "                           LAST_VALUE(NOX) OVER(PARTITION BY perc_name) AS nox_val\n",
    "                      FROM (SELECT NOX,\n",
    "                                   NTILE(10) OVER(ORDER BY NOX) AS perc_name\n",
    "                              FROM boston))\n",
    "          GROUP BY nox_val) AS i\n",
    "        ON n.perc_name = i.perc_name;\n",
    "    \"\"\",\n",
    "    con,\n",
    ")"
   ]
  },
  {
   "cell_type": "markdown",
   "metadata": {},
   "source": [
    "### Вывод:\n",
    "Как видим есть прямая связь доли промышленной застройки с содержанием диоксида азота в воздухе."
   ]
  },
  {
   "cell_type": "raw",
   "metadata": {},
   "source": [
    "CRIM - уровень преступности на душу населения\n",
    "ZN - доля земель под жилую застройку зонирована под участки площадью более 25 000 кв. футов.\n",
    "INDUS - доля акров неторгового бизнеса на город.\n",
    "CHAS - 1, если граничит с рекой, 0 иначе\n",
    "NOX - концентрация оксидов азота (частей на 10 миллионов)\n",
    "RM - среднее количество комнат в квартире\n",
    "AGE - доля жилых домов, построенных до 1940 г.\n",
    "DIS - взвешенные расстояния до пяти центров занятости Бостона\n",
    "RAD - индекс доступности к радиальным магистралям\n",
    "TAX - полная ставка налога на имущество за 10 000 долларов США\n",
    "PTRATIO - соотношение учеников и учителей по городам\n",
    "B - 1000(Bk - 0.63)^2, где Bk доля чернокожих людей по городам\n",
    "LSTAT - % более низкого статуса населения\n",
    "MEDV - Средняя стоимость домов в 1000 долларов."
   ]
  },
  {
   "cell_type": "code",
   "execution_count": null,
   "metadata": {},
   "outputs": [],
   "source": []
  }
 ],
 "metadata": {
  "kernelspec": {
   "display_name": "Python 3 (ipykernel)",
   "language": "python",
   "name": "python3"
  },
  "language_info": {
   "codemirror_mode": {
    "name": "ipython",
    "version": 3
   },
   "file_extension": ".py",
   "mimetype": "text/x-python",
   "name": "python",
   "nbconvert_exporter": "python",
   "pygments_lexer": "ipython3",
   "version": "3.9.4"
  }
 },
 "nbformat": 4,
 "nbformat_minor": 4
}
