{
 "cells": [
  {
   "cell_type": "code",
   "execution_count": 1,
   "id": "d23bfefe",
   "metadata": {
    "ExecuteTime": {
     "end_time": "2022-12-07T16:50:44.128442Z",
     "start_time": "2022-12-07T16:50:33.403747Z"
    }
   },
   "outputs": [],
   "source": [
    "from string import punctuation\n",
    "\n",
    "import nltk\n",
    "import numpy as np\n",
    "import pandas as pd\n",
    "from nltk.corpus import stopwords\n",
    "from nltk.tokenize import WordPunctTokenizer\n",
    "from sklearn.feature_extraction.text import (CountVectorizer, TfidfTransformer,\n",
    "                                             TfidfVectorizer)"
   ]
  },
  {
   "cell_type": "code",
   "execution_count": 4,
   "id": "2001fc5e",
   "metadata": {
    "ExecuteTime": {
     "end_time": "2022-12-07T16:52:43.032752Z",
     "start_time": "2022-12-07T16:52:35.056726Z"
    }
   },
   "outputs": [
    {
     "name": "stderr",
     "output_type": "stream",
     "text": [
      "[nltk_data] Downloading package stopwords to C:\\Users\\Rafail\n",
      "[nltk_data]     Gabdullin\\AppData\\Roaming\\nltk_data...\n",
      "[nltk_data]   Package stopwords is already up-to-date!\n",
      "[nltk_data] Downloading package wordnet to C:\\Users\\Rafail\n",
      "[nltk_data]     Gabdullin\\AppData\\Roaming\\nltk_data...\n",
      "[nltk_data]   Package wordnet is already up-to-date!\n",
      "[nltk_data] Downloading package omw-1.4 to C:\\Users\\Rafail\n",
      "[nltk_data]     Gabdullin\\AppData\\Roaming\\nltk_data...\n"
     ]
    },
    {
     "data": {
      "text/plain": [
       "True"
      ]
     },
     "execution_count": 4,
     "metadata": {},
     "output_type": "execute_result"
    }
   ],
   "source": [
    "nltk.download('stopwords')\n",
    "nltk.download('wordnet')\n",
    "nltk.download('omw-1.4')"
   ]
  },
  {
   "cell_type": "code",
   "execution_count": 5,
   "id": "cb89d349",
   "metadata": {
    "ExecuteTime": {
     "end_time": "2022-12-07T16:53:15.149458Z",
     "start_time": "2022-12-07T16:53:15.126079Z"
    }
   },
   "outputs": [],
   "source": [
    "def vectorize(tokens):\n",
    "    ''' This function takes list of words in a sentence as input\n",
    "    and returns a vector of size of filtered_vocab.It puts 0 if the\n",
    "    word is not present in tokens and count of token if present.'''\n",
    "    vector = []\n",
    "    for w in filtered_vocab:\n",
    "        vector.append(tokens.count(w))\n",
    "    return vector\n",
    "\n",
    "\n",
    "def unique(sequence):\n",
    "    '''This functions returns a list in which the order remains\n",
    "    same and no item repeats.Using the set() function does not\n",
    "    preserve the original ordering,so i didnt use that instead'''\n",
    "    seen = set()\n",
    "    return [x for x in sequence if not (x in seen or seen.add(x))]"
   ]
  },
  {
   "cell_type": "code",
   "execution_count": 6,
   "id": "aaa1650d",
   "metadata": {
    "ExecuteTime": {
     "end_time": "2022-12-07T16:55:10.027473Z",
     "start_time": "2022-12-07T16:55:01.357871Z"
    }
   },
   "outputs": [],
   "source": [
    "with open('./quora.txt', encoding='utf-8') as f:\n",
    "    data = list(f)\n",
    "\n",
    "tokenizer = WordPunctTokenizer()\n",
    "data_tok = [tokenizer.tokenize(row.lower()) for row in data]"
   ]
  },
  {
   "cell_type": "code",
   "execution_count": 7,
   "id": "a3768fbd",
   "metadata": {
    "ExecuteTime": {
     "end_time": "2022-12-07T16:55:31.912140Z",
     "start_time": "2022-12-07T16:55:29.099189Z"
    }
   },
   "outputs": [
    {
     "name": "stdout",
     "output_type": "stream",
     "text": [
      "['what', 'does', 'entertainment', 'mean', 'for', 'you', '?']\n",
      "['what', 'does', '\"', 'las', 'vegas', '\"', 'mean', '?']\n"
     ]
    }
   ],
   "source": [
    "sub_data_tok = data_tok[:100]\n",
    "\n",
    "pre_dict = []\n",
    "for s in sub_data_tok:\n",
    "    pre_dict.extend(s)\n",
    "vocab = unique(pre_dict)\n",
    "\n",
    "filtered_vocab = []\n",
    "for w in vocab:\n",
    "    if w not in stopwords.words('english') and w not in punctuation:\n",
    "        filtered_vocab.append(w)\n",
    "\n",
    "vectors = [vectorize(s) for s in sub_data_tok]\n",
    "\n",
    "data_len = len(sub_data_tok)\n",
    "cosines = {}\n",
    "for i in range(data_len):\n",
    "    for j in range(i + 1, data_len):\n",
    "        cosines[i, j] = (np.dot(vectors[i], vectors[j]) /\n",
    "                         np.linalg.norm(vectors[i]) / np.linalg.norm(vectors[j]))\n",
    "max(cosines.values())\n",
    "closest_pair = max(cosines, key=cosines.get)\n",
    "for x in closest_pair:\n",
    "    print(sub_data_tok[x])"
   ]
  },
  {
   "cell_type": "code",
   "execution_count": 9,
   "id": "f2458119",
   "metadata": {
    "ExecuteTime": {
     "end_time": "2022-12-07T17:34:03.192405Z",
     "start_time": "2022-12-07T17:34:03.167920Z"
    }
   },
   "outputs": [
    {
     "name": "stdout",
     "output_type": "stream",
     "text": [
      "  (0, 14)\t1\n",
      "  (0, 1)\t1\n",
      "  (0, 4)\t1\n",
      "  (0, 13)\t1\n",
      "  (0, 26)\t1\n",
      "  (1, 13)\t1\n",
      "  (1, 18)\t1\n",
      "  (1, 9)\t1\n",
      "  (1, 3)\t1\n",
      "  (2, 13)\t1\n",
      "  (2, 3)\t1\n",
      "  (2, 7)\t1\n",
      "  (3, 14)\t1\n",
      "  (3, 3)\t1\n",
      "  (3, 5)\t1\n",
      "  (3, 25)\t1\n",
      "  (4, 13)\t1\n",
      "  (4, 0)\t1\n",
      "  (4, 24)\t1\n",
      "  (4, 12)\t1\n",
      "  (4, 22)\t1\n",
      "  (5, 26)\t1\n",
      "  (5, 18)\t1\n",
      "  (5, 12)\t1\n",
      "  (5, 6)\t1\n",
      "  :\t:\n",
      "  (6, 14)\t1\n",
      "  (6, 27)\t1\n",
      "  (6, 16)\t1\n",
      "  (7, 13)\t1\n",
      "  (7, 7)\t1\n",
      "  (7, 11)\t1\n",
      "  (8, 13)\t1\n",
      "  (8, 26)\t1\n",
      "  (8, 18)\t1\n",
      "  (8, 11)\t1\n",
      "  (8, 28)\t1\n",
      "  (8, 2)\t1\n",
      "  (9, 13)\t1\n",
      "  (9, 7)\t1\n",
      "  (9, 21)\t1\n",
      "  (9, 10)\t1\n",
      "  (10, 14)\t1\n",
      "  (10, 13)\t1\n",
      "  (10, 17)\t1\n",
      "  (10, 20)\t1\n",
      "  (11, 13)\t1\n",
      "  (11, 7)\t1\n",
      "  (11, 17)\t2\n",
      "  (11, 15)\t1\n",
      "  (11, 19)\t1\n",
      "['bangalore', 'big', 'business', 'capital', 'city', 'colonial', 'commerce', 'delhi', 'exchange', 'financial', 'fort', 'gate', 'hub', 'india', 'kolkata', 'largest', 'memorial', 'metro', 'mumbai', 'network', 'oldest', 'red', 'software', 'stock', 'tech', 'times', 'trade', 'victoria', 'way']\n",
      "[[0 1 0 0 1 0 0 0 0 0 0 0 0 1 1 0 0 0 0 0 0 0 0 0 0 0 1 0 0]\n",
      " [0 0 0 1 0 0 0 0 0 1 0 0 0 1 0 0 0 0 1 0 0 0 0 0 0 0 0 0 0]\n",
      " [0 0 0 1 0 0 0 1 0 0 0 0 0 1 0 0 0 0 0 0 0 0 0 0 0 0 0 0 0]\n",
      " [0 0 0 1 0 1 0 0 0 0 0 0 0 0 1 0 0 0 0 0 0 0 0 0 0 1 0 0 0]\n",
      " [1 0 0 0 0 0 0 0 0 0 0 0 1 1 0 0 0 0 0 0 0 0 1 0 1 0 0 0 0]\n",
      " [0 0 0 0 0 0 1 0 1 0 0 0 1 0 0 0 0 0 1 0 0 0 0 1 0 0 1 0 0]\n",
      " [0 0 0 0 0 0 0 0 0 0 0 0 0 0 1 0 1 0 0 0 0 0 0 0 0 0 0 1 0]\n",
      " [0 0 0 0 0 0 0 1 0 0 0 1 0 1 0 0 0 0 0 0 0 0 0 0 0 0 0 0 0]\n",
      " [0 0 1 0 0 0 0 0 0 0 0 1 0 1 0 0 0 0 1 0 0 0 0 0 0 0 1 0 1]\n",
      " [0 0 0 0 0 0 0 1 0 0 1 0 0 1 0 0 0 0 0 0 0 1 0 0 0 0 0 0 0]\n",
      " [0 0 0 0 0 0 0 0 0 0 0 0 0 1 1 0 0 1 0 0 1 0 0 0 0 0 0 0 0]\n",
      " [0 0 0 0 0 0 0 1 0 0 0 0 0 1 0 1 0 2 0 1 0 0 0 0 0 0 0 0 0]]\n"
     ]
    }
   ],
   "source": [
    "text = [\"kolkata big city india trade\", \"mumbai financial capital india\",\n",
    "        \"delhi capital india\", \"kolkata capital colonial times\",\n",
    "        \"bangalore tech hub india software\",\n",
    "        \"mumbai hub trade commerce stock exchange\",\n",
    "        \"kolkata victoria memorial\", \"delhi india gate\",\n",
    "        \"mumbai gate way india trade business\", \"delhi red fort india\",\n",
    "        \"kolkata metro oldest india\",\n",
    "        \"delhi metro largest metro network india\"\n",
    "        ]\n",
    "\n",
    "count = CountVectorizer()\n",
    "word_count = count.fit_transform(text)\n",
    "print(word_count)\n",
    "print(count.get_feature_names())\n",
    "print(word_count.toarray())"
   ]
  },
  {
   "cell_type": "code",
   "execution_count": 12,
   "id": "01b451c3",
   "metadata": {
    "ExecuteTime": {
     "end_time": "2022-12-07T17:35:08.615158Z",
     "start_time": "2022-12-07T17:35:08.539919Z"
    }
   },
   "outputs": [],
   "source": [
    "tfidf_transformer = TfidfTransformer(smooth_idf=True, use_idf=True)\n",
    "tfidf_transformer.fit(word_count)\n",
    "df_idf = pd.DataFrame(tfidf_transformer.idf_,\n",
    "                      index=count.get_feature_names(), columns=['idf_weights'])\n",
    "\n",
    "df_idf.sort_values(by=['idf_weights'])\n",
    "\n",
    "# tfidf\n",
    "tf_idf_vector = tfidf_transformer.transform(word_count)\n",
    "feature_names = count.get_feature_names()"
   ]
  },
  {
   "cell_type": "code",
   "execution_count": 13,
   "id": "81c59d37",
   "metadata": {
    "ExecuteTime": {
     "end_time": "2022-12-07T17:35:28.086326Z",
     "start_time": "2022-12-07T17:35:27.993400Z"
    }
   },
   "outputs": [
    {
     "data": {
      "text/html": [
       "<div>\n",
       "<style scoped>\n",
       "    .dataframe tbody tr th:only-of-type {\n",
       "        vertical-align: middle;\n",
       "    }\n",
       "\n",
       "    .dataframe tbody tr th {\n",
       "        vertical-align: top;\n",
       "    }\n",
       "\n",
       "    .dataframe thead th {\n",
       "        text-align: right;\n",
       "    }\n",
       "</style>\n",
       "<table border=\"1\" class=\"dataframe\">\n",
       "  <thead>\n",
       "    <tr style=\"text-align: right;\">\n",
       "      <th></th>\n",
       "      <th>tfidf</th>\n",
       "    </tr>\n",
       "  </thead>\n",
       "  <tbody>\n",
       "    <tr>\n",
       "      <th>financial</th>\n",
       "      <td>0.653123</td>\n",
       "    </tr>\n",
       "    <tr>\n",
       "      <th>capital</th>\n",
       "      <td>0.495483</td>\n",
       "    </tr>\n",
       "    <tr>\n",
       "      <th>mumbai</th>\n",
       "      <td>0.495483</td>\n",
       "    </tr>\n",
       "    <tr>\n",
       "      <th>india</th>\n",
       "      <td>0.287095</td>\n",
       "    </tr>\n",
       "    <tr>\n",
       "      <th>bangalore</th>\n",
       "      <td>0.000000</td>\n",
       "    </tr>\n",
       "    <tr>\n",
       "      <th>memorial</th>\n",
       "      <td>0.000000</td>\n",
       "    </tr>\n",
       "    <tr>\n",
       "      <th>victoria</th>\n",
       "      <td>0.000000</td>\n",
       "    </tr>\n",
       "    <tr>\n",
       "      <th>trade</th>\n",
       "      <td>0.000000</td>\n",
       "    </tr>\n",
       "    <tr>\n",
       "      <th>times</th>\n",
       "      <td>0.000000</td>\n",
       "    </tr>\n",
       "    <tr>\n",
       "      <th>tech</th>\n",
       "      <td>0.000000</td>\n",
       "    </tr>\n",
       "    <tr>\n",
       "      <th>stock</th>\n",
       "      <td>0.000000</td>\n",
       "    </tr>\n",
       "    <tr>\n",
       "      <th>software</th>\n",
       "      <td>0.000000</td>\n",
       "    </tr>\n",
       "    <tr>\n",
       "      <th>red</th>\n",
       "      <td>0.000000</td>\n",
       "    </tr>\n",
       "    <tr>\n",
       "      <th>oldest</th>\n",
       "      <td>0.000000</td>\n",
       "    </tr>\n",
       "    <tr>\n",
       "      <th>network</th>\n",
       "      <td>0.000000</td>\n",
       "    </tr>\n",
       "    <tr>\n",
       "      <th>metro</th>\n",
       "      <td>0.000000</td>\n",
       "    </tr>\n",
       "    <tr>\n",
       "      <th>kolkata</th>\n",
       "      <td>0.000000</td>\n",
       "    </tr>\n",
       "    <tr>\n",
       "      <th>largest</th>\n",
       "      <td>0.000000</td>\n",
       "    </tr>\n",
       "    <tr>\n",
       "      <th>big</th>\n",
       "      <td>0.000000</td>\n",
       "    </tr>\n",
       "    <tr>\n",
       "      <th>hub</th>\n",
       "      <td>0.000000</td>\n",
       "    </tr>\n",
       "    <tr>\n",
       "      <th>gate</th>\n",
       "      <td>0.000000</td>\n",
       "    </tr>\n",
       "    <tr>\n",
       "      <th>fort</th>\n",
       "      <td>0.000000</td>\n",
       "    </tr>\n",
       "    <tr>\n",
       "      <th>exchange</th>\n",
       "      <td>0.000000</td>\n",
       "    </tr>\n",
       "    <tr>\n",
       "      <th>delhi</th>\n",
       "      <td>0.000000</td>\n",
       "    </tr>\n",
       "    <tr>\n",
       "      <th>commerce</th>\n",
       "      <td>0.000000</td>\n",
       "    </tr>\n",
       "    <tr>\n",
       "      <th>colonial</th>\n",
       "      <td>0.000000</td>\n",
       "    </tr>\n",
       "    <tr>\n",
       "      <th>city</th>\n",
       "      <td>0.000000</td>\n",
       "    </tr>\n",
       "    <tr>\n",
       "      <th>business</th>\n",
       "      <td>0.000000</td>\n",
       "    </tr>\n",
       "    <tr>\n",
       "      <th>way</th>\n",
       "      <td>0.000000</td>\n",
       "    </tr>\n",
       "  </tbody>\n",
       "</table>\n",
       "</div>"
      ],
      "text/plain": [
       "              tfidf\n",
       "financial  0.653123\n",
       "capital    0.495483\n",
       "mumbai     0.495483\n",
       "india      0.287095\n",
       "bangalore  0.000000\n",
       "memorial   0.000000\n",
       "victoria   0.000000\n",
       "trade      0.000000\n",
       "times      0.000000\n",
       "tech       0.000000\n",
       "stock      0.000000\n",
       "software   0.000000\n",
       "red        0.000000\n",
       "oldest     0.000000\n",
       "network    0.000000\n",
       "metro      0.000000\n",
       "kolkata    0.000000\n",
       "largest    0.000000\n",
       "big        0.000000\n",
       "hub        0.000000\n",
       "gate       0.000000\n",
       "fort       0.000000\n",
       "exchange   0.000000\n",
       "delhi      0.000000\n",
       "commerce   0.000000\n",
       "colonial   0.000000\n",
       "city       0.000000\n",
       "business   0.000000\n",
       "way        0.000000"
      ]
     },
     "execution_count": 13,
     "metadata": {},
     "output_type": "execute_result"
    }
   ],
   "source": [
    "# \"mumbai financial capital india\"\n",
    "first_document_vector = tf_idf_vector[1]\n",
    "df_tfifd = pd.DataFrame(first_document_vector.T.todense(),\n",
    "                        index=feature_names, columns=[\"tfidf\"])\n",
    "df_tfifd.sort_values(by=[\"tfidf\"], ascending=False)"
   ]
  },
  {
   "cell_type": "code",
   "execution_count": 14,
   "id": "6a9d9d0a",
   "metadata": {
    "ExecuteTime": {
     "end_time": "2022-12-07T17:35:47.915240Z",
     "start_time": "2022-12-07T17:35:47.891418Z"
    }
   },
   "outputs": [],
   "source": [
    "# quora TF-IDF\n",
    "count = CountVectorizer(vocabulary=filtered_vocab)\n",
    "word_count = count.fit_transform([' '.join(s) for s in sub_data_tok])\n",
    "tfidf_transformer = TfidfTransformer(smooth_idf=True, use_idf=True)\n",
    "tfidf_transformer.fit(word_count)\n",
    "tf_idf_vector = tfidf_transformer.transform(word_count)\n",
    "vectors = tf_idf_vector.toarray()"
   ]
  },
  {
   "cell_type": "code",
   "execution_count": 15,
   "id": "63b932e2",
   "metadata": {
    "ExecuteTime": {
     "end_time": "2022-12-07T17:36:03.173821Z",
     "start_time": "2022-12-07T17:36:03.015006Z"
    }
   },
   "outputs": [
    {
     "name": "stdout",
     "output_type": "stream",
     "text": [
      "['what', 'is', 'your', 'review', 'of', 'osquery', '?']\n",
      "['what', 'is', 'your', 'review', 'of', 'ipad', 'mini', '2', '?']\n"
     ]
    }
   ],
   "source": [
    "data_len = len(sub_data_tok)\n",
    "cosines = {}\n",
    "for i in range(data_len):\n",
    "    for j in range(i + 1, data_len):\n",
    "        cosines[i, j] = (np.dot(vectors[i], vectors[j]) /\n",
    "                         np.linalg.norm(vectors[i]) / np.linalg.norm(vectors[j]))\n",
    "max(cosines.values())\n",
    "closest_pair = max(cosines, key=cosines.get)\n",
    "for x in closest_pair:\n",
    "    print(sub_data_tok[x])"
   ]
  }
 ],
 "metadata": {
  "kernelspec": {
   "display_name": "Python 3 (ipykernel)",
   "language": "python",
   "name": "python3"
  },
  "language_info": {
   "codemirror_mode": {
    "name": "ipython",
    "version": 3
   },
   "file_extension": ".py",
   "mimetype": "text/x-python",
   "name": "python",
   "nbconvert_exporter": "python",
   "pygments_lexer": "ipython3",
   "version": "3.9.4"
  }
 },
 "nbformat": 4,
 "nbformat_minor": 5
}
