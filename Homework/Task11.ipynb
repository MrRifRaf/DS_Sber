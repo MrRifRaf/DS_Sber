{
 "cells": [
  {
   "cell_type": "markdown",
   "id": "d66566a8",
   "metadata": {},
   "source": [
    "1. Обучить полносвязную модель на MNIST\n",
    "1. Обучить глубокую сверточную сеть на MNIST\n",
    "1. *Обучить с нуля глубокую сеть на небольшом датасете. Сравнить результат с дообучением предобученной сети. CIFAR-10"
   ]
  },
  {
   "cell_type": "code",
   "execution_count": 1,
   "id": "9d4175f9",
   "metadata": {
    "ExecuteTime": {
     "end_time": "2022-11-20T16:04:04.098534Z",
     "start_time": "2022-11-20T16:03:58.055633Z"
    }
   },
   "outputs": [],
   "source": [
    "import matplotlib.pyplot as plt\n",
    "import numpy\n",
    "import torch\n",
    "from torch import nn\n",
    "from torch.utils.data import DataLoader\n",
    "from torchvision import datasets, models\n",
    "from torchvision.transforms import ToTensor"
   ]
  },
  {
   "cell_type": "code",
   "execution_count": 12,
   "id": "8df4ec49",
   "metadata": {
    "ExecuteTime": {
     "end_time": "2022-11-20T16:08:29.679385Z",
     "start_time": "2022-11-20T16:08:29.600751Z"
    }
   },
   "outputs": [],
   "source": [
    "# Create data loaders.\n",
    "train_data = datasets.MNIST(root='.', train=True,\n",
    "                            download=True, transform=ToTensor())\n",
    "test_data = datasets.MNIST(root='.', train=False,\n",
    "                           download=True, transform=ToTensor())\n",
    "train_dataloader = DataLoader(\n",
    "    train_data, batch_size=BATCH_SIZE, shuffle=True, drop_last=True)\n",
    "test_dataloader = DataLoader(\n",
    "    test_data, batch_size=BATCH_SIZE, shuffle=True, drop_last=True)"
   ]
  },
  {
   "cell_type": "code",
   "execution_count": 3,
   "id": "8bb9d026",
   "metadata": {
    "ExecuteTime": {
     "end_time": "2022-11-20T16:04:10.397512Z",
     "start_time": "2022-11-20T16:04:09.976708Z"
    }
   },
   "outputs": [
    {
     "data": {
      "image/png": "[encoded data removed]",
      "text/plain": [
       "<Figure size 432x288 with 1 Axes>"
      ]
     },
     "metadata": {
      "needs_background": "light"
     },
     "output_type": "display_data"
    }
   ],
   "source": [
    "plt.imshow(train_data.data[5].detach().numpy())\n",
    "plt.show()"
   ]
  },
  {
   "cell_type": "markdown",
   "id": "542766db",
   "metadata": {
    "ExecuteTime": {
     "end_time": "2022-11-17T06:11:37.411288Z",
     "start_time": "2022-11-17T06:11:37.384915Z"
    }
   },
   "source": [
    "Обучить полносвязную модель на MNIST"
   ]
  },
  {
   "cell_type": "code",
   "execution_count": 4,
   "id": "d2a43b8b",
   "metadata": {
    "ExecuteTime": {
     "end_time": "2022-11-20T16:06:47.203706Z",
     "start_time": "2022-11-20T16:06:47.187782Z"
    }
   },
   "outputs": [],
   "source": [
    "# hyperparameters for full connection network:\n",
    "BATCH_SIZE = 128\n",
    "FULL_NN = ((28 * 28, 500), (500, 250), (250, 10))\n",
    "L_R = 1e-3"
   ]
  },
  {
   "cell_type": "code",
   "execution_count": 5,
   "id": "7e6cf82a",
   "metadata": {
    "ExecuteTime": {
     "end_time": "2022-11-20T16:07:00.726605Z",
     "start_time": "2022-11-20T16:07:00.702591Z"
    }
   },
   "outputs": [],
   "source": [
    "class FullModel(nn.Module):\n",
    "    def __init__(self, arch: tuple[tuple[int, int]], do_p=0.1, activ='relu'):\n",
    "        super().__init__()\n",
    "        self.flat = nn.Flatten()\n",
    "        self.seq = nn.Sequential()\n",
    "        for inp, out in arch[:-1]:\n",
    "            self.seq.append(nn.Linear(inp, out))\n",
    "            if activ.lower() == 'relu':\n",
    "                self.seq.append(nn.ReLU())\n",
    "            elif active.lower() == 'sigmoid':\n",
    "                self.seq.append(nn.Sigmoid())\n",
    "            self.seq.append(nn.Dropout(do_p))\n",
    "        self.seq.append(nn.Linear(*arch[-1]))\n",
    "        \n",
    "    def forward(self, x):\n",
    "        x = self.flat(x)\n",
    "        logits = self.seq(x)\n",
    "        return logits    "
   ]
  },
  {
   "cell_type": "code",
   "execution_count": 7,
   "id": "7e2cab59",
   "metadata": {
    "ExecuteTime": {
     "end_time": "2022-11-20T16:07:12.965964Z",
     "start_time": "2022-11-20T16:07:12.888342Z"
    }
   },
   "outputs": [
    {
     "data": {
      "text/plain": [
       "FullModel(\n",
       "  (flat): Flatten(start_dim=1, end_dim=-1)\n",
       "  (seq): Sequential(\n",
       "    (0): Linear(in_features=784, out_features=500, bias=True)\n",
       "    (1): ReLU()\n",
       "    (2): Dropout(p=0.1, inplace=False)\n",
       "    (3): Linear(in_features=500, out_features=250, bias=True)\n",
       "    (4): ReLU()\n",
       "    (5): Dropout(p=0.1, inplace=False)\n",
       "    (6): Linear(in_features=250, out_features=10, bias=True)\n",
       "  )\n",
       ")"
      ]
     },
     "execution_count": 7,
     "metadata": {},
     "output_type": "execute_result"
    }
   ],
   "source": [
    "model = FullModel(FULL_NN)\n",
    "model"
   ]
  },
  {
   "cell_type": "code",
   "execution_count": 8,
   "id": "be33aa30",
   "metadata": {
    "ExecuteTime": {
     "end_time": "2022-11-20T16:07:16.610640Z",
     "start_time": "2022-11-20T16:07:16.597640Z"
    }
   },
   "outputs": [],
   "source": [
    "loss_fn = nn.CrossEntropyLoss()\n",
    "optim = torch.optim.Adam(model.parameters(), lr=L_R)"
   ]
  },
  {
   "cell_type": "code",
   "execution_count": 9,
   "id": "d70743d1",
   "metadata": {
    "ExecuteTime": {
     "end_time": "2022-11-20T16:07:18.921105Z",
     "start_time": "2022-11-20T16:07:18.896798Z"
    }
   },
   "outputs": [],
   "source": [
    "def train(dataloader, model, loss_fn, optimizer):\n",
    "    size = len(dataloader.dataset)\n",
    "    model.train()\n",
    "    for batch, (X, y) in enumerate(dataloader):\n",
    "        pred = model(X)\n",
    "        loss = loss_fn(pred, y)\n",
    "\n",
    "        optimizer.zero_grad()\n",
    "        loss.backward()\n",
    "        optimizer.step()\n",
    "\n",
    "        if batch % 100 == 0:\n",
    "            loss, current = loss.item(), batch * len(X)\n",
    "            print(f'loss: {loss:>7f} [{current:>5d}/{size:>5d}]')"
   ]
  },
  {
   "cell_type": "code",
   "execution_count": 10,
   "id": "70c3cc15",
   "metadata": {
    "ExecuteTime": {
     "end_time": "2022-11-20T16:07:21.310002Z",
     "start_time": "2022-11-20T16:07:21.286249Z"
    }
   },
   "outputs": [],
   "source": [
    "def test(dataloader, model, loss_fn):\n",
    "    size = len(dataloader.dataset)\n",
    "    num_batches = len(dataloader)\n",
    "    model.eval()\n",
    "    test_loss, correct = 0, 0\n",
    "    with torch.no_grad():\n",
    "        for X, y in dataloader:\n",
    "            pred = model(X)\n",
    "            test_loss += loss_fn(pred, y).item()\n",
    "            correct += (pred.argmax(1) == y).type(torch.float).sum().item()\n",
    "    test_loss /= num_batches\n",
    "    correct /= size\n",
    "    print('Test Error:')\n",
    "    print(f'Accuracy: {(100 * correct):>0.1f}%,', end=' ')\n",
    "    print(f'Avg loss: {test_loss:>8f} \\n')"
   ]
  },
  {
   "cell_type": "code",
   "execution_count": 13,
   "id": "ad63bc7e",
   "metadata": {
    "ExecuteTime": {
     "end_time": "2022-11-20T16:10:46.222954Z",
     "start_time": "2022-11-20T16:08:36.675429Z"
    }
   },
   "outputs": [
    {
     "name": "stdout",
     "output_type": "stream",
     "text": [
      "Epoch 1\n",
      "-------------------------------\n",
      "loss: 2.298320 [    0/60000]\n",
      "loss: 0.275148 [12800/60000]\n",
      "loss: 0.389434 [25600/60000]\n",
      "loss: 0.101836 [38400/60000]\n",
      "loss: 0.172085 [51200/60000]\n",
      "Test Error:\n",
      "Accuracy: 96.2%, Avg loss: 0.123376 \n",
      "\n",
      "Epoch 2\n",
      "-------------------------------\n",
      "loss: 0.174009 [    0/60000]\n",
      "loss: 0.167481 [12800/60000]\n",
      "loss: 0.104810 [25600/60000]\n",
      "loss: 0.077570 [38400/60000]\n",
      "loss: 0.134580 [51200/60000]\n",
      "Test Error:\n",
      "Accuracy: 97.2%, Avg loss: 0.089144 \n",
      "\n",
      "Epoch 3\n",
      "-------------------------------\n",
      "loss: 0.079036 [    0/60000]\n",
      "loss: 0.081160 [12800/60000]\n",
      "loss: 0.046381 [25600/60000]\n",
      "loss: 0.058492 [38400/60000]\n",
      "loss: 0.037801 [51200/60000]\n",
      "Test Error:\n",
      "Accuracy: 97.6%, Avg loss: 0.072532 \n",
      "\n",
      "Epoch 4\n",
      "-------------------------------\n",
      "loss: 0.022561 [    0/60000]\n",
      "loss: 0.049191 [12800/60000]\n",
      "loss: 0.126939 [25600/60000]\n",
      "loss: 0.089375 [38400/60000]\n",
      "loss: 0.102974 [51200/60000]\n",
      "Test Error:\n",
      "Accuracy: 97.7%, Avg loss: 0.066182 \n",
      "\n",
      "Epoch 5\n",
      "-------------------------------\n",
      "loss: 0.013374 [    0/60000]\n",
      "loss: 0.070714 [12800/60000]\n",
      "loss: 0.022378 [25600/60000]\n",
      "loss: 0.019897 [38400/60000]\n",
      "loss: 0.022519 [51200/60000]\n",
      "Test Error:\n",
      "Accuracy: 97.7%, Avg loss: 0.069983 \n",
      "\n",
      "Epoch 6\n",
      "-------------------------------\n",
      "loss: 0.021501 [    0/60000]\n",
      "loss: 0.035969 [12800/60000]\n",
      "loss: 0.040669 [25600/60000]\n",
      "loss: 0.019192 [38400/60000]\n",
      "loss: 0.004050 [51200/60000]\n",
      "Test Error:\n",
      "Accuracy: 97.6%, Avg loss: 0.075901 \n",
      "\n",
      "Done!\n"
     ]
    }
   ],
   "source": [
    "epochs = 6\n",
    "for t in range(epochs):\n",
    "    print(f\"Epoch {t+1}\\n-------------------------------\")\n",
    "    train(train_dataloader, model, loss_fn, optim)\n",
    "    test(test_dataloader, model, loss_fn)\n",
    "print(\"Done!\")"
   ]
  },
  {
   "cell_type": "code",
   "execution_count": 14,
   "id": "84d6d5ec",
   "metadata": {
    "ExecuteTime": {
     "end_time": "2022-11-20T16:11:54.208057Z",
     "start_time": "2022-11-20T16:11:54.197996Z"
    }
   },
   "outputs": [],
   "source": [
    "def check(k):\n",
    "    print('predict:', model(test_data[k][0]).argmax(1).item())\n",
    "    print('true:', test_data[k][1])\n",
    "    plt.imshow(test_data.data[k].detach().numpy())\n",
    "    plt.show()"
   ]
  },
  {
   "cell_type": "code",
   "execution_count": 15,
   "id": "8d78718d",
   "metadata": {
    "ExecuteTime": {
     "end_time": "2022-11-20T16:12:03.139560Z",
     "start_time": "2022-11-20T16:12:02.684527Z"
    }
   },
   "outputs": [
    {
     "name": "stdout",
     "output_type": "stream",
     "text": [
      "predict: 9\n",
      "true: 9\n"
     ]
    },
    {
     "data": {
      "image/png": "[encoded data removed]",
      "text/plain": [
       "<Figure size 432x288 with 1 Axes>"
      ]
     },
     "metadata": {
      "needs_background": "light"
     },
     "output_type": "display_data"
    }
   ],
   "source": [
    "check(99)"
   ]
  },
  {
   "cell_type": "markdown",
   "id": "114d1fe3",
   "metadata": {},
   "source": [
    "Обучить глубокую сверточную сеть на MNIST"
   ]
  },
  {
   "cell_type": "code",
   "execution_count": 16,
   "id": "3a0bcc70",
   "metadata": {
    "ExecuteTime": {
     "end_time": "2022-11-20T16:13:47.973290Z",
     "start_time": "2022-11-20T16:13:47.952919Z"
    }
   },
   "outputs": [],
   "source": [
    "class ConvNetwork(nn.Module):\n",
    "    def __init__(self, input_ch, hidden_ch, out_ch, out_dim, do_prob=0.1):\n",
    "        super().__init__()\n",
    "        self.seq = nn.Sequential()\n",
    "        self.seq.append(nn.Conv2d(input_ch, hidden_ch,\n",
    "                        kernel_size=5, stride=2, padding=2))\n",
    "        self.seq.append(nn.BatchNorm2d(hidden_ch))\n",
    "        self.seq.append(nn.ReLU())\n",
    "        self.seq.append(nn.Dropout(do_prob))\n",
    "        self.seq.append(nn.Conv2d(hidden_ch, hidden_ch,\n",
    "                        kernel_size=3, stride=1, padding=1))\n",
    "        self.seq.append(nn.BatchNorm2d(hidden_ch))\n",
    "        self.seq.append(nn.ReLU())\n",
    "        self.seq.append(nn.Dropout(do_prob))\n",
    "        self.seq.append(nn.Conv2d(hidden_ch, out_ch,\n",
    "                        kernel_size=3, stride=1, padding=1))\n",
    "        self.seq.append(nn.Flatten())\n",
    "        self.seq.append(nn.Linear(out_ch*14*14, out_dim))\n",
    "\n",
    "    def forward(self, x):\n",
    "        logits = self.seq(x)\n",
    "        return logits"
   ]
  },
  {
   "cell_type": "code",
   "execution_count": 17,
   "id": "1c9bc86e",
   "metadata": {
    "ExecuteTime": {
     "end_time": "2022-11-20T16:14:42.105379Z",
     "start_time": "2022-11-20T16:14:42.091992Z"
    }
   },
   "outputs": [],
   "source": [
    "# Hyperparameters of convolutional network\n",
    "INP_CHAN = 1\n",
    "HID_CHAN = 128\n",
    "OUT_CHAN = 5\n",
    "OUT_DIM = 10"
   ]
  },
  {
   "cell_type": "code",
   "execution_count": 18,
   "id": "0161a8c8",
   "metadata": {
    "ExecuteTime": {
     "end_time": "2022-11-20T16:15:11.655661Z",
     "start_time": "2022-11-20T16:15:11.577471Z"
    }
   },
   "outputs": [
    {
     "data": {
      "text/plain": [
       "ConvNetwork(\n",
       "  (seq): Sequential(\n",
       "    (0): Conv2d(1, 128, kernel_size=(5, 5), stride=(2, 2), padding=(2, 2))\n",
       "    (1): BatchNorm2d(128, eps=1e-05, momentum=0.1, affine=True, track_running_stats=True)\n",
       "    (2): ReLU()\n",
       "    (3): Dropout(p=0.1, inplace=False)\n",
       "    (4): Conv2d(128, 128, kernel_size=(3, 3), stride=(1, 1), padding=(1, 1))\n",
       "    (5): BatchNorm2d(128, eps=1e-05, momentum=0.1, affine=True, track_running_stats=True)\n",
       "    (6): ReLU()\n",
       "    (7): Dropout(p=0.1, inplace=False)\n",
       "    (8): Conv2d(128, 5, kernel_size=(3, 3), stride=(1, 1), padding=(1, 1))\n",
       "    (9): Flatten(start_dim=1, end_dim=-1)\n",
       "    (10): Linear(in_features=980, out_features=10, bias=True)\n",
       "  )\n",
       ")"
      ]
     },
     "execution_count": 18,
     "metadata": {},
     "output_type": "execute_result"
    }
   ],
   "source": [
    "conv_model = ConvNetwork(INP_CHAN, HID_CHAN, OUT_CHAN, OUT_DIM)\n",
    "conv_loss_fn = nn.CrossEntropyLoss()\n",
    "conv_optim = torch.optim.Adam(conv_model.parameters())\n",
    "conv_model"
   ]
  },
  {
   "cell_type": "code",
   "execution_count": 19,
   "id": "5cab545e",
   "metadata": {
    "ExecuteTime": {
     "end_time": "2022-11-20T16:29:03.152835Z",
     "start_time": "2022-11-20T16:15:39.744123Z"
    }
   },
   "outputs": [
    {
     "name": "stdout",
     "output_type": "stream",
     "text": [
      "Epoch 1\n",
      "-------------------------------\n",
      "loss: 2.347651 [    0/60000]\n",
      "loss: 0.099823 [12800/60000]\n",
      "loss: 0.061236 [25600/60000]\n",
      "loss: 0.047796 [38400/60000]\n",
      "loss: 0.054542 [51200/60000]\n",
      "Test Error:\n",
      "Accuracy: 98.0%, Avg loss: 0.055489 \n",
      "\n",
      "Epoch 2\n",
      "-------------------------------\n",
      "loss: 0.025129 [    0/60000]\n",
      "loss: 0.056620 [12800/60000]\n",
      "loss: 0.108810 [25600/60000]\n",
      "loss: 0.029715 [38400/60000]\n",
      "loss: 0.044570 [51200/60000]\n",
      "Test Error:\n",
      "Accuracy: 98.4%, Avg loss: 0.042021 \n",
      "\n",
      "Epoch 3\n",
      "-------------------------------\n",
      "loss: 0.073155 [    0/60000]\n",
      "loss: 0.043593 [12800/60000]\n",
      "loss: 0.040637 [25600/60000]\n",
      "loss: 0.066073 [38400/60000]\n",
      "loss: 0.078932 [51200/60000]\n",
      "Test Error:\n",
      "Accuracy: 98.2%, Avg loss: 0.047302 \n",
      "\n",
      "Epoch 4\n",
      "-------------------------------\n",
      "loss: 0.077586 [    0/60000]\n",
      "loss: 0.140378 [12800/60000]\n",
      "loss: 0.024889 [25600/60000]\n",
      "loss: 0.097810 [38400/60000]\n",
      "loss: 0.034879 [51200/60000]\n",
      "Test Error:\n",
      "Accuracy: 98.8%, Avg loss: 0.032914 \n",
      "\n",
      "Done!\n"
     ]
    }
   ],
   "source": [
    "epochs = 4\n",
    "for t in range(epochs):\n",
    "    print(f\"Epoch {t+1}\\n-------------------------------\")\n",
    "    train(train_dataloader, conv_model, conv_loss_fn, conv_optim)\n",
    "    test(test_dataloader, conv_model, conv_loss_fn)\n",
    "print(\"Done!\")"
   ]
  },
  {
   "cell_type": "code",
   "execution_count": 22,
   "id": "d1c0f634",
   "metadata": {
    "ExecuteTime": {
     "end_time": "2022-11-20T16:31:00.411853Z",
     "start_time": "2022-11-20T16:30:59.771855Z"
    }
   },
   "outputs": [
    {
     "name": "stdout",
     "output_type": "stream",
     "text": [
      "10.5770845413208 2 2\n",
      "10.191317558288574 9 9\n",
      "13.033565521240234 0 0\n",
      "9.242420196533203 7 7\n",
      "5.584604740142822 5 9\n",
      "9.553967475891113 1 1\n",
      "7.081634044647217 0 0\n",
      "12.25412654876709 7 7\n",
      "15.521939277648926 7 7\n",
      "13.491518020629883 9 9\n",
      "11.447035789489746 8 8\n",
      "12.108256340026855 2 2\n"
     ]
    },
    {
     "data": {
      "image/png": "[encoded data removed]",
      "text/plain": [
       "<Figure size 432x288 with 1 Axes>"
      ]
     },
     "metadata": {
      "needs_background": "light"
     },
     "output_type": "display_data"
    }
   ],
   "source": [
    "with torch.no_grad():\n",
    "    for n, (X, y) in enumerate(test_dataloader):\n",
    "        pred = model(X)\n",
    "        print(pred[1].max().item(), pred[1].argmax().item(), y[1].item())\n",
    "        if pred[1].argmax().item() != y[1].item():\n",
    "            plt.imshow(X[1].squeeze().numpy())\n",
    "        if n > 10:\n",
    "            break"
   ]
  }
 ],
 "metadata": {
  "kernelspec": {
   "display_name": "Python 3 (ipykernel)",
   "language": "python",
   "name": "python3"
  },
  "language_info": {
   "codemirror_mode": {
    "name": "ipython",
    "version": 3
   },
   "file_extension": ".py",
   "mimetype": "text/x-python",
   "name": "python",
   "nbconvert_exporter": "python",
   "pygments_lexer": "ipython3",
   "version": "3.9.4"
  }
 },
 "nbformat": 4,
 "nbformat_minor": 5
}
