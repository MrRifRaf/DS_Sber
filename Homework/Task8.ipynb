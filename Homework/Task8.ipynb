{
 "cells": [
  {
   "cell_type": "code",
   "execution_count": 2,
   "metadata": {
    "ExecuteTime": {
     "end_time": "2022-10-28T06:00:25.272926Z",
     "start_time": "2022-10-28T06:00:21.508628Z"
    }
   },
   "outputs": [],
   "source": [
    "from sklearn.datasets import load_boston\n",
    "import pandas as pd\n",
    "import numpy as np"
   ]
  },
  {
   "cell_type": "code",
   "execution_count": 3,
   "metadata": {
    "ExecuteTime": {
     "end_time": "2022-10-28T06:00:25.288498Z",
     "start_time": "2022-10-28T06:00:25.280994Z"
    }
   },
   "outputs": [],
   "source": [
    "RANDOM_STATE = 42"
   ]
  },
  {
   "cell_type": "code",
   "execution_count": 4,
   "metadata": {
    "ExecuteTime": {
     "end_time": "2022-10-28T06:00:25.331588Z",
     "start_time": "2022-10-28T06:00:25.294139Z"
    }
   },
   "outputs": [],
   "source": [
    "dataset = load_boston()\n",
    "X = pd.DataFrame(dataset.data)\n",
    "X.columns = dataset.feature_names\n",
    "y = dataset.target"
   ]
  },
  {
   "cell_type": "code",
   "execution_count": null,
   "metadata": {},
   "outputs": [],
   "source": []
  },
  {
   "cell_type": "markdown",
   "metadata": {},
   "source": [
    "1. Разделите выборку на обучающую и тестовую в отношении 80% / 20%."
   ]
  },
  {
   "cell_type": "code",
   "execution_count": 5,
   "metadata": {
    "ExecuteTime": {
     "end_time": "2022-10-28T06:00:25.446396Z",
     "start_time": "2022-10-28T06:00:25.340018Z"
    }
   },
   "outputs": [],
   "source": [
    "from sklearn.model_selection import train_test_split"
   ]
  },
  {
   "cell_type": "code",
   "execution_count": 6,
   "metadata": {
    "ExecuteTime": {
     "end_time": "2022-10-28T06:00:25.492209Z",
     "start_time": "2022-10-28T06:00:25.451338Z"
    }
   },
   "outputs": [
    {
     "data": {
      "text/plain": [
       "((404, 13), (102, 13), (404,), (102,))"
      ]
     },
     "execution_count": 6,
     "metadata": {},
     "output_type": "execute_result"
    }
   ],
   "source": [
    "X_train, X_test, y_train, y_test = train_test_split(X, y, test_size=0.2, random_state=RANDOM_STATE)\n",
    "X_train.shape, X_test.shape, y_train.shape, y_test.shape"
   ]
  },
  {
   "cell_type": "code",
   "execution_count": null,
   "metadata": {},
   "outputs": [],
   "source": []
  },
  {
   "cell_type": "markdown",
   "metadata": {},
   "source": [
    "2. Обучите стандартную регрессию, а также Ridge и  Lasso c параметрами по умолчанию и выведите их R2 на тестовой выборке."
   ]
  },
  {
   "cell_type": "code",
   "execution_count": 7,
   "metadata": {
    "ExecuteTime": {
     "end_time": "2022-10-28T06:00:25.648661Z",
     "start_time": "2022-10-28T06:00:25.494795Z"
    }
   },
   "outputs": [],
   "source": [
    "from sklearn.linear_model import Ridge, Lasso, LinearRegression"
   ]
  },
  {
   "cell_type": "code",
   "execution_count": 8,
   "metadata": {
    "ExecuteTime": {
     "end_time": "2022-10-28T06:00:25.820755Z",
     "start_time": "2022-10-28T06:00:25.652470Z"
    }
   },
   "outputs": [
    {
     "name": "stdout",
     "output_type": "stream",
     "text": [
      "R^2 of Ridge model: 0.6662\n",
      "R^2 of Lasso model: 0.6671\n",
      "R^2 of Vanilla Linear model: 0.6688\n"
     ]
    }
   ],
   "source": [
    "names = ['Ridge', 'Lasso', 'Vanilla Linear']\n",
    "models = [Ridge(), Lasso(), LinearRegression()]\n",
    "for name, model in zip(names, models):\n",
    "    model.fit(X_train, y_train)\n",
    "    score = model.score(X_test, y_test)\n",
    "    print(f'R^2 of {name} model: {score:.4f}')"
   ]
  },
  {
   "cell_type": "code",
   "execution_count": null,
   "metadata": {},
   "outputs": [],
   "source": []
  },
  {
   "cell_type": "markdown",
   "metadata": {},
   "source": [
    "3. Для Ridge и Lasso подберите коэффициент регуляризации (используйте GridSearchCV, RidgeCV, LassoCV) в пределах от $10^{-5}$ до $10^5$ (по степеням 10). Посчитайте R2 на тестовой выборке по лучшим моделям и сравните с предыдущими результатами. Напишите как изменился результат."
   ]
  },
  {
   "cell_type": "code",
   "execution_count": 9,
   "metadata": {
    "ExecuteTime": {
     "end_time": "2022-10-28T06:00:25.830352Z",
     "start_time": "2022-10-28T06:00:25.824031Z"
    }
   },
   "outputs": [],
   "source": [
    "from sklearn.model_selection import GridSearchCV\n",
    "from sklearn.linear_model import RidgeCV, LassoCV"
   ]
  },
  {
   "cell_type": "code",
   "execution_count": 10,
   "metadata": {
    "ExecuteTime": {
     "end_time": "2022-10-28T06:00:25.851876Z",
     "start_time": "2022-10-28T06:00:25.833578Z"
    }
   },
   "outputs": [],
   "source": [
    "params = {'alpha': [10**n for n in range(-5, 6)]}\n",
    "cv_models = []\n",
    "cv_models.append(GridSearchCV(estimator=Ridge(), param_grid=params))\n",
    "cv_models.append(GridSearchCV(estimator=Lasso(), param_grid=params))\n",
    "cv_models.append(RidgeCV(alphas=params['alpha']))\n",
    "cv_models.append(LassoCV(alphas=params['alpha']))"
   ]
  },
  {
   "cell_type": "code",
   "execution_count": 11,
   "metadata": {
    "ExecuteTime": {
     "end_time": "2022-10-28T06:00:27.057056Z",
     "start_time": "2022-10-28T06:00:25.859230Z"
    }
   },
   "outputs": [
    {
     "name": "stdout",
     "output_type": "stream",
     "text": [
      "R^2 of Grid Search Ridge model: 0.6688\n",
      "R^2 of Grid Search Lasso model: 0.6688\n",
      "R^2 of Ridge CV model: 0.6688\n",
      "R^2 of Lasso CV model: 0.6688\n"
     ]
    }
   ],
   "source": [
    "cv_names = ['Grid Search Ridge', 'Grid Search Lasso', 'Ridge CV', 'Lasso CV']\n",
    "for name, model in zip(cv_names, cv_models):\n",
    "    model.fit(X_train, y_train)\n",
    "    score = model.score(X_test, y_test)\n",
    "    print(f'R^2 of {name} model: {score:.4f}')"
   ]
  },
  {
   "cell_type": "markdown",
   "metadata": {},
   "source": [
    "### Вывод:\n",
    "R^2 не поменялся от регуляризации и остался на уровне обычной линейной регрессии"
   ]
  },
  {
   "cell_type": "code",
   "execution_count": null,
   "metadata": {},
   "outputs": [],
   "source": []
  },
  {
   "cell_type": "markdown",
   "metadata": {},
   "source": [
    "4. Проведите масштабирование выборки (используйте Pipeline, StandardScaler, MinMaxScaler), посчитайте R2 и сравните с предыдущими результатами. Напишите как изменился результат"
   ]
  },
  {
   "cell_type": "code",
   "execution_count": 12,
   "metadata": {
    "ExecuteTime": {
     "end_time": "2022-10-28T06:00:27.077917Z",
     "start_time": "2022-10-28T06:00:27.059414Z"
    }
   },
   "outputs": [],
   "source": [
    "from sklearn.pipeline import Pipeline\n",
    "from sklearn.preprocessing import StandardScaler, MinMaxScaler"
   ]
  },
  {
   "cell_type": "code",
   "execution_count": 13,
   "metadata": {
    "ExecuteTime": {
     "end_time": "2022-10-28T06:00:27.158415Z",
     "start_time": "2022-10-28T06:00:27.082373Z"
    }
   },
   "outputs": [
    {
     "name": "stdout",
     "output_type": "stream",
     "text": [
      "R^2 of ridge model with standard scaler: 0.6685\n",
      "R^2 of ridge model with min_max scaler: 0.6764\n",
      "R^2 of lasso model with standard scaler: 0.6239\n",
      "R^2 of lasso model with min_max scaler: 0.2574\n",
      "R^2 of vanilla_linear model with standard scaler: 0.6688\n",
      "R^2 of vanilla_linear model with min_max scaler: 0.6688\n"
     ]
    }
   ],
   "source": [
    "models = [Ridge(), Lasso(), LinearRegression()]\n",
    "m_names = ['ridge', 'lasso', 'vanilla_linear']\n",
    "scalers = [StandardScaler(), MinMaxScaler()]\n",
    "s_names = ['standard', 'min_max']\n",
    "for model in zip(m_names, models):\n",
    "    for scaler in zip(s_names, scalers):\n",
    "        pipe = Pipeline(steps=[scaler, model])\n",
    "        pipe.fit(X_train, y_train)\n",
    "        score = pipe.score(X_test, y_test)\n",
    "        print(f'R^2 of {model[0]} model with {scaler[0]} scaler: {score:.4f}')"
   ]
  },
  {
   "cell_type": "markdown",
   "metadata": {},
   "source": [
    "### Вывод:\n",
    "Модели со стандартными настройками кроме Lasso показали примерно такой же результат.\n",
    "Lasso показал очень плохой результат с Min Max масштабированием."
   ]
  },
  {
   "cell_type": "code",
   "execution_count": null,
   "metadata": {},
   "outputs": [],
   "source": []
  },
  {
   "cell_type": "markdown",
   "metadata": {},
   "source": [
    "5. Подберите коэффициент регуляризации для Ridge и Lasso на масштабированных данных, посчитайте R2 и сравните с предыдущими результатами. Напишите как изменился результат"
   ]
  },
  {
   "cell_type": "code",
   "execution_count": 14,
   "metadata": {
    "ExecuteTime": {
     "end_time": "2022-10-28T06:00:27.273563Z",
     "start_time": "2022-10-28T06:00:27.159412Z"
    }
   },
   "outputs": [
    {
     "name": "stdout",
     "output_type": "stream",
     "text": [
      "R^2 of ridge_cv model with standard scaler: 0.6660\n",
      "R^2 of ridge_cv model with min_max scaler: 0.6700\n",
      "R^2 of lasso_cv model with standard scaler: 0.6688\n",
      "R^2 of lasso_cv model with min_max scaler: 0.6688\n"
     ]
    }
   ],
   "source": [
    "models = [RidgeCV(alphas=params['alpha']), LassoCV(alphas=params['alpha'])]\n",
    "m_names = ['ridge_cv', 'lasso_cv']\n",
    "scalers = [StandardScaler(), MinMaxScaler()]\n",
    "s_names = ['standard', 'min_max']\n",
    "for model in zip(m_names, models):\n",
    "    for scaler in zip(s_names, scalers):\n",
    "        pipe = Pipeline(steps=[scaler, model])\n",
    "        pipe.fit(X_train, y_train)\n",
    "        score = pipe.score(X_test, y_test)\n",
    "        print(f'R^2 of {model[0]} model with {scaler[0]} scaler: {score:.4f}')"
   ]
  },
  {
   "cell_type": "markdown",
   "metadata": {},
   "source": [
    "### Вывод:\n",
    "Благодаря регулиризации R^2 вернулся в исходный уровень в 0.66-0.67"
   ]
  },
  {
   "cell_type": "code",
   "execution_count": null,
   "metadata": {},
   "outputs": [],
   "source": []
  },
  {
   "cell_type": "markdown",
   "metadata": {},
   "source": [
    "6. Добавьте попарные произведения признаков и их квадраты (используйте PolynomialFeatures) на масштабированных признаках, посчитайте R2 и сравните с предыдущими результатами. Напишите как изменился результат"
   ]
  },
  {
   "cell_type": "code",
   "execution_count": 15,
   "metadata": {
    "ExecuteTime": {
     "end_time": "2022-10-28T06:00:27.289266Z",
     "start_time": "2022-10-28T06:00:27.276591Z"
    }
   },
   "outputs": [],
   "source": [
    "from sklearn.preprocessing import PolynomialFeatures\n",
    "import warnings\n",
    "warnings.filterwarnings('ignore')"
   ]
  },
  {
   "cell_type": "code",
   "execution_count": 16,
   "metadata": {
    "ExecuteTime": {
     "end_time": "2022-10-28T06:00:28.020862Z",
     "start_time": "2022-10-28T06:00:27.292588Z"
    }
   },
   "outputs": [
    {
     "name": "stdout",
     "output_type": "stream",
     "text": [
      "R^2 of ridge_cv model with standard scaler : 0.8180\n",
      "R^2 of ridge_cv model with min_max scaler : 0.8501\n",
      "R^2 of lasso_cv model with standard scaler : 0.8122\n",
      "R^2 of lasso_cv model with min_max scaler : 0.8391\n"
     ]
    }
   ],
   "source": [
    "models = [RidgeCV(alphas=params['alpha']), LassoCV(alphas=params['alpha'])]\n",
    "m_names = ['ridge_cv', 'lasso_cv']\n",
    "scalers = [StandardScaler(), MinMaxScaler()]\n",
    "s_names = ['standard', 'min_max']\n",
    "for model in zip(m_names, models):\n",
    "    for scaler in zip(s_names, scalers):\n",
    "        pipe = Pipeline(steps=[scaler, ('pol_feat', PolynomialFeatures(include_bias=False)), model])\n",
    "        pipe.fit(X_train, y_train)\n",
    "        score = pipe.score(X_test, y_test)\n",
    "        print(f'R^2 of {model[0]} model with {scaler[0]} scaler : {score:.4f}')"
   ]
  },
  {
   "cell_type": "markdown",
   "metadata": {},
   "source": [
    "### Вывод:\n",
    "Использование попарных произведений признаков значительно увеличило коэффициент детерминации до максимума 0.85 для Ridge с масштабированием min_max"
   ]
  },
  {
   "cell_type": "code",
   "execution_count": null,
   "metadata": {},
   "outputs": [],
   "source": []
  },
  {
   "cell_type": "markdown",
   "metadata": {},
   "source": [
    "7. Подберите наилучшую модель (используйте Pipeline, GridSearchCV) подбирая тип регуляризации (L1, L2), коэффициент регуляризации, метод масштабирования и степень полинома в PolynomialFeatures. Выведите итоговые параметры и результат R2. Напишите как изменился R2 по сравнению с предыдущими экспериментами"
   ]
  },
  {
   "cell_type": "code",
   "execution_count": 17,
   "metadata": {
    "ExecuteTime": {
     "end_time": "2022-10-28T06:00:28.044784Z",
     "start_time": "2022-10-28T06:00:28.026267Z"
    }
   },
   "outputs": [],
   "source": [
    "steps = [('scaler', StandardScaler()),\n",
    "         ('polynomial', PolynomialFeatures(include_bias=False)),\n",
    "         ('model', Ridge())]\n",
    "params = {'scaler': [StandardScaler(), MinMaxScaler()],\n",
    "          'polynomial__degree': [2, 3, 4],\n",
    "          'model': [Ridge(), Lasso()],\n",
    "          'model__alpha': params['alpha']\n",
    "         }\n",
    "pipe = Pipeline(steps=steps)\n",
    "search_model = GridSearchCV(pipe, param_grid=params, n_jobs=2)"
   ]
  },
  {
   "cell_type": "code",
   "execution_count": 18,
   "metadata": {
    "ExecuteTime": {
     "end_time": "2022-10-28T06:01:14.781199Z",
     "start_time": "2022-10-28T06:00:28.048490Z"
    }
   },
   "outputs": [
    {
     "data": {
      "text/plain": [
       "GridSearchCV(estimator=Pipeline(steps=[('scaler', StandardScaler()),\n",
       "                                       ('polynomial',\n",
       "                                        PolynomialFeatures(include_bias=False)),\n",
       "                                       ('model', Ridge())]),\n",
       "             n_jobs=2,\n",
       "             param_grid={'model': [Ridge(), Lasso(alpha=0.001)],\n",
       "                         'model__alpha': [1e-05, 0.0001, 0.001, 0.01, 0.1, 1,\n",
       "                                          10, 100, 1000, 10000, 100000],\n",
       "                         'polynomial__degree': [2, 3, 4],\n",
       "                         'scaler': [StandardScaler(), MinMaxScaler()]})"
      ]
     },
     "execution_count": 18,
     "metadata": {},
     "output_type": "execute_result"
    }
   ],
   "source": [
    "search_model.fit(X_train, y_train)"
   ]
  },
  {
   "cell_type": "code",
   "execution_count": 19,
   "metadata": {
    "ExecuteTime": {
     "end_time": "2022-10-28T06:01:14.800035Z",
     "start_time": "2022-10-28T06:01:14.783456Z"
    }
   },
   "outputs": [],
   "source": [
    "score = search_model.score(X_test, y_test)\n",
    "best_params = search_model.best_params_"
   ]
  },
  {
   "cell_type": "code",
   "execution_count": 20,
   "metadata": {
    "ExecuteTime": {
     "end_time": "2022-10-28T06:01:14.815228Z",
     "start_time": "2022-10-28T06:01:14.801034Z"
    }
   },
   "outputs": [
    {
     "name": "stdout",
     "output_type": "stream",
     "text": [
      "Parameters of the best model:\n",
      "{'model': Lasso(alpha=0.001),\n",
      " 'model__alpha': 0.001,\n",
      " 'polynomial__degree': 3,\n",
      " 'scaler': MinMaxScaler()}\n",
      "\n",
      "R^2 of the best model: 0.8450\n"
     ]
    }
   ],
   "source": [
    "from pprint import pprint\n",
    "print('Parameters of the best model:')\n",
    "pprint(best_params)\n",
    "print()\n",
    "print(f'R^2 of the best model: {score:.4f}')"
   ]
  },
  {
   "cell_type": "markdown",
   "metadata": {},
   "source": [
    "### Вывод:\n",
    "Как видим лучшая модель имеет L1 регуляризацию с парметром $\\alpha = 0.001$, степень полинома 3 и метод масштабирования Min Max.\n",
    "Однако на тестовых данных модель показала чуть меньший коэффициент детерминации, чем модель L2 на масштабировании Min Max и степени полинома 2. (0.845 против 0.850 соответственно)"
   ]
  },
  {
   "cell_type": "code",
   "execution_count": null,
   "metadata": {},
   "outputs": [],
   "source": []
  },
  {
   "cell_type": "markdown",
   "metadata": {},
   "source": [
    "http://archive.ics.uci.edu/ml/datasets/Adult<br>\n",
    "https://raw.githubusercontent.com/jbrownlee/Datasets/master/adult-all.csv"
   ]
  },
  {
   "cell_type": "markdown",
   "metadata": {
    "ExecuteTime": {
     "end_time": "2022-10-23T17:58:05.203273Z",
     "start_time": "2022-10-23T17:58:05.180318Z"
    }
   },
   "source": [
    "age: continuous.<br>\n",
    "workclass: Private, Self-emp-not-inc, Self-emp-inc, Federal-gov, Local-gov, State-gov, Without-pay, Never-worked.<br>\n",
    "fnlwgt: continuous.<br>\n",
    "education: Bachelors, Some-college, 11th, HS-grad, Prof-school, Assoc-acdm, Assoc-voc, 9th, 7th-8th, 12th, Masters, 1st-4th, 10th, Doctorate, 5th-6th, Preschool.<br>\n",
    "education-num: continuous.<br>\n",
    "marital-status: Married-civ-spouse, Divorced, Never-married, Separated, Widowed, Married-spouse-absent, Married-AF-spouse.<br>\n",
    "occupation: Tech-support, Craft-repair, Other-service, Sales, Exec-managerial, Prof-specialty, Handlers-cleaners, Machine-op-inspct, Adm-clerical, Farming-fishing, Transport-moving, Priv-house-serv, Protective-serv, Armed-Forces.<br>\n",
    "relationship: Wife, Own-child, Husband, Not-in-family, Other-relative, Unmarried.<br>\n",
    "race: White, Asian-Pac-Islander, Amer-Indian-Eskimo, Other, Black.<br>\n",
    "sex: Female, Male.<br>\n",
    "capital-gain: continuous.<br>\n",
    "capital-loss: continuous.<br>\n",
    "hours-per-week: continuous.<br>\n",
    "native-country: United-States, Cambodia, England, Puerto-Rico, Canada, Germany, Outlying-US(Guam-USVI-etc), India, Japan, Greece, South, China, Cuba, Iran, Honduras, Philippines, Italy, Poland, Jamaica, Vietnam, Mexico, Portugal, Ireland, France, Dominican-Republic, Laos, Ecuador, Taiwan, Haiti, Columbia, Hungary, Guatemala, Nicaragua, Scotland, Thailand, Yugoslavia, El-Salvador, Trinadad&Tobago, Peru, Hong, Holand-Netherlands."
   ]
  },
  {
   "cell_type": "code",
   "execution_count": 21,
   "metadata": {
    "ExecuteTime": {
     "end_time": "2022-10-28T06:01:14.826059Z",
     "start_time": "2022-10-28T06:01:14.819285Z"
    }
   },
   "outputs": [],
   "source": [
    "columns = ['age',\n",
    "           'workclass',\n",
    "           'fnlwgt',\n",
    "           'education',\n",
    "           'education-num',\n",
    "           'marital-status',\n",
    "           'occupation',\n",
    "           'relationship',\n",
    "           'race',\n",
    "           'sex',\n",
    "           'capital-gain',\n",
    "           'capital-loss',\n",
    "           'hours-per-week',\n",
    "           'native-country',\n",
    "           'year-salary'\n",
    "          ]"
   ]
  },
  {
   "cell_type": "code",
   "execution_count": 22,
   "metadata": {
    "ExecuteTime": {
     "end_time": "2022-10-28T06:02:09.065723Z",
     "start_time": "2022-10-28T06:02:08.676142Z"
    }
   },
   "outputs": [
    {
     "data": {
      "text/html": [
       "<div>\n",
       "<style scoped>\n",
       "    .dataframe tbody tr th:only-of-type {\n",
       "        vertical-align: middle;\n",
       "    }\n",
       "\n",
       "    .dataframe tbody tr th {\n",
       "        vertical-align: top;\n",
       "    }\n",
       "\n",
       "    .dataframe thead th {\n",
       "        text-align: right;\n",
       "    }\n",
       "</style>\n",
       "<table border=\"1\" class=\"dataframe\">\n",
       "  <thead>\n",
       "    <tr style=\"text-align: right;\">\n",
       "      <th></th>\n",
       "      <th>age</th>\n",
       "      <th>workclass</th>\n",
       "      <th>fnlwgt</th>\n",
       "      <th>education</th>\n",
       "      <th>education-num</th>\n",
       "      <th>marital-status</th>\n",
       "      <th>occupation</th>\n",
       "      <th>relationship</th>\n",
       "      <th>race</th>\n",
       "      <th>sex</th>\n",
       "      <th>capital-gain</th>\n",
       "      <th>capital-loss</th>\n",
       "      <th>hours-per-week</th>\n",
       "      <th>native-country</th>\n",
       "      <th>yearly-salary</th>\n",
       "    </tr>\n",
       "  </thead>\n",
       "  <tbody>\n",
       "    <tr>\n",
       "      <th>48837</th>\n",
       "      <td>39</td>\n",
       "      <td>Private</td>\n",
       "      <td>215419</td>\n",
       "      <td>Bachelors</td>\n",
       "      <td>13</td>\n",
       "      <td>Divorced</td>\n",
       "      <td>Prof-specialty</td>\n",
       "      <td>Not-in-family</td>\n",
       "      <td>White</td>\n",
       "      <td>Female</td>\n",
       "      <td>0</td>\n",
       "      <td>0</td>\n",
       "      <td>36</td>\n",
       "      <td>United-States</td>\n",
       "      <td>&lt;=50K</td>\n",
       "    </tr>\n",
       "    <tr>\n",
       "      <th>48838</th>\n",
       "      <td>64</td>\n",
       "      <td>?</td>\n",
       "      <td>321403</td>\n",
       "      <td>HS-grad</td>\n",
       "      <td>9</td>\n",
       "      <td>Widowed</td>\n",
       "      <td>?</td>\n",
       "      <td>Other-relative</td>\n",
       "      <td>Black</td>\n",
       "      <td>Male</td>\n",
       "      <td>0</td>\n",
       "      <td>0</td>\n",
       "      <td>40</td>\n",
       "      <td>United-States</td>\n",
       "      <td>&lt;=50K</td>\n",
       "    </tr>\n",
       "    <tr>\n",
       "      <th>48839</th>\n",
       "      <td>38</td>\n",
       "      <td>Private</td>\n",
       "      <td>374983</td>\n",
       "      <td>Bachelors</td>\n",
       "      <td>13</td>\n",
       "      <td>Married-civ-spouse</td>\n",
       "      <td>Prof-specialty</td>\n",
       "      <td>Husband</td>\n",
       "      <td>White</td>\n",
       "      <td>Male</td>\n",
       "      <td>0</td>\n",
       "      <td>0</td>\n",
       "      <td>50</td>\n",
       "      <td>United-States</td>\n",
       "      <td>&lt;=50K</td>\n",
       "    </tr>\n",
       "    <tr>\n",
       "      <th>48840</th>\n",
       "      <td>44</td>\n",
       "      <td>Private</td>\n",
       "      <td>83891</td>\n",
       "      <td>Bachelors</td>\n",
       "      <td>13</td>\n",
       "      <td>Divorced</td>\n",
       "      <td>Adm-clerical</td>\n",
       "      <td>Own-child</td>\n",
       "      <td>Asian-Pac-Islander</td>\n",
       "      <td>Male</td>\n",
       "      <td>5455</td>\n",
       "      <td>0</td>\n",
       "      <td>40</td>\n",
       "      <td>United-States</td>\n",
       "      <td>&lt;=50K</td>\n",
       "    </tr>\n",
       "    <tr>\n",
       "      <th>48841</th>\n",
       "      <td>35</td>\n",
       "      <td>Self-emp-inc</td>\n",
       "      <td>182148</td>\n",
       "      <td>Bachelors</td>\n",
       "      <td>13</td>\n",
       "      <td>Married-civ-spouse</td>\n",
       "      <td>Exec-managerial</td>\n",
       "      <td>Husband</td>\n",
       "      <td>White</td>\n",
       "      <td>Male</td>\n",
       "      <td>0</td>\n",
       "      <td>0</td>\n",
       "      <td>60</td>\n",
       "      <td>United-States</td>\n",
       "      <td>&gt;50K</td>\n",
       "    </tr>\n",
       "  </tbody>\n",
       "</table>\n",
       "</div>"
      ],
      "text/plain": [
       "       age     workclass  fnlwgt  education  education-num  \\\n",
       "48837   39       Private  215419  Bachelors             13   \n",
       "48838   64             ?  321403    HS-grad              9   \n",
       "48839   38       Private  374983  Bachelors             13   \n",
       "48840   44       Private   83891  Bachelors             13   \n",
       "48841   35  Self-emp-inc  182148  Bachelors             13   \n",
       "\n",
       "           marital-status       occupation    relationship  \\\n",
       "48837            Divorced   Prof-specialty   Not-in-family   \n",
       "48838             Widowed                ?  Other-relative   \n",
       "48839  Married-civ-spouse   Prof-specialty         Husband   \n",
       "48840            Divorced     Adm-clerical       Own-child   \n",
       "48841  Married-civ-spouse  Exec-managerial         Husband   \n",
       "\n",
       "                     race     sex  capital-gain  capital-loss  hours-per-week  \\\n",
       "48837               White  Female             0             0              36   \n",
       "48838               Black    Male             0             0              40   \n",
       "48839               White    Male             0             0              50   \n",
       "48840  Asian-Pac-Islander    Male          5455             0              40   \n",
       "48841               White    Male             0             0              60   \n",
       "\n",
       "      native-country yearly-salary  \n",
       "48837  United-States         <=50K  \n",
       "48838  United-States         <=50K  \n",
       "48839  United-States         <=50K  \n",
       "48840  United-States         <=50K  \n",
       "48841  United-States          >50K  "
      ]
     },
     "execution_count": 22,
     "metadata": {},
     "output_type": "execute_result"
    }
   ],
   "source": [
    "data = pd.read_csv('adult-all.csv', header=None)\n",
    "columns = [\n",
    "    'age', 'workclass', 'fnlwgt', 'education', 'education-num',\n",
    "    'marital-status', 'occupation', 'relationship', 'race', 'sex',\n",
    "    'capital-gain', 'capital-loss', 'hours-per-week', 'native-country',\n",
    "    'yearly-salary'\n",
    "]\n",
    "\n",
    "data.columns = columns\n",
    "data.tail()"
   ]
  },
  {
   "cell_type": "code",
   "execution_count": null,
   "metadata": {},
   "outputs": [],
   "source": []
  },
  {
   "cell_type": "markdown",
   "metadata": {},
   "source": [
    "8. Разделите выборку на признаки и целевую переменную(колонка со зачениями {<=50K,>50K}). Замените целевую переменную на числовые значения."
   ]
  },
  {
   "cell_type": "code",
   "execution_count": 23,
   "metadata": {
    "ExecuteTime": {
     "end_time": "2022-10-28T06:02:31.648968Z",
     "start_time": "2022-10-28T06:02:31.571177Z"
    }
   },
   "outputs": [
    {
     "data": {
      "text/plain": [
       "age                int64\n",
       "workclass         object\n",
       "fnlwgt             int64\n",
       "education         object\n",
       "education-num      int64\n",
       "marital-status    object\n",
       "occupation        object\n",
       "relationship      object\n",
       "race              object\n",
       "sex               object\n",
       "capital-gain       int64\n",
       "capital-loss       int64\n",
       "hours-per-week     int64\n",
       "native-country    object\n",
       "dtype: object"
      ]
     },
     "execution_count": 23,
     "metadata": {},
     "output_type": "execute_result"
    }
   ],
   "source": [
    "X, y = data.iloc[:, :-1], data.iloc[:, -1]\n",
    "y = pd.Series(np.where(y == '<=50K', 1, -1))\n",
    "y.value_counts()\n",
    "X.dtypes"
   ]
  },
  {
   "cell_type": "code",
   "execution_count": null,
   "metadata": {},
   "outputs": [],
   "source": []
  },
  {
   "cell_type": "markdown",
   "metadata": {},
   "source": [
    "9. Выясните, присутствуют ли в данных пропуски. Заполните их самыми частыми значениями (используйте SimpleImputer)"
   ]
  },
  {
   "cell_type": "code",
   "execution_count": 26,
   "metadata": {
    "ExecuteTime": {
     "end_time": "2022-10-28T06:03:54.002621Z",
     "start_time": "2022-10-28T06:03:53.944001Z"
    }
   },
   "outputs": [
    {
     "name": "stdout",
     "output_type": "stream",
     "text": [
      "<class 'pandas.core.frame.DataFrame'>\n",
      "RangeIndex: 48842 entries, 0 to 48841\n",
      "Data columns (total 14 columns):\n",
      " #   Column          Non-Null Count  Dtype \n",
      "---  ------          --------------  ----- \n",
      " 0   age             48842 non-null  int64 \n",
      " 1   workclass       48842 non-null  object\n",
      " 2   fnlwgt          48842 non-null  int64 \n",
      " 3   education       48842 non-null  object\n",
      " 4   education-num   48842 non-null  int64 \n",
      " 5   marital-status  48842 non-null  object\n",
      " 6   occupation      48842 non-null  object\n",
      " 7   relationship    48842 non-null  object\n",
      " 8   race            48842 non-null  object\n",
      " 9   sex             48842 non-null  object\n",
      " 10  capital-gain    48842 non-null  int64 \n",
      " 11  capital-loss    48842 non-null  int64 \n",
      " 12  hours-per-week  48842 non-null  int64 \n",
      " 13  native-country  48842 non-null  object\n",
      "dtypes: int64(6), object(8)\n",
      "memory usage: 5.2+ MB\n"
     ]
    }
   ],
   "source": [
    "X.info()"
   ]
  },
  {
   "cell_type": "code",
   "execution_count": 27,
   "metadata": {
    "ExecuteTime": {
     "end_time": "2022-10-28T06:04:01.607546Z",
     "start_time": "2022-10-28T06:04:01.593208Z"
    }
   },
   "outputs": [
    {
     "data": {
      "text/plain": [
       "False"
      ]
     },
     "execution_count": 27,
     "metadata": {},
     "output_type": "execute_result"
    }
   ],
   "source": [
    "y.isnull().any()"
   ]
  },
  {
   "cell_type": "markdown",
   "metadata": {},
   "source": [
    "### Вывод:\n",
    "В данных нет пропусков вида null"
   ]
  },
  {
   "cell_type": "code",
   "execution_count": null,
   "metadata": {},
   "outputs": [],
   "source": []
  },
  {
   "cell_type": "markdown",
   "metadata": {},
   "source": [
    "10. Выберите колонки с числовыми и категориальными переменными."
   ]
  },
  {
   "cell_type": "code",
   "execution_count": 32,
   "metadata": {
    "ExecuteTime": {
     "end_time": "2022-10-28T06:07:38.790507Z",
     "start_time": "2022-10-28T06:07:38.768827Z"
    }
   },
   "outputs": [
    {
     "name": "stdout",
     "output_type": "stream",
     "text": [
      "categorical: ['workclass', 'education', 'marital-status', 'occupation', 'relationship', 'race', 'sex', 'native-country']\n",
      "numerical: ['age', 'fnlwgt', 'education-num', 'capital-gain', 'capital-loss', 'hours-per-week']\n"
     ]
    }
   ],
   "source": [
    "cat_cols, num_cols = [], []\n",
    "for name, tp in X.dtypes.to_dict().items():\n",
    "    if tp == 'int64':\n",
    "        num_cols.append(name)\n",
    "    else:\n",
    "        cat_cols.append(name)\n",
    "\n",
    "print('categorical:', cat_cols)\n",
    "print('numerical:', num_cols)"
   ]
  },
  {
   "cell_type": "code",
   "execution_count": null,
   "metadata": {},
   "outputs": [],
   "source": []
  },
  {
   "cell_type": "markdown",
   "metadata": {},
   "source": [
    "11. Создайте пайплайн по обработке колонок (используйте OneHotEncoder, MinMaxScaler)."
   ]
  },
  {
   "cell_type": "code",
   "execution_count": 29,
   "metadata": {
    "ExecuteTime": {
     "end_time": "2022-10-28T06:06:25.682857Z",
     "start_time": "2022-10-28T06:06:25.657054Z"
    }
   },
   "outputs": [],
   "source": [
    "from sklearn.preprocessing import MinMaxScaler, OneHotEncoder\n",
    "from sklearn.compose import ColumnTransformer"
   ]
  },
  {
   "cell_type": "code",
   "execution_count": 30,
   "metadata": {
    "ExecuteTime": {
     "end_time": "2022-10-28T06:06:26.916802Z",
     "start_time": "2022-10-28T06:06:26.906409Z"
    }
   },
   "outputs": [],
   "source": [
    "cat_trans = OneHotEncoder(handle_unknown='ignore')\n",
    "num_trans = MinMaxScaler()\n",
    "trans = ColumnTransformer([('num', num_trans, num_cols),\n",
    "                           ('cat', cat_trans, cat_cols)])"
   ]
  },
  {
   "cell_type": "code",
   "execution_count": null,
   "metadata": {},
   "outputs": [],
   "source": []
  },
  {
   "cell_type": "markdown",
   "metadata": {},
   "source": [
    "12. Посчитайте метрики accuracy и f1_score на предсказании только самого частого класса в целевой переменной."
   ]
  },
  {
   "cell_type": "code",
   "execution_count": 31,
   "metadata": {
    "ExecuteTime": {
     "end_time": "2022-10-28T06:07:01.405765Z",
     "start_time": "2022-10-28T06:07:01.382541Z"
    }
   },
   "outputs": [
    {
     "name": "stdout",
     "output_type": "stream",
     "text": [
      "Accuracy: 0.7607\n",
      "f1 score: 0.8641\n"
     ]
    }
   ],
   "source": [
    "accuracy = max(y.value_counts()) / sum(y.value_counts())\n",
    "print(f'Accuracy: {accuracy:.4f}')\n",
    "TP = max(y.value_counts())\n",
    "FP = min(y.value_counts())\n",
    "TN = min(y.value_counts())\n",
    "FN = 0\n",
    "precision = TP / (TP + FP)\n",
    "recall = TP / (TP + FN)\n",
    "f1 = 2 * precision * recall / (precision + recall)\n",
    "print(f'f1 score: {f1:.4f}')"
   ]
  },
  {
   "cell_type": "code",
   "execution_count": null,
   "metadata": {},
   "outputs": [],
   "source": []
  },
  {
   "cell_type": "markdown",
   "metadata": {},
   "source": [
    "13. Посчитайте cross_val_score по алгоритмам LogisticRegression, SVC, LinearSVC по метрикам accuracy и f1_score.\n",
    "Напишите удалось ли превзойти предыдущий результат."
   ]
  },
  {
   "cell_type": "code",
   "execution_count": 36,
   "metadata": {
    "ExecuteTime": {
     "end_time": "2022-10-28T06:11:36.996004Z",
     "start_time": "2022-10-28T06:11:36.987219Z"
    }
   },
   "outputs": [],
   "source": [
    "from sklearn.svm import SVC, LinearSVC\n",
    "from sklearn.linear_model import LogisticRegression\n",
    "from sklearn.model_selection import cross_validate\n",
    "from sklearn.metrics import accuracy_score, f1_score"
   ]
  },
  {
   "cell_type": "code",
   "execution_count": 38,
   "metadata": {
    "ExecuteTime": {
     "end_time": "2022-10-28T08:35:58.331812Z",
     "start_time": "2022-10-28T08:21:50.951880Z"
    }
   },
   "outputs": [
    {
     "name": "stdout",
     "output_type": "stream",
     "text": [
      "Model: LogisticRegression(max_iter=10000, random_state=42)\n",
      "accuracy: 0.8509071111051867\n",
      "f1 score: 0.904835410336237\n",
      "Model: SVC(random_state=42)\n",
      "accuracy: 0.839994419828589\n",
      "f1 score: 0.8986477856490989\n",
      "Model: LinearSVC(random_state=42)\n",
      "accuracy: 0.8529135478362626\n",
      "f1 score: 0.9063223083526415\n"
     ]
    }
   ],
   "source": [
    "models = [\n",
    "    LogisticRegression(random_state=RANDOM_STATE, max_iter=10000),\n",
    "    SVC(random_state=RANDOM_STATE),\n",
    "    LinearSVC(random_state=RANDOM_STATE)\n",
    "]\n",
    "\n",
    "for model in models:\n",
    "    pipe = Pipeline(steps=[('trans', trans), ('model', model)])\n",
    "    print('Model:', model)\n",
    "    scores = cross_validate(pipe, X, y, scoring=('accuracy', 'f1'))\n",
    "    print('accuracy:', np.mean(scores['test_accuracy']))\n",
    "    print('f1 score:', np.mean(scores['test_f1']))"
   ]
  },
  {
   "cell_type": "markdown",
   "metadata": {},
   "source": [
    "### Вывод\n",
    "Результат превзойден по всем моделям примерно на 0.05 как по accuracy, так и по f1"
   ]
  },
  {
   "cell_type": "code",
   "execution_count": null,
   "metadata": {},
   "outputs": [],
   "source": []
  },
  {
   "cell_type": "markdown",
   "metadata": {},
   "source": [
    "14. Можно заметить что в данных присутствуют значения '?', замените их самыми частыми значениями (испольуйте SimpleImputer)"
   ]
  },
  {
   "cell_type": "code",
   "execution_count": 42,
   "metadata": {
    "ExecuteTime": {
     "end_time": "2022-10-28T08:59:37.712478Z",
     "start_time": "2022-10-28T08:59:37.694369Z"
    }
   },
   "outputs": [],
   "source": [
    "from sklearn.impute import SimpleImputer"
   ]
  },
  {
   "cell_type": "code",
   "execution_count": 40,
   "metadata": {
    "ExecuteTime": {
     "end_time": "2022-10-28T08:40:33.338979Z",
     "start_time": "2022-10-28T08:40:33.152029Z"
    }
   },
   "outputs": [],
   "source": [
    "null_killer = SimpleImputer(missing_values='?', strategy='most_frequent')\n",
    "newX = pd.DataFrame(null_killer.fit_transform(X),\n",
    "                    columns=X.columns).astype(X.dtypes.to_dict())"
   ]
  },
  {
   "cell_type": "code",
   "execution_count": null,
   "metadata": {},
   "outputs": [],
   "source": []
  },
  {
   "cell_type": "markdown",
   "metadata": {},
   "source": [
    "15. Посчитайте cross_val_score на новых данных. Напишите удалось ли улучшить результат."
   ]
  },
  {
   "cell_type": "code",
   "execution_count": 41,
   "metadata": {
    "ExecuteTime": {
     "end_time": "2022-10-28T08:54:54.956007Z",
     "start_time": "2022-10-28T08:40:41.498186Z"
    }
   },
   "outputs": [
    {
     "name": "stdout",
     "output_type": "stream",
     "text": [
      "LogisticRegression(max_iter=10000, random_state=42)\n",
      "accuracy: 0.8504566501751475\n",
      "f1 score: 0.9046445905552222\n",
      "SVC(random_state=42)\n",
      "accuracy: 0.8395848963639935\n",
      "f1 score: 0.8985494397611463\n",
      "LinearSVC(random_state=42)\n",
      "accuracy: 0.8508251523375897\n",
      "f1 score: 0.905141981677368\n"
     ]
    }
   ],
   "source": [
    "models = [\n",
    "    LogisticRegression(random_state=RANDOM_STATE, max_iter=10000),\n",
    "    SVC(random_state=RANDOM_STATE),\n",
    "    LinearSVC(random_state=RANDOM_STATE)\n",
    "]\n",
    "\n",
    "for model in models:\n",
    "    pipe = Pipeline(steps=[('trans', trans), ('model', model)])\n",
    "    print(model)\n",
    "    scores = cross_validate(pipe, newX, y, scoring=('accuracy', 'f1'))\n",
    "    print('accuracy:', np.mean(scores['test_accuracy']))\n",
    "    print('f1 score:', np.mean(scores['test_f1']))"
   ]
  },
  {
   "cell_type": "markdown",
   "metadata": {},
   "source": [
    "### Вывод\n",
    "Результат практически не поменялся"
   ]
  },
  {
   "cell_type": "code",
   "execution_count": null,
   "metadata": {},
   "outputs": [],
   "source": []
  },
  {
   "cell_type": "markdown",
   "metadata": {},
   "source": [
    "16. Посчитайте cross_val_score, если просто удалить значения '?'. Напишите как изменился результат"
   ]
  },
  {
   "cell_type": "code",
   "execution_count": 43,
   "metadata": {
    "ExecuteTime": {
     "end_time": "2022-10-28T09:14:03.347826Z",
     "start_time": "2022-10-28T09:01:23.591787Z"
    }
   },
   "outputs": [
    {
     "name": "stdout",
     "output_type": "stream",
     "text": [
      "Model: LogisticRegression(max_iter=10000, random_state=42)\n",
      "accuracy: 0.8468445672761554\n",
      "f1 score: 0.901151790779792\n",
      "Model: SVC(random_state=42)\n",
      "accuracy: 0.8356995943179577\n",
      "f1 score: 0.8946665218391704\n",
      "Model: LinearSVC(random_state=42)\n",
      "accuracy: 0.8485030154158197\n",
      "f1 score: 0.9024033119235104\n"
     ]
    }
   ],
   "source": [
    "nonnull_rows = (X != '?').all(axis=1)\n",
    "dropX = X[nonnull_rows]\n",
    "dropy = y[nonnull_rows]\n",
    "\n",
    "models = [\n",
    "    LogisticRegression(random_state=RANDOM_STATE, max_iter=10000),\n",
    "    SVC(random_state=RANDOM_STATE),\n",
    "    LinearSVC(random_state=RANDOM_STATE)\n",
    "]\n",
    "\n",
    "for model in models:\n",
    "    pipe = Pipeline(steps=[('trans', trans), ('model', model)])\n",
    "    print('Model:', model)\n",
    "    scores = cross_validate(pipe, dropX, dropy, scoring=('accuracy', 'f1'))\n",
    "    print('accuracy:', np.mean(scores['test_accuracy']))\n",
    "    print('f1 score:', np.mean(scores['test_f1']))"
   ]
  },
  {
   "cell_type": "markdown",
   "metadata": {},
   "source": [
    "### Вывод\n",
    "Результат слегка ухудшился (3 знак после запятой)"
   ]
  },
  {
   "cell_type": "code",
   "execution_count": null,
   "metadata": {},
   "outputs": [],
   "source": []
  },
  {
   "cell_type": "markdown",
   "metadata": {},
   "source": [
    " 17. Посчитайте cross_val_score для RandomForestClassifier, GradientBoostingClassifier. Напишите как изменился результат и какой вывод можно из этого сделать."
   ]
  },
  {
   "cell_type": "code",
   "execution_count": 44,
   "metadata": {
    "ExecuteTime": {
     "end_time": "2022-10-28T09:17:58.899416Z",
     "start_time": "2022-10-28T09:17:58.721776Z"
    }
   },
   "outputs": [],
   "source": [
    "from sklearn.ensemble import GradientBoostingClassifier, RandomForestClassifier"
   ]
  },
  {
   "cell_type": "code",
   "execution_count": 46,
   "metadata": {
    "ExecuteTime": {
     "end_time": "2022-10-28T09:25:48.338006Z",
     "start_time": "2022-10-28T09:18:32.843302Z"
    }
   },
   "outputs": [
    {
     "name": "stdout",
     "output_type": "stream",
     "text": [
      "Model: RandomForestClassifier(random_state=42)\n",
      "accuracy: 0.8481491701158076\n",
      "f1 score: 0.9010790294674113\n",
      "Model: GradientBoostingClassifier(random_state=42)\n",
      "accuracy: 0.8629429514670492\n",
      "f1 score: 0.9122547730675745\n"
     ]
    }
   ],
   "source": [
    "models = [\n",
    "    RandomForestClassifier(random_state=RANDOM_STATE),\n",
    "    GradientBoostingClassifier(random_state=RANDOM_STATE)\n",
    "]\n",
    "\n",
    "for model in models:\n",
    "    pipe = Pipeline(steps=[('trans', trans), ('model', model)])\n",
    "    print('Model:', model)\n",
    "    scores = cross_validate(pipe, dropX, dropy, scoring=('accuracy', 'f1'))\n",
    "    print('accuracy:', np.mean(scores['test_accuracy']))\n",
    "    print('f1 score:', np.mean(scores['test_f1']))"
   ]
  },
  {
   "cell_type": "markdown",
   "metadata": {},
   "source": [
    "### Вывод\n",
    "На текущий момент лучшая модель - это Градиентный Бустинг.<br>\n",
    "Случайный лес примерно такого же качества что и предыдущие модели."
   ]
  },
  {
   "cell_type": "code",
   "execution_count": null,
   "metadata": {},
   "outputs": [],
   "source": []
  },
  {
   "cell_type": "markdown",
   "metadata": {},
   "source": [
    "18. Подберите наилучшую модель, подбирая методы обработки колонок - масштабирование признаков, кодирование признаков и заполнение пропусков. Параметры алгоритмов оставьте по умолчанию. Выведите итоговые параметры и результат accuracy и f1_score."
   ]
  },
  {
   "cell_type": "code",
   "execution_count": 48,
   "metadata": {
    "ExecuteTime": {
     "end_time": "2022-10-28T09:29:54.835187Z",
     "start_time": "2022-10-28T09:29:54.826219Z"
    }
   },
   "outputs": [],
   "source": [
    "from sklearn.preprocessing import OrdinalEncoder"
   ]
  },
  {
   "cell_type": "code",
   "execution_count": 59,
   "metadata": {
    "ExecuteTime": {
     "end_time": "2022-10-28T18:06:12.496557Z",
     "start_time": "2022-10-28T18:06:12.485521Z"
    }
   },
   "outputs": [],
   "source": [
    "encoders = [\n",
    "    OneHotEncoder(handle_unknown='ignore'),\n",
    "    OrdinalEncoder(handle_unknown='use_encoded_value', unknown_value=-1)\n",
    "]\n",
    "scalers = [MinMaxScaler(), StandardScaler()]\n",
    "models = [\n",
    "    RandomForestClassifier(random_state=RANDOM_STATE),\n",
    "    GradientBoostingClassifier(random_state=RANDOM_STATE),\n",
    "    LogisticRegression(random_state=RANDOM_STATE, max_iter=10000),\n",
    "    # SVC(random_state=RANDOM_STATE), - зависает на 2 часа\n",
    "    LinearSVC(random_state=RANDOM_STATE)\n",
    "]\n",
    "\n",
    "imp = SimpleImputer(missing_values='?')\n",
    "cat_trans = Pipeline([('imputer', imp), ('encoder', OneHotEncoder())])\n",
    "trans = ColumnTransformer([('num', MinMaxScaler(), num_cols),\n",
    "                           ('cat', cat_trans, cat_cols)])\n",
    "pipe = Pipeline(steps=[('trans', trans), ('model', SVC())])\n",
    "params = {\n",
    "    'trans__num': scalers,\n",
    "    'trans__cat__encoder': encoders,\n",
    "    'trans__cat__imputer__strategy': ['most_frequent', 'constant'],\n",
    "    'model': models\n",
    "}\n",
    "\n",
    "search = GridSearchCV(pipe,\n",
    "                      param_grid=params,\n",
    "                      scoring=('accuracy', 'f1'),\n",
    "                      refit='f1')"
   ]
  },
  {
   "cell_type": "code",
   "execution_count": 60,
   "metadata": {
    "ExecuteTime": {
     "end_time": "2022-10-28T18:27:50.577891Z",
     "start_time": "2022-10-28T18:06:17.677255Z"
    }
   },
   "outputs": [
    {
     "data": {
      "text/plain": [
       "GridSearchCV(estimator=Pipeline(steps=[('trans',\n",
       "                                        ColumnTransformer(transformers=[('num',\n",
       "                                                                         MinMaxScaler(),\n",
       "                                                                         ['age',\n",
       "                                                                          'fnlwgt',\n",
       "                                                                          'education-num',\n",
       "                                                                          'capital-gain',\n",
       "                                                                          'capital-loss',\n",
       "                                                                          'hours-per-week']),\n",
       "                                                                        ('cat',\n",
       "                                                                         Pipeline(steps=[('imputer',\n",
       "                                                                                          SimpleImputer(missing_values='?')),\n",
       "                                                                                         ('encoder',\n",
       "                                                                                          OneHotEncoder())]),\n",
       "                                                                         ['workclass',\n",
       "                                                                          'education',\n",
       "                                                                          'marital-status',\n",
       "                                                                          'occupation',\n",
       "                                                                          'relationship...\n",
       "                                   LogisticRegression(max_iter=10000,\n",
       "                                                      random_state=42),\n",
       "                                   LinearSVC(random_state=42)],\n",
       "                         'trans__cat__encoder': [OneHotEncoder(handle_unknown='ignore'),\n",
       "                                                 OrdinalEncoder(handle_unknown='use_encoded_value',\n",
       "                                                                unknown_value=-1)],\n",
       "                         'trans__cat__imputer__strategy': ['most_frequent',\n",
       "                                                           'constant'],\n",
       "                         'trans__num': [MinMaxScaler(), StandardScaler()]},\n",
       "             refit='f1', scoring=('accuracy', 'f1'))"
      ]
     },
     "execution_count": 60,
     "metadata": {},
     "output_type": "execute_result"
    }
   ],
   "source": [
    "search.fit(X, y)"
   ]
  },
  {
   "cell_type": "code",
   "execution_count": 66,
   "metadata": {
    "ExecuteTime": {
     "end_time": "2022-10-28T18:32:04.005996Z",
     "start_time": "2022-10-28T18:32:03.990962Z"
    }
   },
   "outputs": [
    {
     "name": "stdout",
     "output_type": "stream",
     "text": [
      "Итоговые параметры модели:\n"
     ]
    },
    {
     "data": {
      "text/plain": [
       "{'model': GradientBoostingClassifier(random_state=42),\n",
       " 'trans__cat__encoder': OneHotEncoder(handle_unknown='ignore'),\n",
       " 'trans__cat__imputer__strategy': 'constant',\n",
       " 'trans__num': MinMaxScaler()}"
      ]
     },
     "execution_count": 66,
     "metadata": {},
     "output_type": "execute_result"
    }
   ],
   "source": [
    "print('Итоговые параметры модели:')\n",
    "search.best_params_"
   ]
  },
  {
   "cell_type": "code",
   "execution_count": 67,
   "metadata": {
    "ExecuteTime": {
     "end_time": "2022-10-28T18:32:31.092920Z",
     "start_time": "2022-10-28T18:32:31.071607Z"
    }
   },
   "outputs": [
    {
     "name": "stdout",
     "output_type": "stream",
     "text": [
      "Accuracy и f1:\n"
     ]
    },
    {
     "data": {
      "text/plain": [
       "mean_test_accuracy    0.867573\n",
       "mean_test_f1          0.916026\n",
       "dtype: float64"
      ]
     },
     "execution_count": 67,
     "metadata": {},
     "output_type": "execute_result"
    }
   ],
   "source": [
    "res = pd.DataFrame(search.cv_results_)\n",
    "print('Accuracy и f1:')\n",
    "res[['mean_test_accuracy',\n",
    "     'mean_test_f1']][res['mean_test_f1'] == max(res['mean_test_f1'])].apply(max)"
   ]
  }
 ],
 "metadata": {
  "kernelspec": {
   "display_name": "Python 3 (ipykernel)",
   "language": "python",
   "name": "python3"
  },
  "language_info": {
   "codemirror_mode": {
    "name": "ipython",
    "version": 3
   },
   "file_extension": ".py",
   "mimetype": "text/x-python",
   "name": "python",
   "nbconvert_exporter": "python",
   "pygments_lexer": "ipython3",
   "version": "3.9.4"
  }
 },
 "nbformat": 4,
 "nbformat_minor": 2
}
