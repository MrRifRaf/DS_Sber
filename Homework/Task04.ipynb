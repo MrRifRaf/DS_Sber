{
 "cells": [
  {
   "cell_type": "markdown",
   "metadata": {
    "id": "pDrecLU-4QjS"
   },
   "source": [
    "# Практика\n",
    "Используемые библиотеки"
   ]
  },
  {
   "cell_type": "code",
   "execution_count": 1,
   "metadata": {},
   "outputs": [],
   "source": [
    "import pandas as pd\n",
    "import numpy as np\n",
    "import requests # for web-download\n",
    "import io # for web-download\n",
    "import re # for data processing\n"
   ]
  },
  {
   "cell_type": "markdown",
   "metadata": {},
   "source": [
    "## Загрузка DataFrame\n",
    "### Задача 1\n",
    "На основании данных портала \"Открытые данные России\" о результатах Химического анализа родника в Нескучном саду https://data.gov.ru/opendata/7708660670-rodnik-neskuchniy-sad\n",
    "средствами библиотеки __Pandas__ сформируйте поле выводов по каждому анализирумомому параметру.\n",
    "Например, по показателю _pH_ получен результат _8.4 единицы pH_ при нормативе от _6 до 9 единиц pH_. Т.о. по данному показателю результат анализа в норме.\n",
    "Для решения задачи необходимо программно \"прочитать и понять\" значение столбца \"Норматив\" и выделенное численное значение сравнить с нормативом согласно логике норматива. Например, __6 >= pH >= 9__.\n",
    "В итоговом DataFrame столбец \"Показатель\" сделайте индексным.\n",
    "\n",
    "\n",
    "Загзрузка DataFrame выполняется непосредственно c сайта \"Открытые данные России\" https://data.gov.ru/opendata/7708660670-rodnik-neskuchniy-sad/data-20160608T1215-structure-20160608T1215.csv (см. код ниже).\n"
   ]
  },
  {
   "cell_type": "code",
   "execution_count": 2,
   "metadata": {},
   "outputs": [
    {
     "data": {
      "text/html": [
       "<div>\n",
       "<style scoped>\n",
       "    .dataframe tbody tr th:only-of-type {\n",
       "        vertical-align: middle;\n",
       "    }\n",
       "\n",
       "    .dataframe tbody tr th {\n",
       "        vertical-align: top;\n",
       "    }\n",
       "\n",
       "    .dataframe thead th {\n",
       "        text-align: right;\n",
       "    }\n",
       "</style>\n",
       "<table border=\"1\" class=\"dataframe\">\n",
       "  <thead>\n",
       "    <tr style=\"text-align: right;\">\n",
       "      <th></th>\n",
       "      <th>&lt;h1&gt;Forbidden&lt;/h1&gt;&lt;pre&gt;Request ID: 2022-09-25-10-38-24-16BFC82C61131161&lt;/pre&gt;</th>\n",
       "    </tr>\n",
       "  </thead>\n",
       "  <tbody>\n",
       "  </tbody>\n",
       "</table>\n",
       "</div>"
      ],
      "text/plain": [
       "Empty DataFrame\n",
       "Columns: [<h1>Forbidden</h1><pre>Request ID: 2022-09-25-10-38-24-16BFC82C61131161</pre>]\n",
       "Index: []"
      ]
     },
     "metadata": {},
     "output_type": "display_data"
    }
   ],
   "source": [
    "url =\"https://data.gov.ru/opendata/7708660670-rodnik-neskuchniy-sad/data-20160608T1215-structure-20160608T1215.csv\"\n",
    "s = requests.get(url).content\n",
    "df=pd.read_csv(io.StringIO(s.decode('UTF8')))\n",
    "### Если не работает загрузка on-line\n",
    "# df=pd.read_csv(\"Химический анализ родника в Нескучном саду.csv\", sep=';')\n",
    "display(df)"
   ]
  },
  {
   "cell_type": "code",
   "execution_count": 11,
   "metadata": {},
   "outputs": [],
   "source": [
    "import re\n",
    "from typing import Union, Callable\n",
    "\n",
    "import pandas as pd"
   ]
  },
  {
   "cell_type": "code",
   "execution_count": 16,
   "metadata": {},
   "outputs": [],
   "source": [
    "def main() -> None:\n",
    "    data = pd.read_csv(\"water_spring_data.csv\", sep=';')\n",
    "    data.set_index('Показатель', inplace=True)\n",
    "    data['Вывод'] = data.apply(check_norm, axis=1)\n",
    "    print(data['Вывод'])\n",
    "\n",
    "\n",
    "# Решил немного побаловаться декоратором\n",
    "def df_wrapper(value_name: str, norm_name: str) -> Callable:\n",
    "\n",
    "    def decorator(func: Callable) -> Callable:\n",
    "\n",
    "        def wrapper(x: pd.DataFrame) -> Callable:\n",
    "            return func(x[value_name], x[norm_name])\n",
    "\n",
    "        return wrapper\n",
    "\n",
    "    return decorator\n",
    "\n",
    "\n",
    "@df_wrapper('Результат анализа', 'Норматив')\n",
    "def check_norm(value: Union[str, int, float], norm: str) -> str:\n",
    "    try:\n",
    "        value = float(value)\n",
    "    except ValueError:\n",
    "        value = 0.0\n",
    "\n",
    "    l_e = re.compile(r'не\\s*бол[а-я]+', re.IGNORECASE)\n",
    "    btw = re.compile(r'в\\s*предел[а-я]+', re.IGNORECASE)\n",
    "    dgts = re.compile(r'[0-9,]+')\n",
    "\n",
    "    less_or_equal = l_e.search(norm)\n",
    "    between = btw.search(norm)\n",
    "    digits = list(map(parse_rus_digits, dgts.findall(norm)))\n",
    "\n",
    "    if less_or_equal and digits:\n",
    "        if value <= min(digits):\n",
    "            return 'Показатель в норме'\n",
    "        return 'Показатель не в норме'\n",
    "\n",
    "    if between and digits:\n",
    "        if min(digits) <= value <= max(digits):\n",
    "            return 'Показатель в норме'\n",
    "        return 'Показатель не в норме'\n",
    "\n",
    "    return 'Не удалось определить'\n",
    "\n",
    "\n",
    "def parse_rus_digits(s_digit: str) -> float:\n",
    "    return float(s_digit.replace(',', '.'))"
   ]
  },
  {
   "cell_type": "code",
   "execution_count": 17,
   "metadata": {},
   "outputs": [
    {
     "name": "stdout",
     "output_type": "stream",
     "text": [
      "Показатель\n",
      "pH                                          Показатель в норме\n",
      "Запах                                       Показатель в норме\n",
      "Цветность                                   Показатель в норме\n",
      "Жёсткость                                   Показатель в норме\n",
      "Аммиак и аммоний-ион (по азоту)             Показатель в норме\n",
      "Нитриты (по NO2)                            Показатель в норме\n",
      "Нитраты (по NO3)                            Показатель в норме\n",
      "Фосфаты (P)                                 Показатель в норме\n",
      "Хлориды (Cl)                                Показатель в норме\n",
      "Сульфаты (SO4)                              Показатель в норме\n",
      "Железо (включая хлорное железо) по Fe       Показатель в норме\n",
      "Нефть                                    Показатель не в норме\n",
      "Общая минерализация (сухой остаток)         Показатель в норме\n",
      "Окисляемость перманганатная              Показатель не в норме\n",
      "Name: Вывод, dtype: object\n"
     ]
    }
   ],
   "source": [
    "main()"
   ]
  },
  {
   "cell_type": "markdown",
   "metadata": {
    "id": "gUvTNDlMaV-a"
   },
   "source": [
    "## Теория вероятности. События\n",
    "\n",
    "Требуется сгенерировать необходимые выборки и произвести по ним расчеты"
   ]
  },
  {
   "cell_type": "markdown",
   "metadata": {
    "id": "t0XOMos2Tl0e"
   },
   "source": [
    "### Задача 2\n",
    "В ящике 5 апельсинов и 4 яблока. Наудачу выбираются 3 фрукта. Какова вероятность, что все три фрукта – апельсины?\n",
    "\n",
    "В интернете полученный аналитически ответ 0.119. Подтверждается ли он эксперементально?\n"
   ]
  },
  {
   "cell_type": "code",
   "execution_count": 35,
   "metadata": {
    "id": "o7NjAE9uUo-L"
   },
   "outputs": [
    {
     "name": "stdout",
     "output_type": "stream",
     "text": [
      "0.11973\n"
     ]
    }
   ],
   "source": [
    "from random import choice\n",
    "\n",
    "n_expertiments = 100_000\n",
    "res = 0\n",
    "for _ in range(n_expertiments):\n",
    "    box = []\n",
    "    box.extend(['orange'] * 5)\n",
    "    box.extend(['apple'] * 4)\n",
    "    drafts = []\n",
    "    for __ in range(3):\n",
    "        draft = choice(box)\n",
    "        drafts.append(draft)\n",
    "        box.pop(box.index(draft))\n",
    "    if 'apple' not in drafts:\n",
    "        res += 1\n",
    "print(res / n_expertiments)"
   ]
  },
  {
   "cell_type": "markdown",
   "metadata": {
    "id": "g7A7QlvGTnwZ"
   },
   "source": [
    "### Задача 3\n",
    "Мастер, имея 10 деталей, из которых 3 – нестандартных, проверяет детали одну за другой, пока ему не попадется стандартная. Какова вероятность, что он проверит ровно две детали?\n",
    "\n",
    "\n",
    "В интернете полученный аналитически ответ 7/30 или 0.23333. Подтверждается ли он эксперементально?"
   ]
  },
  {
   "cell_type": "code",
   "execution_count": 37,
   "metadata": {},
   "outputs": [
    {
     "name": "stdout",
     "output_type": "stream",
     "text": [
      "0.2328\n"
     ]
    }
   ],
   "source": [
    "n_expertiments = 100_000\n",
    "res = 0\n",
    "for _ in range(n_expertiments):\n",
    "    box = []\n",
    "    box.extend(['standard'] * 7)\n",
    "    box.extend(['non-standard'] * 3)\n",
    "    draft = None\n",
    "    count = 0\n",
    "    while draft != 'standard':\n",
    "        count += 1\n",
    "        draft = choice(box)\n",
    "        box.pop(box.index(draft))\n",
    "    if count == 2:\n",
    "        res += 1\n",
    "print(res / n_expertiments)"
   ]
  }
 ],
 "metadata": {
  "celltoolbar": "Raw Cell Format",
  "colab": {
   "collapsed_sections": [],
   "name": "Практика к занятию 11.ipynb",
   "provenance": []
  },
  "kernelspec": {
   "display_name": "Python 3",
   "language": "python",
   "name": "python3"
  },
  "language_info": {
   "codemirror_mode": {
    "name": "ipython",
    "version": 3
   },
   "file_extension": ".py",
   "mimetype": "text/x-python",
   "name": "python",
   "nbconvert_exporter": "python",
   "pygments_lexer": "ipython3",
   "version": "3.9.4"
  }
 },
 "nbformat": 4,
 "nbformat_minor": 1
}
