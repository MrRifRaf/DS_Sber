{
 "cells": [
  {
   "cell_type": "markdown",
   "id": "e6d23226",
   "metadata": {},
   "source": [
    "1. Обучить AE собственной архитектуры на MNIST\n",
    "1. Обучить VAE собственной архитектуры на MNIST\n",
    "1. *Обучить VAE c переносом стиля на MNIST (на вход декодеру подавать hidden с таргетным значением, чтобы можно было нарисовать заданную цифру в заданном стиле)"
   ]
  },
  {
   "cell_type": "code",
   "execution_count": 2,
   "id": "7696db5f",
   "metadata": {
    "ExecuteTime": {
     "end_time": "2022-11-20T16:27:49.098807Z",
     "start_time": "2022-11-20T16:27:26.815700Z"
    }
   },
   "outputs": [],
   "source": [
    "import matplotlib.pyplot as plt\n",
    "import numpy as np\n",
    "import torch\n",
    "from torch import nn\n",
    "from torch.optim import Adam\n",
    "from torch.utils.data import DataLoader\n",
    "from torchvision import datasets, models\n",
    "from torchvision.transforms import ToTensor"
   ]
  },
  {
   "cell_type": "code",
   "execution_count": 3,
   "id": "18dc3d67",
   "metadata": {
    "ExecuteTime": {
     "end_time": "2022-11-20T16:27:58.183515Z",
     "start_time": "2022-11-20T16:27:58.055187Z"
    }
   },
   "outputs": [],
   "source": [
    "train_data = datasets.MNIST(\n",
    "    root='.', train=True, download=True, transform=ToTensor())\n",
    "test_data = datasets.MNIST(root='.', train=False,\n",
    "                           download=True, transform=ToTensor())"
   ]
  },
  {
   "cell_type": "markdown",
   "id": "510c9741",
   "metadata": {},
   "source": [
    "1. Обучить AE собственной архитектуры на MNIST"
   ]
  }
 ],
 "metadata": {
  "kernelspec": {
   "display_name": "Python 3 (ipykernel)",
   "language": "python",
   "name": "python3"
  },
  "language_info": {
   "codemirror_mode": {
    "name": "ipython",
    "version": 3
   },
   "file_extension": ".py",
   "mimetype": "text/x-python",
   "name": "python",
   "nbconvert_exporter": "python",
   "pygments_lexer": "ipython3",
   "version": "3.9.4"
  }
 },
 "nbformat": 4,
 "nbformat_minor": 5
}
