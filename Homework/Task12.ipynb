{
 "cells": [
  {
   "cell_type": "markdown",
   "id": "9ea2a63a",
   "metadata": {},
   "source": [
    "1. Обучить AE собственной архитектуры на MNIST\n",
    "1. Обучить VAE собственной архитектуры на MNIST\n",
    "1. *Обучить VAE c переносом стиля на MNIST (на вход декодеру подавать hidden с таргетным значением, чтобы можно было нарисовать заданную цифру в заданном стиле)"
   ]
  },
  {
   "cell_type": "code",
   "execution_count": 66,
   "id": "6518e95e",
   "metadata": {
    "ExecuteTime": {
     "end_time": "2022-11-24T06:16:50.618574Z",
     "start_time": "2022-11-24T06:16:50.595673Z"
    }
   },
   "outputs": [],
   "source": [
    "import matplotlib.pyplot as plt\n",
    "import numpy as np\n",
    "import torch\n",
    "from torch import nn\n",
    "from torch.optim import Adam\n",
    "from torch.utils.data import DataLoader\n",
    "from torchvision import datasets, models\n",
    "from torchvision.transforms import ToTensor"
   ]
  },
  {
   "cell_type": "code",
   "execution_count": 2,
   "id": "426bde05",
   "metadata": {
    "ExecuteTime": {
     "end_time": "2022-11-23T05:44:32.874414Z",
     "start_time": "2022-11-23T05:44:32.629969Z"
    }
   },
   "outputs": [],
   "source": [
    "train_data = datasets.MNIST(\n",
    "     root='.', train=True, download=True, transform=ToTensor())\n",
    "test_data = datasets.MNIST(root='.', train=False,\n",
    "                           download=True, transform=ToTensor())"
   ]
  },
  {
   "cell_type": "markdown",
   "id": "a382003c",
   "metadata": {},
   "source": [
    "Обучить AE собственной архитектуры на MNIST"
   ]
  },
  {
   "cell_type": "code",
   "execution_count": 8,
   "id": "7ea3c43b",
   "metadata": {
    "ExecuteTime": {
     "end_time": "2022-11-23T05:48:48.115706Z",
     "start_time": "2022-11-23T05:48:48.105189Z"
    }
   },
   "outputs": [],
   "source": [
    "# hyperparameters\n",
    "W = 28\n",
    "H = 28\n",
    "INP_DIM = W * H\n",
    "HIDDEN = 400\n",
    "OUT_DIM = 100\n",
    "N_EPOCHS = 5\n",
    "BATCH_SIZE = 64"
   ]
  },
  {
   "cell_type": "code",
   "execution_count": 9,
   "id": "cbc5207d",
   "metadata": {
    "ExecuteTime": {
     "end_time": "2022-11-23T05:48:49.589196Z",
     "start_time": "2022-11-23T05:48:49.573213Z"
    }
   },
   "outputs": [],
   "source": [
    "class Encoder(nn.Module):\n",
    "    def __init__(self, inp_dim, hid_dim, out_dim, do_p=0.1):\n",
    "        super().__init__()\n",
    "        self.seq = nn.Sequential()\n",
    "        self.seq.append(nn.Flatten())\n",
    "        self.seq.append(nn.Linear(inp_dim, hid_dim))\n",
    "        self.seq.append(nn.ReLU())\n",
    "        self.seq.append(nn.Dropout(0.1))\n",
    "        self.seq.append(nn.Linear(hid_dim, out_dim))\n",
    "\n",
    "    def forward(self, x):\n",
    "        return self.seq(x)\n",
    "\n",
    "class Decoder(nn.Module):\n",
    "    def __init__(self, inp_dim, hid_dim, out_dim, do_p=0.1):\n",
    "        super().__init__()\n",
    "        self.seq = nn.Sequential()\n",
    "        self.seq.append(nn.Linear(inp_dim, hid_dim))\n",
    "        self.seq.append(nn.ReLU())\n",
    "        self.seq.append(nn.Dropout(0.1))\n",
    "        self.seq.append(nn.Linear(hid_dim, out_dim))\n",
    "\n",
    "    def forward(self, x):\n",
    "        return self.seq(x)\n",
    "\n",
    "class LinearAutoencoder(nn.Module):\n",
    "    def __init__(self, inp_dim, hid_dim, out_dim, do_p=0.1):\n",
    "        super().__init__()\n",
    "        self.encoder = Encoder(inp_dim, hid_dim, out_dim, do_p)\n",
    "        self.decoder = Decoder(out_dim, hid_dim, inp_dim, do_p)\n",
    "\n",
    "    def forward(self, x):\n",
    "        x_ = self.decoder(self.encoder(x))\n",
    "        return x_"
   ]
  },
  {
   "cell_type": "code",
   "execution_count": 10,
   "id": "bf2fd736",
   "metadata": {
    "ExecuteTime": {
     "end_time": "2022-11-23T05:48:51.275617Z",
     "start_time": "2022-11-23T05:48:51.250846Z"
    }
   },
   "outputs": [],
   "source": [
    "def train(dataloader, model, loss_fn, optimizer):\n",
    "    size = len(dataloader.dataset)\n",
    "    model.train()\n",
    "    for batch, (X, _) in enumerate(dataloader):\n",
    "        pred = model(X)\n",
    "        loss = loss_fn(pred, X.squeeze().flatten(1))\n",
    "\n",
    "        optimizer.zero_grad()\n",
    "        loss.backward()\n",
    "        optimizer.step()\n",
    "\n",
    "        if batch % 100 == 0:\n",
    "            loss, current = loss.item(), batch * len(X)\n",
    "            print(f\"loss: {loss:>7f}  [{current:>5d}/{size:>5d}]\")\n",
    "\n",
    "\n",
    "def test(dataloader, model, loss_fn):\n",
    "    size = len(dataloader.dataset)\n",
    "    num_batches = len(dataloader)\n",
    "    model.eval()\n",
    "    test_loss, correct = 0, 0\n",
    "    with torch.no_grad():\n",
    "        for X, _ in dataloader:\n",
    "            pred = model(X)\n",
    "            test_loss += loss_fn(pred, X.squeeze().flatten(1)).item()\n",
    "    test_loss /= num_batches\n",
    "    print('Test Error:')\n",
    "    print(f'Avg loss: {test_loss:>8f} \\n')"
   ]
  },
  {
   "cell_type": "code",
   "execution_count": 11,
   "id": "8de3d669",
   "metadata": {
    "ExecuteTime": {
     "end_time": "2022-11-23T05:48:52.324412Z",
     "start_time": "2022-11-23T05:48:52.300599Z"
    }
   },
   "outputs": [],
   "source": [
    "test_dataloader = DataLoader(\n",
    "    test_data, BATCH_SIZE, shuffle=True, drop_last=True)\n",
    "model = LinearAutoencoder(INP_DIM, HIDDEN, OUT_DIM)\n",
    "loss_fn = nn.MSELoss()\n",
    "optim = Adam(model.parameters())"
   ]
  },
  {
   "cell_type": "code",
   "execution_count": 12,
   "id": "7878723a",
   "metadata": {
    "ExecuteTime": {
     "end_time": "2022-11-23T05:51:38.869349Z",
     "start_time": "2022-11-23T05:48:54.092836Z"
    },
    "collapsed": true
   },
   "outputs": [
    {
     "name": "stdout",
     "output_type": "stream",
     "text": [
      "Epoch 1\n",
      "-------------------------------\n",
      "loss: 0.112254  [    0/60000]\n",
      "loss: 0.029888  [ 6400/60000]\n",
      "loss: 0.021206  [12800/60000]\n",
      "loss: 0.019887  [19200/60000]\n",
      "loss: 0.018172  [25600/60000]\n",
      "loss: 0.017194  [32000/60000]\n",
      "loss: 0.015242  [38400/60000]\n",
      "loss: 0.016574  [44800/60000]\n",
      "loss: 0.015566  [51200/60000]\n",
      "loss: 0.014350  [57600/60000]\n",
      "Test Error:\n",
      "Avg loss: 0.011122 \n",
      "\n",
      "Epoch 2\n",
      "-------------------------------\n",
      "loss: 0.014885  [    0/60000]\n",
      "loss: 0.013219  [ 6400/60000]\n",
      "loss: 0.013688  [12800/60000]\n",
      "loss: 0.013810  [19200/60000]\n",
      "loss: 0.013136  [25600/60000]\n",
      "loss: 0.013663  [32000/60000]\n",
      "loss: 0.012827  [38400/60000]\n",
      "loss: 0.013631  [44800/60000]\n",
      "loss: 0.011534  [51200/60000]\n",
      "loss: 0.012814  [57600/60000]\n",
      "Test Error:\n",
      "Avg loss: 0.009259 \n",
      "\n",
      "Epoch 3\n",
      "-------------------------------\n",
      "loss: 0.011585  [    0/60000]\n",
      "loss: 0.011657  [ 6400/60000]\n",
      "loss: 0.012922  [12800/60000]\n",
      "loss: 0.012847  [19200/60000]\n",
      "loss: 0.012243  [25600/60000]\n",
      "loss: 0.012168  [32000/60000]\n",
      "loss: 0.011799  [38400/60000]\n",
      "loss: 0.011700  [44800/60000]\n",
      "loss: 0.011914  [51200/60000]\n",
      "loss: 0.011570  [57600/60000]\n",
      "Test Error:\n",
      "Avg loss: 0.008623 \n",
      "\n",
      "Epoch 4\n",
      "-------------------------------\n",
      "loss: 0.011987  [    0/60000]\n",
      "loss: 0.010862  [ 6400/60000]\n",
      "loss: 0.012413  [12800/60000]\n",
      "loss: 0.013284  [19200/60000]\n",
      "loss: 0.011296  [25600/60000]\n",
      "loss: 0.012289  [32000/60000]\n",
      "loss: 0.012866  [38400/60000]\n",
      "loss: 0.011520  [44800/60000]\n",
      "loss: 0.011377  [51200/60000]\n",
      "loss: 0.012019  [57600/60000]\n",
      "Test Error:\n",
      "Avg loss: 0.008078 \n",
      "\n",
      "Epoch 5\n",
      "-------------------------------\n",
      "loss: 0.011811  [    0/60000]\n",
      "loss: 0.012188  [ 6400/60000]\n",
      "loss: 0.010779  [12800/60000]\n",
      "loss: 0.011720  [19200/60000]\n",
      "loss: 0.010245  [25600/60000]\n",
      "loss: 0.010990  [32000/60000]\n",
      "loss: 0.011084  [38400/60000]\n",
      "loss: 0.011545  [44800/60000]\n",
      "loss: 0.011025  [51200/60000]\n",
      "loss: 0.010477  [57600/60000]\n",
      "Test Error:\n",
      "Avg loss: 0.007827 \n",
      "\n",
      "Done!\n"
     ]
    }
   ],
   "source": [
    "for e in range(N_EPOCHS):\n",
    "    print(f\"Epoch {e+1}\\n-------------------------------\")\n",
    "    train_dataloader = DataLoader(\n",
    "        train_data, BATCH_SIZE, shuffle=True, drop_last=True)\n",
    "    train(train_dataloader, model, loss_fn, optim)\n",
    "    test(test_dataloader, model, loss_fn)\n",
    "print('Done!')"
   ]
  },
  {
   "cell_type": "code",
   "execution_count": 19,
   "id": "66fa07ab",
   "metadata": {
    "ExecuteTime": {
     "end_time": "2022-11-23T05:55:21.484423Z",
     "start_time": "2022-11-23T05:55:21.460950Z"
    }
   },
   "outputs": [],
   "source": [
    "def check():\n",
    "    test_size = test_data.data.size()[0]\n",
    "    n = np.random.randint(0, test_size - 1)\n",
    "    print(test_data[n][1])\n",
    "    fig, axes = plt.subplots(1, 2)\n",
    "    axes[0].imshow(test_data.data[n].detach().numpy())\n",
    "    axes[0].set_axis_off()\n",
    "    axes[1].imshow(model(test_data[n][0]).view(28, 28).detach().numpy())\n",
    "    axes[1].set_axis_off()\n",
    "    plt.show()"
   ]
  },
  {
   "cell_type": "code",
   "execution_count": 27,
   "id": "3c88f061",
   "metadata": {
    "ExecuteTime": {
     "end_time": "2022-11-23T05:55:52.324434Z",
     "start_time": "2022-11-23T05:55:52.172408Z"
    }
   },
   "outputs": [
    {
     "name": "stdout",
     "output_type": "stream",
     "text": [
      "7\n"
     ]
    },
    {
     "data": {
      "image/png": "[encoded data removed]",
      "text/plain": [
       "<Figure size 432x288 with 2 Axes>"
      ]
     },
     "metadata": {
      "needs_background": "light"
     },
     "output_type": "display_data"
    }
   ],
   "source": [
    "check()"
   ]
  },
  {
   "cell_type": "markdown",
   "id": "ee61b74c",
   "metadata": {},
   "source": [
    "Convolutional autoencoder"
   ]
  },
  {
   "cell_type": "code",
   "execution_count": 28,
   "id": "5bb91c7b",
   "metadata": {
    "ExecuteTime": {
     "end_time": "2022-11-23T05:56:49.816157Z",
     "start_time": "2022-11-23T05:56:49.779699Z"
    }
   },
   "outputs": [],
   "source": [
    "class ConvEncoder(nn.Module):\n",
    "    def __init__(self, inp_ch, hid_ch, out_ch, do_p=0.1):\n",
    "        super().__init__()\n",
    "        self.seq = nn.Sequential()\n",
    "        self.seq.append(nn.Conv2d(inp_ch, hid_ch, kernel_size=5, stride=2, padding=2))\n",
    "        self.seq.append(nn.BatchNorm2d(hid_ch))\n",
    "        self.seq.append(nn.ReLU())\n",
    "        self.seq.append(nn.Dropout(do_p))\n",
    "        self.seq.append(nn.Conv2d(hid_ch, hid_ch, kernel_size=3, stride=2, padding=1))\n",
    "        self.seq.append(nn.BatchNorm2d(hid_ch))\n",
    "        self.seq.append(nn.ReLU())\n",
    "        self.seq.append(nn.Dropout(do_p))\n",
    "        self.seq.append(nn.Conv2d(hid_ch, out_ch, kernel_size=3, stride=1, padding=1))\n",
    "    \n",
    "    def forward(self, x):\n",
    "        return self.seq(x)\n",
    "\n",
    "class ConvDecoder(nn.Module):\n",
    "    def __init__(self, inp_ch, hid_ch, out_ch, do_p=0.1):\n",
    "        super().__init__()\n",
    "        self.seq = nn.Sequential()\n",
    "        self.seq.append(nn.Conv2d(inp_ch, hid_ch, kernel_size=3, stride=1, padding=1))\n",
    "        self.seq.append(nn.UpsamplingNearest2d(scale_factor=2))\n",
    "        self.seq.append(nn.BatchNorm2d(hid_ch))\n",
    "        self.seq.append(nn.ReLU())\n",
    "        self.seq.append(nn.Dropout(do_p))\n",
    "        self.seq.append(nn.Conv2d(hid_ch, hid_ch, kernel_size=3, stride=1, padding=1))\n",
    "        self.seq.append(nn.UpsamplingNearest2d(scale_factor=2))\n",
    "        self.seq.append(nn.BatchNorm2d(hid_ch))\n",
    "        self.seq.append(nn.ReLU())\n",
    "        self.seq.append(nn.Dropout(do_p))\n",
    "        self.seq.append(nn.Conv2d(hid_ch, out_ch, kernel_size=5, stride=1, padding=2))\n",
    "        \n",
    "    def forward(self, x):\n",
    "        return self.seq(x)"
   ]
  },
  {
   "cell_type": "code",
   "execution_count": 29,
   "id": "1997900a",
   "metadata": {
    "ExecuteTime": {
     "end_time": "2022-11-23T05:56:51.248811Z",
     "start_time": "2022-11-23T05:56:51.232536Z"
    }
   },
   "outputs": [],
   "source": [
    "class ConvAE(nn.Module):\n",
    "    def __init__(self, inp_ch, hid_ch, out_ch, do_p=0.1):\n",
    "        super().__init__()\n",
    "        self.encode = ConvEncoder(inp_ch, hid_ch, out_ch, do_p)\n",
    "        self.decode = ConvDecoder(out_ch, hid_ch, inp_ch, do_p)\n",
    "    \n",
    "    def forward(self, x):\n",
    "        encoded = self.encode(x)\n",
    "        x_ = self.decode(encoded)\n",
    "        return x_"
   ]
  },
  {
   "cell_type": "code",
   "execution_count": 34,
   "id": "e20cd604",
   "metadata": {
    "ExecuteTime": {
     "end_time": "2022-11-23T06:02:10.532336Z",
     "start_time": "2022-11-23T06:02:10.520524Z"
    }
   },
   "outputs": [],
   "source": [
    "# hyperparameters\n",
    "INP_CH = 1\n",
    "HID_CH = 200\n",
    "OUT_CH = 1\n",
    "N_EPOCHS = 5\n",
    "BATCH_SIZE = 128"
   ]
  },
  {
   "cell_type": "code",
   "execution_count": 52,
   "id": "81ab7bdd",
   "metadata": {
    "ExecuteTime": {
     "end_time": "2022-11-23T16:40:17.928586Z",
     "start_time": "2022-11-23T16:40:17.911902Z"
    }
   },
   "outputs": [],
   "source": [
    "def conv_train(dataloader, model, loss_fn, optimizer):\n",
    "    size = len(dataloader.dataset)\n",
    "    model.train()\n",
    "    for batch, (X, _) in enumerate(dataloader):\n",
    "        pred = model(X)\n",
    "        loss = loss_fn(pred, X)\n",
    "\n",
    "        optimizer.zero_grad()\n",
    "        loss.backward()\n",
    "        optimizer.step()\n",
    "\n",
    "        if batch % 100 == 0:\n",
    "            loss, current = loss.item(), batch * len(X)\n",
    "            print(f\"loss: {loss:>7f}  [{current:>5d}/{size:>5d}]\")\n",
    "\n",
    "def conv_test(dataloader, model, loss_fn):\n",
    "    size = len(dataloader.dataset)\n",
    "    num_batches = len(dataloader)\n",
    "    model.eval()\n",
    "    test_loss, correct = 0, 0\n",
    "    with torch.no_grad():\n",
    "        for X, _ in dataloader:\n",
    "            pred = model(X)\n",
    "            test_loss += loss_fn(pred, X).item()\n",
    "    test_loss /= num_batches\n",
    "    print('Test Error:')\n",
    "    print(f'Avg loss: {test_loss:>8f} \\n')"
   ]
  },
  {
   "cell_type": "code",
   "execution_count": 53,
   "id": "910769e4",
   "metadata": {
    "ExecuteTime": {
     "end_time": "2022-11-23T16:40:19.567583Z",
     "start_time": "2022-11-23T16:40:19.543567Z"
    }
   },
   "outputs": [],
   "source": [
    "conv_model = ConvAE(INP_CH, HID_CH, OUT_CH)\n",
    "loss_fn = nn.MSELoss()\n",
    "conv_optim = Adam(conv_model.parameters())\n",
    "test_dataloader = DataLoader(\n",
    "    test_data, BATCH_SIZE, shuffle=True, drop_last=True)"
   ]
  },
  {
   "cell_type": "code",
   "execution_count": 55,
   "id": "a3e02ee3",
   "metadata": {
    "ExecuteTime": {
     "end_time": "2022-11-23T18:40:46.815134Z",
     "start_time": "2022-11-23T16:46:44.233796Z"
    }
   },
   "outputs": [
    {
     "name": "stdout",
     "output_type": "stream",
     "text": [
      "Epoch 1\n",
      "-------------------------------\n",
      "loss: 0.030972  [    0/60000]\n",
      "loss: 0.026053  [12800/60000]\n",
      "loss: 0.024482  [25600/60000]\n",
      "loss: 0.019784  [38400/60000]\n",
      "loss: 0.018828  [51200/60000]\n",
      "Test Error:\n",
      "Avg loss: 0.013276 \n",
      "\n",
      "Epoch 2\n",
      "-------------------------------\n",
      "loss: 0.018089  [    0/60000]\n",
      "loss: 0.017257  [12800/60000]\n",
      "loss: 0.015216  [25600/60000]\n",
      "loss: 0.015994  [38400/60000]\n",
      "loss: 0.013760  [51200/60000]\n",
      "Test Error:\n",
      "Avg loss: 0.010395 \n",
      "\n",
      "Epoch 3\n",
      "-------------------------------\n",
      "loss: 0.013575  [    0/60000]\n",
      "loss: 0.014150  [12800/60000]\n",
      "loss: 0.013635  [25600/60000]\n",
      "loss: 0.013892  [38400/60000]\n",
      "loss: 0.012244  [51200/60000]\n",
      "Test Error:\n",
      "Avg loss: 0.009237 \n",
      "\n",
      "Epoch 4\n",
      "-------------------------------\n",
      "loss: 0.011712  [    0/60000]\n",
      "loss: 0.010824  [12800/60000]\n",
      "loss: 0.010260  [25600/60000]\n",
      "loss: 0.011526  [38400/60000]\n",
      "loss: 0.013012  [51200/60000]\n",
      "Test Error:\n",
      "Avg loss: 0.008575 \n",
      "\n",
      "Epoch 5\n",
      "-------------------------------\n",
      "loss: 0.010641  [    0/60000]\n",
      "loss: 0.011222  [12800/60000]\n",
      "loss: 0.010083  [25600/60000]\n",
      "loss: 0.010072  [38400/60000]\n",
      "loss: 0.010221  [51200/60000]\n",
      "Test Error:\n",
      "Avg loss: 0.008622 \n",
      "\n",
      "Done!\n"
     ]
    }
   ],
   "source": [
    "for e in range(N_EPOCHS):\n",
    "    print(f\"Epoch {e+1}\\n-------------------------------\")\n",
    "    train_dataloader = DataLoader(\n",
    "        train_data, BATCH_SIZE, shuffle=True, drop_last=True)\n",
    "    conv_train(train_dataloader, conv_model, loss_fn, conv_optim)\n",
    "    conv_test(test_dataloader, conv_model, loss_fn)\n",
    "print('Done!')"
   ]
  },
  {
   "cell_type": "code",
   "execution_count": 58,
   "id": "d66507ff",
   "metadata": {
    "ExecuteTime": {
     "end_time": "2022-11-24T06:15:51.345137Z",
     "start_time": "2022-11-24T06:15:51.321605Z"
    }
   },
   "outputs": [],
   "source": [
    "def conv_check():\n",
    "    test_size = test_data.data.size()[0]\n",
    "    n = np.random.randint(0, test_size - 1)\n",
    "    print(test_data[n][1])\n",
    "    fig, axes = plt.subplots(1, 2)\n",
    "    axes[0].imshow(test_data.data[n].detach().numpy())\n",
    "    axes[0].set_axis_off()\n",
    "    axes[1].imshow(conv_model(test_data[n][0].unsqueeze(0)).view(28, 28).detach().numpy())\n",
    "    axes[1].set_axis_off()\n",
    "    plt.show()"
   ]
  },
  {
   "cell_type": "code",
   "execution_count": 60,
   "id": "3050955d",
   "metadata": {
    "ExecuteTime": {
     "end_time": "2022-11-24T06:16:08.382885Z",
     "start_time": "2022-11-24T06:16:08.215266Z"
    }
   },
   "outputs": [
    {
     "name": "stdout",
     "output_type": "stream",
     "text": [
      "9\n"
     ]
    },
    {
     "data": {
      "image/png": "[encoded data removed]",
      "text/plain": [
       "<Figure size 432x288 with 2 Axes>"
      ]
     },
     "metadata": {
      "needs_background": "light"
     },
     "output_type": "display_data"
    }
   ],
   "source": [
    "conv_check()"
   ]
  },
  {
   "cell_type": "markdown",
   "id": "40bbe9a7",
   "metadata": {},
   "source": [
    "Обучить VAE собственной архитектуры на MNIST"
   ]
  },
  {
   "cell_type": "code",
   "execution_count": 61,
   "id": "2b761171",
   "metadata": {
    "ExecuteTime": {
     "end_time": "2022-11-24T06:16:35.660086Z",
     "start_time": "2022-11-24T06:16:35.627313Z"
    }
   },
   "outputs": [],
   "source": [
    "class VarEncoder(nn.Module):\n",
    "    def __init__(self, inp_ch, hid_ch, do_p=0.1):\n",
    "        super().__init__()\n",
    "        self.seq = nn.Sequential()\n",
    "        self.seq.append(\n",
    "            nn.Conv2d(inp_ch, hid_ch, kernel_size=5, stride=2, padding=2))\n",
    "        self.seq.append(nn.BatchNorm2d(hid_ch))\n",
    "        self.seq.append(nn.ReLU())\n",
    "        self.seq.append(nn.Dropout(do_p))\n",
    "        self.seq.append(\n",
    "            nn.Conv2d(hid_ch, hid_ch, kernel_size=3, stride=2, padding=1))\n",
    "        self.seq.append(nn.BatchNorm2d(hid_ch))\n",
    "        self.seq.append(nn.ReLU())\n",
    "        self.seq.append(nn.Dropout(do_p))\n",
    "        self.seq.append(\n",
    "            nn.Conv2d(hid_ch, 2, kernel_size=3, stride=1, padding=1))\n",
    "\n",
    "    def forward(self, x):\n",
    "        mu, sigma = self.seq(x).split(1, dim=1)\n",
    "        sigma = torch.exp(sigma)\n",
    "        return mu, sigma\n",
    "\n",
    "\n",
    "class VarDecoder(nn.Module):\n",
    "    def __init__(self, hid_ch, out_ch, do_p=0.1):\n",
    "        super().__init__()\n",
    "        self.seq = nn.Sequential()\n",
    "        self.seq.append(\n",
    "            nn.Conv2d(1, hid_ch, kernel_size=3, stride=1, padding=1))\n",
    "        self.seq.append(nn.UpsamplingNearest2d(scale_factor=2))\n",
    "        self.seq.append(nn.BatchNorm2d(hid_ch))\n",
    "        self.seq.append(nn.ReLU())\n",
    "        self.seq.append(nn.Dropout(do_p))\n",
    "        self.seq.append(\n",
    "            nn.Conv2d(hid_ch, hid_ch, kernel_size=3, stride=1, padding=1))\n",
    "        self.seq.append(nn.UpsamplingNearest2d(scale_factor=2))\n",
    "        self.seq.append(nn.BatchNorm2d(hid_ch))\n",
    "        self.seq.append(nn.ReLU())\n",
    "        self.seq.append(nn.Dropout(do_p))\n",
    "        self.seq.append(\n",
    "            nn.Conv2d(hid_ch, out_ch, kernel_size=5, stride=1, padding=2))\n",
    "\n",
    "    def forward(self, x):\n",
    "        return self.seq(x)"
   ]
  },
  {
   "cell_type": "code",
   "execution_count": 62,
   "id": "90de79d5",
   "metadata": {
    "ExecuteTime": {
     "end_time": "2022-11-24T06:16:37.613013Z",
     "start_time": "2022-11-24T06:16:37.595353Z"
    }
   },
   "outputs": [],
   "source": [
    "class ConvVarAutoEncoder(nn.Module):\n",
    "    def __init__(self, inp_ch, hid_ch, do_p=0.1):\n",
    "        super().__init__()\n",
    "        self.encoder = VarEncoder(inp_ch, hid_ch, do_p)\n",
    "        self.decoder = VarDecoder(hid_ch, inp_ch, do_p)\n",
    "\n",
    "    def forward(self, x):\n",
    "        mu, sigma = self.encoder(x)\n",
    "        norm = torch.normal(torch.zeros_like(mu), torch.ones_like(sigma))\n",
    "        hidden = mu + sigma * norm\n",
    "        x_ = self.decoder(hidden)\n",
    "        return x_, mu, sigma"
   ]
  },
  {
   "cell_type": "code",
   "execution_count": 63,
   "id": "99eb041a",
   "metadata": {
    "ExecuteTime": {
     "end_time": "2022-11-24T06:16:39.042833Z",
     "start_time": "2022-11-24T06:16:39.022203Z"
    }
   },
   "outputs": [],
   "source": [
    "# hyperparameters\n",
    "INP_CH = 1\n",
    "HID_CH = 100\n",
    "BATCH_SIZE = 64\n",
    "N_EPOCHS = 5\n",
    "KL_COEF = 0.01"
   ]
  },
  {
   "cell_type": "code",
   "execution_count": 64,
   "id": "b1516fba",
   "metadata": {
    "ExecuteTime": {
     "end_time": "2022-11-24T06:16:41.786577Z",
     "start_time": "2022-11-24T06:16:41.767934Z"
    }
   },
   "outputs": [],
   "source": [
    "def vae_loss_fn(pred, y, mu, sigma, coef=0.01):\n",
    "    mse_loss = nn.MSELoss()(pred, y)\n",
    "    p = torch.distributions.Normal(mu, sigma)\n",
    "    q = torch.distributions.Normal(\n",
    "        torch.zeros_like(mu), torch.ones_like(sigma))\n",
    "    kl_loss = torch.distributions.kl_divergence(p, q).mean()\n",
    "\n",
    "    return mse_loss + coef * kl_loss"
   ]
  },
  {
   "cell_type": "code",
   "execution_count": 73,
   "id": "671b4aa7",
   "metadata": {
    "ExecuteTime": {
     "end_time": "2022-11-24T06:21:01.014653Z",
     "start_time": "2022-11-24T06:21:00.993402Z"
    }
   },
   "outputs": [],
   "source": [
    "vae_model = ConvVarAutoEncoder(INP_CH, HID_CH)\n",
    "vae_optim = Adam(vae_model.parameters())"
   ]
  },
  {
   "cell_type": "code",
   "execution_count": 74,
   "id": "fe8180c8",
   "metadata": {
    "ExecuteTime": {
     "end_time": "2022-11-24T06:21:02.999048Z",
     "start_time": "2022-11-24T06:21:02.983405Z"
    }
   },
   "outputs": [],
   "source": [
    "def vae_train(dataloader, model, loss_fn, optimizer):\n",
    "    size = len(dataloader.dataset)\n",
    "    model.train()\n",
    "    for batch, (X, _) in enumerate(dataloader):\n",
    "        pred, mu, sigma = model(X)\n",
    "        loss = loss_fn(pred, X, mu, sigma, KL_COEF)\n",
    "\n",
    "        optimizer.zero_grad()\n",
    "        loss.backward()\n",
    "        optimizer.step()\n",
    "\n",
    "        if batch % 100 == 0:\n",
    "            loss, current = loss.item(), batch * len(X)\n",
    "            print(f'loss: {loss:>7f} [{current:>5d}/{size:>5d}]')"
   ]
  },
  {
   "cell_type": "code",
   "execution_count": 75,
   "id": "c75d2609",
   "metadata": {
    "ExecuteTime": {
     "end_time": "2022-11-24T06:21:03.829572Z",
     "start_time": "2022-11-24T06:21:03.805482Z"
    }
   },
   "outputs": [],
   "source": [
    "def vae_test(dataloader, model, loss_fn):\n",
    "    num_batches = len(dataloader)\n",
    "    model.eval()\n",
    "    test_loss = 0\n",
    "    with torch.no_grad():\n",
    "        for X, _ in dataloader:\n",
    "            pred, mu, sigma = model(X)\n",
    "            test_loss += loss_fn(pred, X, mu, sigma, KL_COEF).item()\n",
    "    test_loss /= num_batches\n",
    "    print('Test Error:')\n",
    "    print(f'Avg loss: {test_loss:>8f} \\n')"
   ]
  },
  {
   "cell_type": "code",
   "execution_count": 76,
   "id": "bb00fb80",
   "metadata": {
    "ExecuteTime": {
     "end_time": "2022-11-25T06:24:53.929370Z",
     "start_time": "2022-11-24T06:21:04.853888Z"
    }
   },
   "outputs": [
    {
     "name": "stdout",
     "output_type": "stream",
     "text": [
      "Epoch 1\n",
      "-------------------------------\n",
      "loss: 0.335612 [    0/60000]\n",
      "loss: 0.050121 [ 6400/60000]\n",
      "loss: 0.042349 [12800/60000]\n",
      "loss: 0.039049 [19200/60000]\n",
      "loss: 0.035844 [25600/60000]\n",
      "loss: 0.032455 [32000/60000]\n",
      "loss: 0.032267 [38400/60000]\n",
      "loss: 0.030517 [44800/60000]\n",
      "loss: 0.029675 [51200/60000]\n",
      "loss: 0.028101 [57600/60000]\n",
      "Test Error:\n",
      "Avg loss: 0.025938 \n",
      "\n",
      "Epoch 2\n",
      "-------------------------------\n",
      "loss: 0.028495 [    0/60000]\n",
      "loss: 0.028771 [ 6400/60000]\n",
      "loss: 0.027510 [12800/60000]\n",
      "loss: 0.028546 [19200/60000]\n",
      "loss: 0.025190 [25600/60000]\n",
      "loss: 0.026602 [32000/60000]\n",
      "loss: 0.027450 [38400/60000]\n",
      "loss: 0.026726 [44800/60000]\n",
      "loss: 0.025213 [51200/60000]\n",
      "loss: 0.025692 [57600/60000]\n",
      "Test Error:\n",
      "Avg loss: 0.023953 \n",
      "\n",
      "Epoch 3\n",
      "-------------------------------\n",
      "loss: 0.026107 [    0/60000]\n",
      "loss: 0.024798 [ 6400/60000]\n",
      "loss: 0.026601 [12800/60000]\n",
      "loss: 0.024963 [19200/60000]\n",
      "loss: 0.025805 [25600/60000]\n",
      "loss: 0.025384 [32000/60000]\n",
      "loss: 0.024398 [38400/60000]\n",
      "loss: 0.026576 [44800/60000]\n",
      "loss: 0.024548 [51200/60000]\n",
      "loss: 0.026280 [57600/60000]\n",
      "Test Error:\n",
      "Avg loss: 0.024257 \n",
      "\n",
      "Epoch 4\n",
      "-------------------------------\n",
      "loss: 0.025952 [    0/60000]\n",
      "loss: 0.024833 [ 6400/60000]\n",
      "loss: 0.027161 [12800/60000]\n",
      "loss: 0.028083 [19200/60000]\n",
      "loss: 0.024681 [25600/60000]\n",
      "loss: 0.025200 [32000/60000]\n",
      "loss: 0.024642 [38400/60000]\n",
      "loss: 0.025926 [44800/60000]\n",
      "loss: 0.024950 [51200/60000]\n",
      "loss: 0.023714 [57600/60000]\n",
      "Test Error:\n",
      "Avg loss: 0.022738 \n",
      "\n",
      "Epoch 5\n",
      "-------------------------------\n",
      "loss: 0.025460 [    0/60000]\n",
      "loss: 0.025654 [ 6400/60000]\n",
      "loss: 0.026103 [12800/60000]\n",
      "loss: 0.023207 [19200/60000]\n",
      "loss: 0.025252 [25600/60000]\n",
      "loss: 0.024724 [32000/60000]\n",
      "loss: 0.022934 [38400/60000]\n",
      "loss: 0.023298 [44800/60000]\n",
      "loss: 0.023246 [51200/60000]\n",
      "loss: 0.023712 [57600/60000]\n",
      "Test Error:\n",
      "Avg loss: 0.022897 \n",
      "\n",
      "Done!\n"
     ]
    }
   ],
   "source": [
    "for e in range(N_EPOCHS):\n",
    "    print(f\"Epoch {e+1}\\n-------------------------------\")\n",
    "    train_dataloader = DataLoader(\n",
    "    \ttrain_data, BATCH_SIZE, shuffle=True, drop_last=True)\n",
    "    vae_train(train_dataloader, vae_model, vae_loss_fn, vae_optim)\n",
    "    vae_test(test_dataloader, vae_model, vae_loss_fn)\n",
    "print('Done!')"
   ]
  },
  {
   "cell_type": "code",
   "execution_count": 77,
   "id": "d85b5dd8",
   "metadata": {
    "ExecuteTime": {
     "end_time": "2022-11-25T06:25:08.910174Z",
     "start_time": "2022-11-25T06:25:08.894110Z"
    }
   },
   "outputs": [],
   "source": [
    "def check():\n",
    "    test_size = test_data.data.size()[0]\n",
    "    n = np.random.randint(0, test_size - 1)\n",
    "    print(test_data[n][1])\n",
    "    plt.imshow(vae_model(test_data[n][0].unsqueeze(0))\n",
    "               [0].detach().squeeze().numpy())\n",
    "    plt.show()"
   ]
  },
  {
   "cell_type": "code",
   "execution_count": 87,
   "id": "54025b5f",
   "metadata": {
    "ExecuteTime": {
     "end_time": "2022-11-25T06:25:30.941668Z",
     "start_time": "2022-11-25T06:25:30.665055Z"
    }
   },
   "outputs": [
    {
     "name": "stdout",
     "output_type": "stream",
     "text": [
      "6\n"
     ]
    },
    {
     "data": {
      "image/png": "[encoded data removed]",
      "text/plain": [
       "<Figure size 432x288 with 1 Axes>"
      ]
     },
     "metadata": {
      "needs_background": "light"
     },
     "output_type": "display_data"
    }
   ],
   "source": [
    "check()"
   ]
  },
  {
   "cell_type": "code",
   "execution_count": 93,
   "id": "ce720aa9",
   "metadata": {
    "ExecuteTime": {
     "end_time": "2022-11-25T06:26:56.813426Z",
     "start_time": "2022-11-25T06:26:56.790240Z"
    }
   },
   "outputs": [],
   "source": [
    "def generate(shift=0, deviation=0):\n",
    "    hidden = torch.normal(torch.zeros(1, 1, 7, 7) + shift,\n",
    "                          torch.ones(1, 1, 7, 7) * deviation)\n",
    "    x_ = vae_model.decoder(hidden)\n",
    "    plt.imshow(x_[0].detach().squeeze().numpy())\n",
    "    plt.show()"
   ]
  },
  {
   "cell_type": "code",
   "execution_count": 102,
   "id": "e9f3c32c",
   "metadata": {
    "ExecuteTime": {
     "end_time": "2022-11-25T06:27:39.727933Z",
     "start_time": "2022-11-25T06:27:39.458416Z"
    }
   },
   "outputs": [
    {
     "data": {
      "image/png": "[encoded data removed]",
      "text/plain": [
       "<Figure size 432x288 with 1 Axes>"
      ]
     },
     "metadata": {
      "needs_background": "light"
     },
     "output_type": "display_data"
    }
   ],
   "source": [
    "generate(0.3, 1.2)"
   ]
  }
 ],
 "metadata": {
  "kernelspec": {
   "display_name": "Python 3 (ipykernel)",
   "language": "python",
   "name": "python3"
  },
  "language_info": {
   "codemirror_mode": {
    "name": "ipython",
    "version": 3
   },
   "file_extension": ".py",
   "mimetype": "text/x-python",
   "name": "python",
   "nbconvert_exporter": "python",
   "pygments_lexer": "ipython3",
   "version": "3.9.4"
  }
 },
 "nbformat": 4,
 "nbformat_minor": 5
}
