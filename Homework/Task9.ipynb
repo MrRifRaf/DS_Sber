{
 "cells": [
  {
   "cell_type": "code",
   "execution_count": 1,
   "metadata": {
    "ExecuteTime": {
     "end_time": "2022-10-30T13:23:22.131789Z",
     "start_time": "2022-10-30T13:23:20.655957Z"
    }
   },
   "outputs": [],
   "source": [
    "import matplotlib.pyplot as plt\n",
    "import numpy as np\n",
    "import pandas as pd\n",
    "from sklearn.ensemble import BaggingClassifier, GradientBoostingClassifier, RandomForestClassifier\n",
    "from sklearn.metrics import accuracy_score\n",
    "from sklearn.model_selection import GridSearchCV, cross_val_score, train_test_split\n",
    "from sklearn.pipeline import Pipeline\n",
    "from sklearn.preprocessing import LabelEncoder\n",
    "from sklearn.tree import DecisionTreeClassifier\n",
    "from xgboost import XGBClassifier"
   ]
  },
  {
   "cell_type": "code",
   "execution_count": 2,
   "metadata": {
    "ExecuteTime": {
     "end_time": "2022-10-30T13:23:24.315578Z",
     "start_time": "2022-10-30T13:23:24.299645Z"
    }
   },
   "outputs": [],
   "source": [
    "%matplotlib inline\n",
    "RANDOM_STATE = 42"
   ]
  },
  {
   "cell_type": "markdown",
   "metadata": {},
   "source": [
    "https://archive.ics.uci.edu/ml/datasets/wine+quality"
   ]
  },
  {
   "cell_type": "code",
   "execution_count": 3,
   "metadata": {
    "ExecuteTime": {
     "end_time": "2022-10-30T13:23:31.831547Z",
     "start_time": "2022-10-30T13:23:31.796573Z"
    }
   },
   "outputs": [
    {
     "name": "stdout",
     "output_type": "stream",
     "text": [
      "<class 'pandas.core.frame.DataFrame'>\n",
      "RangeIndex: 1599 entries, 0 to 1598\n",
      "Data columns (total 12 columns):\n",
      " #   Column                Non-Null Count  Dtype  \n",
      "---  ------                --------------  -----  \n",
      " 0   fixed acidity         1599 non-null   float64\n",
      " 1   volatile acidity      1599 non-null   float64\n",
      " 2   citric acid           1599 non-null   float64\n",
      " 3   residual sugar        1599 non-null   float64\n",
      " 4   chlorides             1599 non-null   float64\n",
      " 5   free sulfur dioxide   1599 non-null   float64\n",
      " 6   total sulfur dioxide  1599 non-null   float64\n",
      " 7   density               1599 non-null   float64\n",
      " 8   pH                    1599 non-null   float64\n",
      " 9   sulphates             1599 non-null   float64\n",
      " 10  alcohol               1599 non-null   float64\n",
      " 11  quality               1599 non-null   int64  \n",
      "dtypes: float64(11), int64(1)\n",
      "memory usage: 150.0 KB\n"
     ]
    }
   ],
   "source": [
    "data = pd.read_csv('winequality-red.csv', sep=';')\n",
    "data.info()"
   ]
  },
  {
   "cell_type": "code",
   "execution_count": null,
   "metadata": {},
   "outputs": [],
   "source": []
  },
  {
   "cell_type": "markdown",
   "metadata": {},
   "source": [
    "1.Разделите выборку на обучающую и тестовую в отношении 70%/30%"
   ]
  },
  {
   "cell_type": "code",
   "execution_count": 4,
   "metadata": {
    "ExecuteTime": {
     "end_time": "2022-10-30T13:23:34.764099Z",
     "start_time": "2022-10-30T13:23:34.751105Z"
    }
   },
   "outputs": [
    {
     "data": {
      "text/plain": [
       "((1119, 11), (480, 11), (1119,), (480,))"
      ]
     },
     "execution_count": 4,
     "metadata": {},
     "output_type": "execute_result"
    }
   ],
   "source": [
    "X, y = data.iloc[:, :-1], data.iloc[:, -1]\n",
    "y = LabelEncoder().fit_transform(y)\n",
    "X_train, X_test, y_train, y_test = train_test_split(X,\n",
    "                                                    y,\n",
    "                                                    test_size=0.3,\n",
    "                                                    random_state=RANDOM_STATE)\n",
    "X_train.shape, X_test.shape, y_train.shape, y_test.shape"
   ]
  },
  {
   "cell_type": "markdown",
   "metadata": {},
   "source": [
    "2.Оцените качество по метрике accuracy для классификаторов:\n",
    "\n",
    "DecisionTreeClassifier\n",
    "\n",
    "BaggingClassifier со 100 деревьями\n",
    "\n",
    "RandomForestClassifier со 100 деревьями\n",
    "\n",
    "Сравните результаты и напишите какой вывод можно сделать."
   ]
  },
  {
   "cell_type": "code",
   "execution_count": 5,
   "metadata": {
    "ExecuteTime": {
     "end_time": "2022-10-30T13:23:42.346150Z",
     "start_time": "2022-10-30T13:23:41.483720Z"
    }
   },
   "outputs": [
    {
     "data": {
      "text/plain": [
       "RandomForestClassifier(random_state=42)"
      ]
     },
     "execution_count": 5,
     "metadata": {},
     "output_type": "execute_result"
    }
   ],
   "source": [
    "tree = DecisionTreeClassifier(random_state=RANDOM_STATE)\n",
    "bagger = BaggingClassifier(base_estimator=DecisionTreeClassifier(),\n",
    "                           n_estimators=100,\n",
    "                           random_state=RANDOM_STATE)\n",
    "rfc = RandomForestClassifier(random_state=RANDOM_STATE) # по дефолту и так 100 деревьев\n",
    "tree.fit(X_train, y_train)\n",
    "bagger.fit(X_train, y_train)\n",
    "rfc.fit(X_train, y_train)"
   ]
  },
  {
   "cell_type": "code",
   "execution_count": 6,
   "metadata": {
    "ExecuteTime": {
     "end_time": "2022-10-30T13:23:50.131938Z",
     "start_time": "2022-10-30T13:23:50.077086Z"
    }
   },
   "outputs": [
    {
     "name": "stdout",
     "output_type": "stream",
     "text": [
      "Decision tree accuracy: 0.5729\n",
      "Bagging accuracy: 0.6417\n",
      "Random forest accuracy: 0.6542\n"
     ]
    }
   ],
   "source": [
    "print(f'Decision tree accuracy: {accuracy_score(y_test, tree.predict(X_test)):.4f}')\n",
    "print(f'Bagging accuracy: {accuracy_score(y_test, bagger.predict(X_test)):.4f}')\n",
    "print(f'Random forest accuracy: {accuracy_score(y_test, rfc.predict(X_test)):.4f}')"
   ]
  },
  {
   "cell_type": "markdown",
   "metadata": {},
   "source": [
    "### Вывод: \n",
    "Обычное дерево решений переобучается, случайный лес и бэггинг более устойчивы к переобучению"
   ]
  },
  {
   "cell_type": "code",
   "execution_count": null,
   "metadata": {},
   "outputs": [],
   "source": []
  },
  {
   "cell_type": "markdown",
   "metadata": {},
   "source": [
    "3.Посчитайте качество на тестовой выборке по метрике accuracy для классификатора RandomForestClassifier, используя значения деревьев:\n",
    "    \n",
    "10, 50, 100, 200, далее с шагом 200 до 5000 деревьев.\n",
    "Постройте график зависимости качества от числа деревьев.\n",
    "\n"
   ]
  },
  {
   "cell_type": "code",
   "execution_count": 7,
   "metadata": {
    "ExecuteTime": {
     "end_time": "2022-10-30T13:26:59.027862Z",
     "start_time": "2022-10-30T13:23:55.026227Z"
    }
   },
   "outputs": [],
   "source": [
    "counts = [10, 50, 100] + list(range(200, 5001, 200))\n",
    "accuracies = []\n",
    "for count in counts:\n",
    "    model = RandomForestClassifier(n_estimators=count,\n",
    "                                   random_state=RANDOM_STATE)\n",
    "    model.fit(X_train, y_train)\n",
    "    accuracies.append(accuracy_score(y_test, model.predict(X_test)))"
   ]
  },
  {
   "cell_type": "code",
   "execution_count": 8,
   "metadata": {
    "ExecuteTime": {
     "end_time": "2022-10-30T13:37:48.900865Z",
     "start_time": "2022-10-30T13:37:48.729662Z"
    }
   },
   "outputs": [
    {
     "data": {
      "text/plain": [
       "[<matplotlib.lines.Line2D at 0x1cd7f97f850>]"
      ]
     },
     "execution_count": 8,
     "metadata": {},
     "output_type": "execute_result"
    },
    {
     "data": {
      "image/png": "[encoded data removed]",
      "text/plain": [
       "<Figure size 432x288 with 1 Axes>"
      ]
     },
     "metadata": {
      "needs_background": "light"
     },
     "output_type": "display_data"
    }
   ],
   "source": [
    "plt.plot(counts, accuracies)"
   ]
  },
  {
   "cell_type": "markdown",
   "metadata": {},
   "source": [
    "### Вывод:\n",
    "Как видим качество модели не сильно растет при увеличении количества деревьев. Оптимальным выглядит количество до 500"
   ]
  },
  {
   "cell_type": "code",
   "execution_count": null,
   "metadata": {},
   "outputs": [],
   "source": []
  },
  {
   "cell_type": "markdown",
   "metadata": {},
   "source": [
    "4.Обучите реализации градиентного бустинга с параметрами по умолчанию из библиотек sklearn и xgboost. Сравните значение метрики accuracy по cross_val_score"
   ]
  },
  {
   "cell_type": "code",
   "execution_count": 9,
   "metadata": {
    "ExecuteTime": {
     "end_time": "2022-10-30T13:38:01.053850Z",
     "start_time": "2022-10-30T13:38:01.038224Z"
    }
   },
   "outputs": [],
   "source": [
    "gbc = GradientBoostingClassifier(random_state=RANDOM_STATE)\n",
    "xgbc = XGBClassifier(random_state=RANDOM_STATE)"
   ]
  },
  {
   "cell_type": "code",
   "execution_count": 10,
   "metadata": {
    "ExecuteTime": {
     "end_time": "2022-10-30T13:38:08.783868Z",
     "start_time": "2022-10-30T13:38:02.821735Z"
    }
   },
   "outputs": [
    {
     "name": "stdout",
     "output_type": "stream",
     "text": [
      "Sklearn GB: 0.5653467868338558\n"
     ]
    }
   ],
   "source": [
    "print('Sklearn GB:', np.mean(cross_val_score(gbc, X, y, scoring='accuracy', n_jobs=-1)))"
   ]
  },
  {
   "cell_type": "code",
   "execution_count": 11,
   "metadata": {
    "ExecuteTime": {
     "end_time": "2022-10-30T13:38:14.868018Z",
     "start_time": "2022-10-30T13:38:13.265715Z"
    }
   },
   "outputs": [
    {
     "name": "stdout",
     "output_type": "stream",
     "text": [
      "XGBoost GB: 0.5472335423197492\n"
     ]
    }
   ],
   "source": [
    "print('XGBoost GB:', np.mean(cross_val_score(xgbc, X, y, scoring='accuracy', n_jobs=-1)))"
   ]
  },
  {
   "cell_type": "markdown",
   "metadata": {},
   "source": [
    "## Вывод\n",
    "XGboost работает примерно в 3 раза быстрее, но чуть менее точно"
   ]
  },
  {
   "cell_type": "code",
   "execution_count": null,
   "metadata": {},
   "outputs": [],
   "source": []
  },
  {
   "cell_type": "markdown",
   "metadata": {},
   "source": [
    "5.Подберите оптимальные параметры этих алгоритмов с помощью GridSearchCV(cv=3).\n",
    "Параметры для оптимизации:\n",
    "\n",
    "скорость обучения\n",
    "\n",
    "количество деревьев\n",
    "\n",
    "глубина деревьев\n",
    "\n",
    "Сравните значение метрики accuracy и скорость работы. Выведите лучшие параметры алгоритмов."
   ]
  },
  {
   "cell_type": "code",
   "execution_count": 12,
   "metadata": {
    "ExecuteTime": {
     "end_time": "2022-10-30T13:39:10.378986Z",
     "start_time": "2022-10-30T13:39:10.362471Z"
    }
   },
   "outputs": [],
   "source": [
    "params = {'learning_rate': [0.01, 0.1, 0.2, 0.3],\n",
    "          'n_estimators': [25, 50, 100, 150, 200],\n",
    "          'max_depth': [3, 5, 7]\n",
    "         }\n",
    "srch_s = GridSearchCV(estimator=GradientBoostingClassifier(random_state=RANDOM_STATE),\n",
    "                      param_grid=params,\n",
    "                      cv=3,\n",
    "                      scoring='accuracy',\n",
    "                      n_jobs=-1)\n",
    "srch_x = GridSearchCV(estimator=XGBClassifier(random_state=RANDOM_STATE),\n",
    "                      param_grid=params,\n",
    "                      cv=3,\n",
    "                      scoring='accuracy',\n",
    "                      n_jobs=-1)"
   ]
  },
  {
   "cell_type": "code",
   "execution_count": 13,
   "metadata": {
    "ExecuteTime": {
     "end_time": "2022-10-30T13:43:04.108891Z",
     "start_time": "2022-10-30T13:39:23.957613Z"
    }
   },
   "outputs": [
    {
     "data": {
      "text/plain": [
       "GridSearchCV(cv=3, estimator=GradientBoostingClassifier(random_state=42),\n",
       "             n_jobs=-1,\n",
       "             param_grid={'learning_rate': [0.01, 0.1, 0.2, 0.3],\n",
       "                         'max_depth': [3, 5, 7],\n",
       "                         'n_estimators': [25, 50, 100, 150, 200]},\n",
       "             scoring='accuracy')"
      ]
     },
     "execution_count": 13,
     "metadata": {},
     "output_type": "execute_result"
    }
   ],
   "source": [
    "srch_s.fit(X, y)"
   ]
  },
  {
   "cell_type": "code",
   "execution_count": 14,
   "metadata": {
    "ExecuteTime": {
     "end_time": "2022-10-30T13:44:27.203297Z",
     "start_time": "2022-10-30T13:43:38.326916Z"
    }
   },
   "outputs": [
    {
     "data": {
      "text/plain": [
       "GridSearchCV(cv=3,\n",
       "             estimator=XGBClassifier(base_score=None, booster=None,\n",
       "                                     callbacks=None, colsample_bylevel=None,\n",
       "                                     colsample_bynode=None,\n",
       "                                     colsample_bytree=None,\n",
       "                                     early_stopping_rounds=None,\n",
       "                                     enable_categorical=False, eval_metric=None,\n",
       "                                     gamma=None, gpu_id=None, grow_policy=None,\n",
       "                                     importance_type=None,\n",
       "                                     interaction_constraints=None,\n",
       "                                     learning_rate=None, max_bin=None,\n",
       "                                     max_ca...\n",
       "                                     max_delta_step=None, max_depth=None,\n",
       "                                     max_leaves=None, min_child_weight=None,\n",
       "                                     missing=nan, monotone_constraints=None,\n",
       "                                     n_estimators=100, n_jobs=None,\n",
       "                                     num_parallel_tree=None, predictor=None,\n",
       "                                     random_state=42, reg_alpha=None,\n",
       "                                     reg_lambda=None, ...),\n",
       "             n_jobs=-1,\n",
       "             param_grid={'learning_rate': [0.01, 0.1, 0.2, 0.3],\n",
       "                         'max_depth': [3, 5, 7],\n",
       "                         'n_estimators': [25, 50, 100, 150, 200]},\n",
       "             scoring='accuracy')"
      ]
     },
     "execution_count": 14,
     "metadata": {},
     "output_type": "execute_result"
    }
   ],
   "source": [
    "srch_x.fit(X, y)"
   ]
  },
  {
   "cell_type": "code",
   "execution_count": 17,
   "metadata": {
    "ExecuteTime": {
     "end_time": "2022-10-30T13:47:23.183573Z",
     "start_time": "2022-10-30T13:47:23.163541Z"
    }
   },
   "outputs": [
    {
     "name": "stdout",
     "output_type": "stream",
     "text": [
      "Sklearn GBC:\n",
      "Accuracy: 0.5685\n",
      "Parameters of a model: {'learning_rate': 0.01, 'max_depth': 3, 'n_estimators': 150}\n"
     ]
    }
   ],
   "source": [
    "print('Sklearn GBC:')\n",
    "print(f'Accuracy: {srch_s.best_score_:.4f}')\n",
    "print(f'Parameters of a model: {srch_s.best_params_}')"
   ]
  },
  {
   "cell_type": "code",
   "execution_count": 18,
   "metadata": {
    "ExecuteTime": {
     "end_time": "2022-10-30T13:48:00.077266Z",
     "start_time": "2022-10-30T13:48:00.062314Z"
    }
   },
   "outputs": [
    {
     "name": "stdout",
     "output_type": "stream",
     "text": [
      "XGBoost:\n",
      "Accuracy: 0.5810\n",
      "Parameters of a model: {'learning_rate': 0.01, 'max_depth': 5, 'n_estimators': 100}\n"
     ]
    }
   ],
   "source": [
    "print('XGBoost:')\n",
    "print(f'Accuracy: {srch_x.best_score_:.4f}')\n",
    "print(f'Parameters of a model: {srch_x.best_params_}')"
   ]
  },
  {
   "cell_type": "markdown",
   "metadata": {},
   "source": [
    "### Вывод:\n",
    "Xboost показал чуть более высокий уровень accuracy за время почти в 4 раза быстрее."
   ]
  },
  {
   "cell_type": "code",
   "execution_count": null,
   "metadata": {},
   "outputs": [],
   "source": []
  },
  {
   "cell_type": "markdown",
   "metadata": {},
   "source": [
    "6.Обучите реализации градиентного бустинга с параметрами по умолчанию из библиотек lightgbm и catboost. Сравните значение метрики accuracy по cross_val_score по всем четырем реализациям."
   ]
  },
  {
   "cell_type": "code",
   "execution_count": 19,
   "metadata": {
    "ExecuteTime": {
     "end_time": "2022-10-30T13:49:20.349267Z",
     "start_time": "2022-10-30T13:49:19.522736Z"
    }
   },
   "outputs": [],
   "source": [
    "from lightgbm import LGBMClassifier\n",
    "from catboost import CatBoostClassifier"
   ]
  },
  {
   "cell_type": "code",
   "execution_count": 20,
   "metadata": {
    "ExecuteTime": {
     "end_time": "2022-10-30T13:49:36.618539Z",
     "start_time": "2022-10-30T13:49:36.611513Z"
    }
   },
   "outputs": [],
   "source": [
    "lgbc = LGBMClassifier(random_state=RANDOM_STATE)\n",
    "cbc = CatBoostClassifier(random_state=RANDOM_STATE)"
   ]
  },
  {
   "cell_type": "code",
   "execution_count": 21,
   "metadata": {
    "ExecuteTime": {
     "end_time": "2022-10-30T13:49:44.745716Z",
     "start_time": "2022-10-30T13:49:40.574313Z"
    }
   },
   "outputs": [
    {
     "name": "stdout",
     "output_type": "stream",
     "text": [
      "Light GBM: 0.5572472570532915\n"
     ]
    }
   ],
   "source": [
    "print('Light GBM:', np.mean(cross_val_score(lgbc, X, y, scoring='accuracy', n_jobs=-1)))"
   ]
  },
  {
   "cell_type": "code",
   "execution_count": 22,
   "metadata": {
    "ExecuteTime": {
     "end_time": "2022-10-30T13:50:33.641801Z",
     "start_time": "2022-10-30T13:49:59.479280Z"
    }
   },
   "outputs": [
    {
     "name": "stdout",
     "output_type": "stream",
     "text": [
      "Catboost Classifier: 0.5516105015673981\n"
     ]
    }
   ],
   "source": [
    "print('Catboost Classifier:', np.mean(cross_val_score(cbc, X, y, scoring='accuracy', n_jobs=-1)))"
   ]
  },
  {
   "cell_type": "markdown",
   "metadata": {},
   "source": [
    "#### Вывод:\n",
    "Метрика accuracy примерно такая же как по sklearn и xgboost, но при этом catboost сильно проигрывает по времени: 34 секунд против 6, 2, 4 по sklearn, xgboost и lightgbm соответственно."
   ]
  },
  {
   "cell_type": "code",
   "execution_count": null,
   "metadata": {},
   "outputs": [],
   "source": []
  },
  {
   "cell_type": "markdown",
   "metadata": {},
   "source": [
    "7.Подберите оптимальные параметры для алгоритмов градиентного бустинга из библиотек lightgbm и catboost с теми же условиями. Выведите лучшие параметры алгоритмов.\n",
    "Сравните значение метрики accuracy и скорость по этим четырем реализациям."
   ]
  },
  {
   "cell_type": "code",
   "execution_count": 23,
   "metadata": {
    "ExecuteTime": {
     "end_time": "2022-10-30T13:52:58.227223Z",
     "start_time": "2022-10-30T13:52:58.221222Z"
    }
   },
   "outputs": [],
   "source": [
    "srch_l = GridSearchCV(estimator=LGBMClassifier(random_state=RANDOM_STATE),\n",
    "                      param_grid=params,\n",
    "                      cv=3,\n",
    "                      scoring='accuracy',\n",
    "                      n_jobs=-1)\n",
    "srch_c = GridSearchCV(estimator=CatBoostClassifier(random_state=RANDOM_STATE),\n",
    "                      param_grid=params,\n",
    "                      cv=3,\n",
    "                      scoring='accuracy',\n",
    "                      n_jobs=-1)"
   ]
  },
  {
   "cell_type": "code",
   "execution_count": 24,
   "metadata": {
    "ExecuteTime": {
     "end_time": "2022-10-30T13:53:20.473337Z",
     "start_time": "2022-10-30T13:53:04.322076Z"
    }
   },
   "outputs": [
    {
     "data": {
      "text/plain": [
       "GridSearchCV(cv=3, estimator=LGBMClassifier(random_state=42), n_jobs=-1,\n",
       "             param_grid={'learning_rate': [0.01, 0.1, 0.2, 0.3],\n",
       "                         'max_depth': [3, 5, 7],\n",
       "                         'n_estimators': [25, 50, 100, 150, 200]},\n",
       "             scoring='accuracy')"
      ]
     },
     "execution_count": 24,
     "metadata": {},
     "output_type": "execute_result"
    }
   ],
   "source": [
    "srch_l.fit(X, y)"
   ]
  },
  {
   "cell_type": "code",
   "execution_count": 25,
   "metadata": {
    "ExecuteTime": {
     "end_time": "2022-10-30T13:55:40.167046Z",
     "start_time": "2022-10-30T13:53:36.715648Z"
    }
   },
   "outputs": [
    {
     "name": "stdout",
     "output_type": "stream",
     "text": [
      "0:\tlearn: 1.5343515\ttotal: 143ms\tremaining: 3.42s\n",
      "1:\tlearn: 1.3675445\ttotal: 146ms\tremaining: 1.68s\n",
      "2:\tlearn: 1.2647222\ttotal: 150ms\tremaining: 1.1s\n",
      "3:\tlearn: 1.1818147\ttotal: 153ms\tremaining: 806ms\n",
      "4:\tlearn: 1.1219521\ttotal: 158ms\tremaining: 631ms\n",
      "5:\tlearn: 1.0773894\ttotal: 161ms\tremaining: 510ms\n",
      "6:\tlearn: 1.0424289\ttotal: 165ms\tremaining: 424ms\n",
      "7:\tlearn: 1.0095036\ttotal: 168ms\tremaining: 357ms\n",
      "8:\tlearn: 0.9833135\ttotal: 172ms\tremaining: 306ms\n",
      "9:\tlearn: 0.9593808\ttotal: 176ms\tremaining: 263ms\n",
      "10:\tlearn: 0.9413361\ttotal: 179ms\tremaining: 228ms\n",
      "11:\tlearn: 0.9290779\ttotal: 183ms\tremaining: 198ms\n",
      "12:\tlearn: 0.9181650\ttotal: 186ms\tremaining: 172ms\n",
      "13:\tlearn: 0.9041588\ttotal: 190ms\tremaining: 149ms\n",
      "14:\tlearn: 0.8925624\ttotal: 193ms\tremaining: 129ms\n",
      "15:\tlearn: 0.8825740\ttotal: 197ms\tremaining: 111ms\n",
      "16:\tlearn: 0.8730461\ttotal: 200ms\tremaining: 94.1ms\n",
      "17:\tlearn: 0.8645670\ttotal: 205ms\tremaining: 79.6ms\n",
      "18:\tlearn: 0.8552018\ttotal: 208ms\tremaining: 65.8ms\n",
      "19:\tlearn: 0.8509818\ttotal: 212ms\tremaining: 53ms\n",
      "20:\tlearn: 0.8455298\ttotal: 215ms\tremaining: 41ms\n",
      "21:\tlearn: 0.8406617\ttotal: 219ms\tremaining: 29.8ms\n",
      "22:\tlearn: 0.8345328\ttotal: 223ms\tremaining: 19.4ms\n",
      "23:\tlearn: 0.8274488\ttotal: 226ms\tremaining: 9.44ms\n",
      "24:\tlearn: 0.8223621\ttotal: 230ms\tremaining: 0us\n"
     ]
    },
    {
     "data": {
      "text/plain": [
       "GridSearchCV(cv=3,\n",
       "             estimator=<catboost.core.CatBoostClassifier object at 0x000001CD7FF20AF0>,\n",
       "             n_jobs=-1,\n",
       "             param_grid={'learning_rate': [0.01, 0.1, 0.2, 0.3],\n",
       "                         'max_depth': [3, 5, 7],\n",
       "                         'n_estimators': [25, 50, 100, 150, 200]},\n",
       "             scoring='accuracy')"
      ]
     },
     "execution_count": 25,
     "metadata": {},
     "output_type": "execute_result"
    }
   ],
   "source": [
    "srch_c.fit(X, y)"
   ]
  },
  {
   "cell_type": "code",
   "execution_count": 53,
   "metadata": {
    "ExecuteTime": {
     "end_time": "2022-10-30T16:55:03.889210Z",
     "start_time": "2022-10-30T16:55:03.865983Z"
    }
   },
   "outputs": [
    {
     "name": "stdout",
     "output_type": "stream",
     "text": [
      "Light GBM:\n",
      "Accuracy: 0.5741\n",
      "Parameters of a model: {'learning_rate': 0.01, 'max_depth': 3, 'n_estimators': 200}\n"
     ]
    }
   ],
   "source": [
    "print('Light GBM:')\n",
    "print(f'Accuracy: {srch_l.best_score_:.4f}')\n",
    "print(f'Parameters of a model: {srch_l.best_params_}')"
   ]
  },
  {
   "cell_type": "code",
   "execution_count": 52,
   "metadata": {
    "ExecuteTime": {
     "end_time": "2022-10-30T16:54:56.780892Z",
     "start_time": "2022-10-30T16:54:56.768158Z"
    }
   },
   "outputs": [
    {
     "name": "stdout",
     "output_type": "stream",
     "text": [
      "CatBoost:\n",
      "Accuracy: 0.5941\n",
      "Parameters of a model: {'learning_rate': 0.2, 'max_depth': 5, 'n_estimators': 25}\n"
     ]
    }
   ],
   "source": [
    "print('CatBoost:')\n",
    "print(f'Accuracy: {srch_c.best_score_:.4f}')\n",
    "print(f'Parameters of a model: {srch_c.best_params_}')"
   ]
  },
  {
   "cell_type": "markdown",
   "metadata": {},
   "source": [
    "### Вывод:\n",
    "По accuracy различные библиотеки примерно похожи: от 0.568 для sklearn до 0.594 для Catboost.<br>\n",
    "По скорости самой медленной оказалась библиотека sklearn: 5 минут, следующая - это catboost: 2.5 минуты, потом xgboost: 1 минута и, наконец, самая быстрая lightgbm: 23 секунты.<br>\n",
    "Также интересно, что у разных библиотек разные оптимальные гиперпараметры."
   ]
  },
  {
   "cell_type": "code",
   "execution_count": null,
   "metadata": {},
   "outputs": [],
   "source": []
  },
  {
   "cell_type": "markdown",
   "metadata": {},
   "source": [
    "8.Подберите оптимальные параметры алгоритма из библиотеки xgboost с помощью [optuna](https://github.com/optuna/optuna). Параметры для оптимизации:\n",
    "\n",
    "скорость обучения\n",
    "\n",
    "количество деревьев\n",
    "\n",
    "глубина деревьев\n",
    "\n",
    "Сравните результат с поиском по сетке из sklearn. Выведите лучшие параметры алгоритма, найденные даным способом."
   ]
  },
  {
   "cell_type": "code",
   "execution_count": 29,
   "metadata": {
    "ExecuteTime": {
     "end_time": "2022-10-30T15:42:48.140064Z",
     "start_time": "2022-10-30T15:42:46.861055Z"
    }
   },
   "outputs": [],
   "source": [
    "import optuna"
   ]
  },
  {
   "cell_type": "code",
   "execution_count": 43,
   "metadata": {
    "ExecuteTime": {
     "end_time": "2022-10-30T16:28:57.959989Z",
     "start_time": "2022-10-30T16:28:57.932871Z"
    }
   },
   "outputs": [],
   "source": [
    "def tune(objective):\n",
    "    study = optuna.create_study(direction=\"maximize\")\n",
    "    optuna.logging.set_verbosity(optuna.logging.WARNING)\n",
    "    study.optimize(objective, n_trials=100)\n",
    "\n",
    "    params = study.best_params\n",
    "    best_score = study.best_value\n",
    "    print(f\"Best score: {best_score}\\n\")\n",
    "    print(f\"Optimized parameters: {params}\\n\")\n",
    "    return params\n",
    "\n",
    "\n",
    "def xgboost_objective(trial):\n",
    "    _n_estimators = trial.suggest_int('n_estimators', 25, 200)\n",
    "    _max_depth = trial.suggest_int('max_depth', 3, 7)\n",
    "    _learning_rate = trial.suggest_float('learning_rate', 0.01, 0.3)\n",
    "\n",
    "    xgbc = XGBClassifier(\n",
    "        max_depth=_max_depth,\n",
    "        n_estimators=_n_estimators,\n",
    "        learning_rate=_learning_rate,\n",
    "        n_jobs=-1,\n",
    "        random_state=RANDOM_STATE\n",
    "    )\n",
    "\n",
    "    scores = cross_val_score(xgbc, X, y, cv=3, scoring='accuracy')\n",
    "    return scores.mean()"
   ]
  },
  {
   "cell_type": "code",
   "execution_count": 44,
   "metadata": {
    "ExecuteTime": {
     "end_time": "2022-10-30T16:32:19.004109Z",
     "start_time": "2022-10-30T16:29:06.467662Z"
    }
   },
   "outputs": [
    {
     "name": "stderr",
     "output_type": "stream",
     "text": [
      "\u001b[32m[I 2022-10-30 19:29:06,467]\u001b[0m A new study created in memory with name: no-name-a5740dbe-0b2b-4934-aa6a-bdb129ac73bb\u001b[0m\n"
     ]
    },
    {
     "name": "stdout",
     "output_type": "stream",
     "text": [
      "Best score: 0.5828642901813633\n",
      "\n",
      "Optimized parameters: {'n_estimators': 72, 'max_depth': 4, 'learning_rate': 0.029133304985151664}\n",
      "\n"
     ]
    }
   ],
   "source": [
    "best_params = tune(xgboost_objective)"
   ]
  },
  {
   "cell_type": "markdown",
   "metadata": {},
   "source": [
    "### Вывод:\n",
    "Optuna сама подбирает подходящие гиперпараметры, заданные в определенных пределах, а не просто идет по сетке как в Grid Search. Результат accuracy на хорошем уровне как и в других оптимизациях."
   ]
  },
  {
   "cell_type": "code",
   "execution_count": null,
   "metadata": {},
   "outputs": [],
   "source": []
  },
  {
   "cell_type": "markdown",
   "metadata": {},
   "source": [
    "9.Выведите качество по метрике accuracy стэкинга (StackingClassifier) 4-х алгоритмов с базовыми параметрами градиентного бустинга."
   ]
  },
  {
   "cell_type": "code",
   "execution_count": 36,
   "metadata": {
    "ExecuteTime": {
     "end_time": "2022-10-30T16:17:00.950394Z",
     "start_time": "2022-10-30T16:17:00.928112Z"
    }
   },
   "outputs": [],
   "source": [
    "from sklearn.ensemble import StackingClassifier"
   ]
  },
  {
   "cell_type": "code",
   "execution_count": 41,
   "metadata": {
    "ExecuteTime": {
     "end_time": "2022-10-30T16:25:56.703763Z",
     "start_time": "2022-10-30T16:25:56.673991Z"
    }
   },
   "outputs": [],
   "source": [
    "estimators = [\n",
    "    ('gbc', GradientBoostingClassifier(random_state=RANDOM_STATE)),\n",
    "    ('xgbc', XGBClassifier(random_state=RANDOM_STATE)),\n",
    "    ('lgbc', LGBMClassifier(random_state=RANDOM_STATE)),\n",
    "    ('cbc', CatBoostClassifier(random_state=RANDOM_STATE, logging_level='Silent'))\n",
    "]\n",
    "clf = StackingClassifier(estimators=estimators)"
   ]
  },
  {
   "cell_type": "code",
   "execution_count": 45,
   "metadata": {
    "ExecuteTime": {
     "end_time": "2022-10-30T16:35:46.188151Z",
     "start_time": "2022-10-30T16:34:00.584805Z"
    }
   },
   "outputs": [
    {
     "data": {
      "text/plain": [
       "StackingClassifier(estimators=[('gbc',\n",
       "                                GradientBoostingClassifier(random_state=42)),\n",
       "                               ('xgbc',\n",
       "                                XGBClassifier(base_score=None, booster=None,\n",
       "                                              callbacks=None,\n",
       "                                              colsample_bylevel=None,\n",
       "                                              colsample_bynode=None,\n",
       "                                              colsample_bytree=None,\n",
       "                                              early_stopping_rounds=None,\n",
       "                                              enable_categorical=False,\n",
       "                                              eval_metric=None, gamma=None,\n",
       "                                              gpu_id=None, grow_policy=None,\n",
       "                                              importance_type=None,\n",
       "                                              inte...\n",
       "                                              max_cat_to_onehot=None,\n",
       "                                              max_delta_step=None,\n",
       "                                              max_depth=None, max_leaves=None,\n",
       "                                              min_child_weight=None,\n",
       "                                              missing=nan,\n",
       "                                              monotone_constraints=None,\n",
       "                                              n_estimators=100, n_jobs=None,\n",
       "                                              num_parallel_tree=None,\n",
       "                                              predictor=None, random_state=42,\n",
       "                                              reg_alpha=None, reg_lambda=None, ...)),\n",
       "                               ('lgbc', LGBMClassifier(random_state=42)),\n",
       "                               ('cbc',\n",
       "                                <catboost.core.CatBoostClassifier object at 0x000001CD06EA7580>)])"
      ]
     },
     "execution_count": 45,
     "metadata": {},
     "output_type": "execute_result"
    }
   ],
   "source": [
    "clf.fit(X_train, y_train)"
   ]
  },
  {
   "cell_type": "code",
   "execution_count": 47,
   "metadata": {
    "ExecuteTime": {
     "end_time": "2022-10-30T16:36:09.149266Z",
     "start_time": "2022-10-30T16:36:09.085296Z"
    }
   },
   "outputs": [
    {
     "name": "stdout",
     "output_type": "stream",
     "text": [
      "Stacking accuracy: 0.6771\n"
     ]
    }
   ],
   "source": [
    "print(f'Stacking accuracy: {clf.score(X_test, y_test):.4f}')"
   ]
  },
  {
   "cell_type": "code",
   "execution_count": null,
   "metadata": {},
   "outputs": [],
   "source": []
  },
  {
   "cell_type": "markdown",
   "metadata": {},
   "source": [
    "10.Выведите качество по метрике accuracy стэкинга 4-х алгоритмов с оптимальными параметрами градиентного бустинга. Сравните результаты с предыдущим шагом и напишите какой вывод можно из этого сделать."
   ]
  },
  {
   "cell_type": "code",
   "execution_count": 49,
   "metadata": {
    "ExecuteTime": {
     "end_time": "2022-10-30T16:40:32.664617Z",
     "start_time": "2022-10-30T16:40:32.642015Z"
    }
   },
   "outputs": [],
   "source": [
    "best_estimators = [\n",
    "    ('gbc', GradientBoostingClassifier(**srch_s.best_params_, random_state=RANDOM_STATE)),\n",
    "    ('xgbc', XGBClassifier(**srch_x.best_params_, random_state=RANDOM_STATE)),\n",
    "    ('lgbc', LGBMClassifier(**srch_l.best_params_, random_state=RANDOM_STATE)),\n",
    "    ('cbc', CatBoostClassifier(**srch_c.best_params_, random_state=RANDOM_STATE, \n",
    "                               logging_level='Silent'))\n",
    "]\n",
    "best_clf = StackingClassifier(estimators=best_estimators)"
   ]
  },
  {
   "cell_type": "code",
   "execution_count": 50,
   "metadata": {
    "ExecuteTime": {
     "end_time": "2022-10-30T16:41:34.449669Z",
     "start_time": "2022-10-30T16:40:59.241681Z"
    }
   },
   "outputs": [
    {
     "data": {
      "text/plain": [
       "StackingClassifier(estimators=[('gbc',\n",
       "                                GradientBoostingClassifier(learning_rate=0.01,\n",
       "                                                           n_estimators=150,\n",
       "                                                           random_state=42)),\n",
       "                               ('xgbc',\n",
       "                                XGBClassifier(base_score=None, booster=None,\n",
       "                                              callbacks=None,\n",
       "                                              colsample_bylevel=None,\n",
       "                                              colsample_bynode=None,\n",
       "                                              colsample_bytree=None,\n",
       "                                              early_stopping_rounds=None,\n",
       "                                              enable_categorical=False,\n",
       "                                              eval_metric=None, gamma=None,\n",
       "                                              gpu_id=None, grow_p...\n",
       "                                              max_leaves=None,\n",
       "                                              min_child_weight=None,\n",
       "                                              missing=nan,\n",
       "                                              monotone_constraints=None,\n",
       "                                              n_estimators=100, n_jobs=None,\n",
       "                                              num_parallel_tree=None,\n",
       "                                              predictor=None, random_state=42,\n",
       "                                              reg_alpha=None, reg_lambda=None, ...)),\n",
       "                               ('lgbc',\n",
       "                                LGBMClassifier(learning_rate=0.01, max_depth=3,\n",
       "                                               n_estimators=200,\n",
       "                                               random_state=42)),\n",
       "                               ('cbc',\n",
       "                                <catboost.core.CatBoostClassifier object at 0x000001CD05622D90>)])"
      ]
     },
     "execution_count": 50,
     "metadata": {},
     "output_type": "execute_result"
    }
   ],
   "source": [
    "best_clf.fit(X_train, y_train)"
   ]
  },
  {
   "cell_type": "code",
   "execution_count": 51,
   "metadata": {
    "ExecuteTime": {
     "end_time": "2022-10-30T16:41:54.569837Z",
     "start_time": "2022-10-30T16:41:54.507315Z"
    }
   },
   "outputs": [
    {
     "name": "stdout",
     "output_type": "stream",
     "text": [
      "Stacking accuracy: 0.5729\n"
     ]
    }
   ],
   "source": [
    "print(f'Stacking accuracy: {best_clf.score(X_test, y_test):.4f}')"
   ]
  },
  {
   "cell_type": "markdown",
   "metadata": {},
   "source": [
    "### Вывод:\n",
    "Удивительно, но стэкинг моделей с лучшими параметрами дал значительное снижение accuracy, возможно причина в излишнем переобучении моделей."
   ]
  }
 ],
 "metadata": {
  "kernelspec": {
   "display_name": "Python 3 (ipykernel)",
   "language": "python",
   "name": "python3"
  },
  "language_info": {
   "codemirror_mode": {
    "name": "ipython",
    "version": 3
   },
   "file_extension": ".py",
   "mimetype": "text/x-python",
   "name": "python",
   "nbconvert_exporter": "python",
   "pygments_lexer": "ipython3",
   "version": "3.9.4"
  }
 },
 "nbformat": 4,
 "nbformat_minor": 2
}
