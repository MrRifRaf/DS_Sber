{
 "cells": [
  {
   "cell_type": "markdown",
   "id": "a987c5e5",
   "metadata": {},
   "source": [
    "$ \\overline{X} = \\frac{1}{N} \\sum_{i=1}^{N} X_i $\n",
    "\n",
    "$ E(\\overline{X}) = \\frac{1}{N} \\sum_{i=1}^{N} E(X_i) = \\mu $\n",
    "\n",
    "$ D(\\overline{X}) = (bla)^2 $ "
   ]
  }
 ],
 "metadata": {
  "kernelspec": {
   "display_name": "Python 3",
   "language": "python",
   "name": "python3"
  },
  "language_info": {
   "codemirror_mode": {
    "name": "ipython",
    "version": 3
   },
   "file_extension": ".py",
   "mimetype": "text/x-python",
   "name": "python",
   "nbconvert_exporter": "python",
   "pygments_lexer": "ipython3",
   "version": "3.9.4"
  }
 },
 "nbformat": 4,
 "nbformat_minor": 5
}
